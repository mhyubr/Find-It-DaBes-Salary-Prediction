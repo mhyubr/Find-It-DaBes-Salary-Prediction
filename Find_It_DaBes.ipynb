{
  "cells": [
    {
      "cell_type": "markdown",
      "metadata": {
        "id": "view-in-github",
        "colab_type": "text"
      },
      "source": [
        "<a href=\"https://colab.research.google.com/github/mhyubr/Find-It-DaBes-Salary-Prediction/blob/main/Find_It_DaBes.ipynb\" target=\"_parent\"><img src=\"https://colab.research.google.com/assets/colab-badge.svg\" alt=\"Open In Colab\"/></a>"
      ]
    },
    {
      "cell_type": "markdown",
      "metadata": {
        "id": "VRCmifjhYe9Q"
      },
      "source": [
        "# Library"
      ]
    },
    {
      "cell_type": "code",
      "execution_count": null,
      "metadata": {
        "id": "3xwvN7cOYbsT"
      },
      "outputs": [],
      "source": [
        "import pandas as pd\n",
        "import numpy as np\n",
        "import re\n",
        "import seaborn as sns\n",
        "import matplotlib.pyplot as plt"
      ]
    },
    {
      "cell_type": "markdown",
      "metadata": {
        "id": "CtzB1l1-Ykh-"
      },
      "source": [
        "# Dataset"
      ]
    },
    {
      "cell_type": "code",
      "execution_count": null,
      "metadata": {
        "colab": {
          "base_uri": "https://localhost:8080/"
        },
        "id": "MDFxK8cFzdLF",
        "outputId": "4eae3ca1-d921-48fd-afa0-d8a67b108206"
      },
      "outputs": [
        {
          "output_type": "stream",
          "name": "stdout",
          "text": [
            "Drive already mounted at /content/drive; to attempt to forcibly remount, call drive.mount(\"/content/drive\", force_remount=True).\n"
          ]
        }
      ],
      "source": [
        "from google.colab import drive\n",
        "drive.mount('/content/drive')"
      ]
    },
    {
      "cell_type": "code",
      "execution_count": null,
      "metadata": {
        "id": "cFKZg7o2Yjdz"
      },
      "outputs": [],
      "source": [
        "train = pd.read_csv('/content/drive/MyDrive/Data Science/Dataset/train.csv', sep=\"|\")\n"
      ]
    },
    {
      "cell_type": "code",
      "execution_count": null,
      "metadata": {
        "id": "zN2wJ-iE9eVV"
      },
      "outputs": [],
      "source": [
        "# predict_case.head(2)"
      ]
    },
    {
      "cell_type": "code",
      "execution_count": null,
      "metadata": {
        "id": "ZGb9lss1-T60"
      },
      "outputs": [],
      "source": [
        "# predict_case.shape"
      ]
    },
    {
      "cell_type": "code",
      "execution_count": null,
      "metadata": {
        "id": "-VNd_oNc-q7d"
      },
      "outputs": [],
      "source": [
        "# predict_case.isna().sum()"
      ]
    },
    {
      "cell_type": "code",
      "execution_count": null,
      "metadata": {
        "colab": {
          "base_uri": "https://localhost:8080/",
          "height": 298
        },
        "id": "lyFpGbaWYwDq",
        "outputId": "82a7e07f-d4e2-48b9-ca79-6a99ef5b629c"
      },
      "outputs": [
        {
          "output_type": "execute_result",
          "data": {
            "text/plain": [
              "   id                                       job_title      location  \\\n",
              "0   1  Facility Maintenance & Smart Warehouse Manager       Bandung   \n",
              "1   2                     Procurement Department Head  Jakarta Raya   \n",
              "\n",
              "  salary_currency             career_level experience_level  \\\n",
              "0             IDR  Manajer/Asisten Manajer          5 tahun   \n",
              "1             IDR  Manajer/Asisten Manajer          5 tahun   \n",
              "\n",
              "                                     education_level employment_type  \\\n",
              "0  Sertifikat Professional, D3 (Diploma), D4 (Dip...     Penuh Waktu   \n",
              "1  Sarjana (S1), Diploma Pascasarjana, Gelar Prof...     Penuh Waktu   \n",
              "\n",
              "                              job_function job_benefits company_process_time  \\\n",
              "0                  Manufaktur,Pemeliharaan          NaN                  NaN   \n",
              "1  Manufaktur,Pembelian/Manajemen Material          NaN              25 days   \n",
              "\n",
              "       company_size         company_industry  \\\n",
              "0               NaN                      NaN   \n",
              "1  51 - 200 pekerja  Manajemen/Konsulting HR   \n",
              "\n",
              "                                     job_description  salary  \n",
              "0  Deskripsi PekerjaanRequirements :D3/SI from re...     NaN  \n",
              "1  Job Role: 1. Responsible for material availabi...     NaN  "
            ],
            "text/html": [
              "\n",
              "  <div id=\"df-24e4faab-9e3d-4f99-b5f2-76f75c3581eb\">\n",
              "    <div class=\"colab-df-container\">\n",
              "      <div>\n",
              "<style scoped>\n",
              "    .dataframe tbody tr th:only-of-type {\n",
              "        vertical-align: middle;\n",
              "    }\n",
              "\n",
              "    .dataframe tbody tr th {\n",
              "        vertical-align: top;\n",
              "    }\n",
              "\n",
              "    .dataframe thead th {\n",
              "        text-align: right;\n",
              "    }\n",
              "</style>\n",
              "<table border=\"1\" class=\"dataframe\">\n",
              "  <thead>\n",
              "    <tr style=\"text-align: right;\">\n",
              "      <th></th>\n",
              "      <th>id</th>\n",
              "      <th>job_title</th>\n",
              "      <th>location</th>\n",
              "      <th>salary_currency</th>\n",
              "      <th>career_level</th>\n",
              "      <th>experience_level</th>\n",
              "      <th>education_level</th>\n",
              "      <th>employment_type</th>\n",
              "      <th>job_function</th>\n",
              "      <th>job_benefits</th>\n",
              "      <th>company_process_time</th>\n",
              "      <th>company_size</th>\n",
              "      <th>company_industry</th>\n",
              "      <th>job_description</th>\n",
              "      <th>salary</th>\n",
              "    </tr>\n",
              "  </thead>\n",
              "  <tbody>\n",
              "    <tr>\n",
              "      <th>0</th>\n",
              "      <td>1</td>\n",
              "      <td>Facility Maintenance &amp; Smart Warehouse Manager</td>\n",
              "      <td>Bandung</td>\n",
              "      <td>IDR</td>\n",
              "      <td>Manajer/Asisten Manajer</td>\n",
              "      <td>5 tahun</td>\n",
              "      <td>Sertifikat Professional, D3 (Diploma), D4 (Dip...</td>\n",
              "      <td>Penuh Waktu</td>\n",
              "      <td>Manufaktur,Pemeliharaan</td>\n",
              "      <td>NaN</td>\n",
              "      <td>NaN</td>\n",
              "      <td>NaN</td>\n",
              "      <td>NaN</td>\n",
              "      <td>Deskripsi PekerjaanRequirements :D3/SI from re...</td>\n",
              "      <td>NaN</td>\n",
              "    </tr>\n",
              "    <tr>\n",
              "      <th>1</th>\n",
              "      <td>2</td>\n",
              "      <td>Procurement Department Head</td>\n",
              "      <td>Jakarta Raya</td>\n",
              "      <td>IDR</td>\n",
              "      <td>Manajer/Asisten Manajer</td>\n",
              "      <td>5 tahun</td>\n",
              "      <td>Sarjana (S1), Diploma Pascasarjana, Gelar Prof...</td>\n",
              "      <td>Penuh Waktu</td>\n",
              "      <td>Manufaktur,Pembelian/Manajemen Material</td>\n",
              "      <td>NaN</td>\n",
              "      <td>25 days</td>\n",
              "      <td>51 - 200 pekerja</td>\n",
              "      <td>Manajemen/Konsulting HR</td>\n",
              "      <td>Job Role: 1. Responsible for material availabi...</td>\n",
              "      <td>NaN</td>\n",
              "    </tr>\n",
              "  </tbody>\n",
              "</table>\n",
              "</div>\n",
              "      <button class=\"colab-df-convert\" onclick=\"convertToInteractive('df-24e4faab-9e3d-4f99-b5f2-76f75c3581eb')\"\n",
              "              title=\"Convert this dataframe to an interactive table.\"\n",
              "              style=\"display:none;\">\n",
              "        \n",
              "  <svg xmlns=\"http://www.w3.org/2000/svg\" height=\"24px\"viewBox=\"0 0 24 24\"\n",
              "       width=\"24px\">\n",
              "    <path d=\"M0 0h24v24H0V0z\" fill=\"none\"/>\n",
              "    <path d=\"M18.56 5.44l.94 2.06.94-2.06 2.06-.94-2.06-.94-.94-2.06-.94 2.06-2.06.94zm-11 1L8.5 8.5l.94-2.06 2.06-.94-2.06-.94L8.5 2.5l-.94 2.06-2.06.94zm10 10l.94 2.06.94-2.06 2.06-.94-2.06-.94-.94-2.06-.94 2.06-2.06.94z\"/><path d=\"M17.41 7.96l-1.37-1.37c-.4-.4-.92-.59-1.43-.59-.52 0-1.04.2-1.43.59L10.3 9.45l-7.72 7.72c-.78.78-.78 2.05 0 2.83L4 21.41c.39.39.9.59 1.41.59.51 0 1.02-.2 1.41-.59l7.78-7.78 2.81-2.81c.8-.78.8-2.07 0-2.86zM5.41 20L4 18.59l7.72-7.72 1.47 1.35L5.41 20z\"/>\n",
              "  </svg>\n",
              "      </button>\n",
              "      \n",
              "  <style>\n",
              "    .colab-df-container {\n",
              "      display:flex;\n",
              "      flex-wrap:wrap;\n",
              "      gap: 12px;\n",
              "    }\n",
              "\n",
              "    .colab-df-convert {\n",
              "      background-color: #E8F0FE;\n",
              "      border: none;\n",
              "      border-radius: 50%;\n",
              "      cursor: pointer;\n",
              "      display: none;\n",
              "      fill: #1967D2;\n",
              "      height: 32px;\n",
              "      padding: 0 0 0 0;\n",
              "      width: 32px;\n",
              "    }\n",
              "\n",
              "    .colab-df-convert:hover {\n",
              "      background-color: #E2EBFA;\n",
              "      box-shadow: 0px 1px 2px rgba(60, 64, 67, 0.3), 0px 1px 3px 1px rgba(60, 64, 67, 0.15);\n",
              "      fill: #174EA6;\n",
              "    }\n",
              "\n",
              "    [theme=dark] .colab-df-convert {\n",
              "      background-color: #3B4455;\n",
              "      fill: #D2E3FC;\n",
              "    }\n",
              "\n",
              "    [theme=dark] .colab-df-convert:hover {\n",
              "      background-color: #434B5C;\n",
              "      box-shadow: 0px 1px 3px 1px rgba(0, 0, 0, 0.15);\n",
              "      filter: drop-shadow(0px 1px 2px rgba(0, 0, 0, 0.3));\n",
              "      fill: #FFFFFF;\n",
              "    }\n",
              "  </style>\n",
              "\n",
              "      <script>\n",
              "        const buttonEl =\n",
              "          document.querySelector('#df-24e4faab-9e3d-4f99-b5f2-76f75c3581eb button.colab-df-convert');\n",
              "        buttonEl.style.display =\n",
              "          google.colab.kernel.accessAllowed ? 'block' : 'none';\n",
              "\n",
              "        async function convertToInteractive(key) {\n",
              "          const element = document.querySelector('#df-24e4faab-9e3d-4f99-b5f2-76f75c3581eb');\n",
              "          const dataTable =\n",
              "            await google.colab.kernel.invokeFunction('convertToInteractive',\n",
              "                                                     [key], {});\n",
              "          if (!dataTable) return;\n",
              "\n",
              "          const docLinkHtml = 'Like what you see? Visit the ' +\n",
              "            '<a target=\"_blank\" href=https://colab.research.google.com/notebooks/data_table.ipynb>data table notebook</a>'\n",
              "            + ' to learn more about interactive tables.';\n",
              "          element.innerHTML = '';\n",
              "          dataTable['output_type'] = 'display_data';\n",
              "          await google.colab.output.renderOutput(dataTable, element);\n",
              "          const docLink = document.createElement('div');\n",
              "          docLink.innerHTML = docLinkHtml;\n",
              "          element.appendChild(docLink);\n",
              "        }\n",
              "      </script>\n",
              "    </div>\n",
              "  </div>\n",
              "  "
            ]
          },
          "metadata": {},
          "execution_count": 669
        }
      ],
      "source": [
        "train.head(2)"
      ]
    },
    {
      "cell_type": "code",
      "execution_count": null,
      "metadata": {
        "colab": {
          "base_uri": "https://localhost:8080/"
        },
        "id": "KD1PBxBAYyfR",
        "outputId": "3f4ed884-6375-4cb2-ac44-7bbd4b0c93d4"
      },
      "outputs": [
        {
          "output_type": "stream",
          "name": "stdout",
          "text": [
            "<class 'pandas.core.frame.DataFrame'>\n",
            "RangeIndex: 31746 entries, 0 to 31745\n",
            "Data columns (total 15 columns):\n",
            " #   Column                Non-Null Count  Dtype  \n",
            "---  ------                --------------  -----  \n",
            " 0   id                    31746 non-null  int64  \n",
            " 1   job_title             31746 non-null  object \n",
            " 2   location              31746 non-null  object \n",
            " 3   salary_currency       31742 non-null  object \n",
            " 4   career_level          31746 non-null  object \n",
            " 5   experience_level      27454 non-null  object \n",
            " 6   education_level       31746 non-null  object \n",
            " 7   employment_type       30402 non-null  object \n",
            " 8   job_function          31746 non-null  object \n",
            " 9   job_benefits          25079 non-null  object \n",
            " 10  company_process_time  22602 non-null  object \n",
            " 11  company_size          26583 non-null  object \n",
            " 12  company_industry      30232 non-null  object \n",
            " 13  job_description       31745 non-null  object \n",
            " 14  salary                6352 non-null   float64\n",
            "dtypes: float64(1), int64(1), object(13)\n",
            "memory usage: 3.6+ MB\n"
          ]
        }
      ],
      "source": [
        "train.info()"
      ]
    },
    {
      "cell_type": "markdown",
      "metadata": {
        "id": "xN2q1soAa8qm"
      },
      "source": [
        "# Preprocessing"
      ]
    },
    {
      "cell_type": "markdown",
      "metadata": {
        "id": "w1nNQtova-bm"
      },
      "source": [
        "## Salary"
      ]
    },
    {
      "cell_type": "code",
      "execution_count": null,
      "metadata": {
        "id": "mb_9dGstY520"
      },
      "outputs": [],
      "source": [
        "train_non_nan_salary = train.dropna(subset = ['salary'], inplace = False)"
      ]
    },
    {
      "cell_type": "code",
      "execution_count": null,
      "metadata": {
        "colab": {
          "base_uri": "https://localhost:8080/"
        },
        "id": "UenfnetHZHrh",
        "outputId": "4239edfc-64e9-49fb-f48b-fb9a100e67d3"
      },
      "outputs": [
        {
          "output_type": "stream",
          "name": "stdout",
          "text": [
            "<class 'pandas.core.frame.DataFrame'>\n",
            "Int64Index: 6352 entries, 5 to 31744\n",
            "Data columns (total 15 columns):\n",
            " #   Column                Non-Null Count  Dtype  \n",
            "---  ------                --------------  -----  \n",
            " 0   id                    6352 non-null   int64  \n",
            " 1   job_title             6352 non-null   object \n",
            " 2   location              6352 non-null   object \n",
            " 3   salary_currency       6352 non-null   object \n",
            " 4   career_level          6352 non-null   object \n",
            " 5   experience_level      5819 non-null   object \n",
            " 6   education_level       6352 non-null   object \n",
            " 7   employment_type       6352 non-null   object \n",
            " 8   job_function          6352 non-null   object \n",
            " 9   job_benefits          4819 non-null   object \n",
            " 10  company_process_time  4204 non-null   object \n",
            " 11  company_size          5408 non-null   object \n",
            " 12  company_industry      6160 non-null   object \n",
            " 13  job_description       6352 non-null   object \n",
            " 14  salary                6352 non-null   float64\n",
            "dtypes: float64(1), int64(1), object(13)\n",
            "memory usage: 794.0+ KB\n"
          ]
        }
      ],
      "source": [
        "train_non_nan_salary.info()"
      ]
    },
    {
      "cell_type": "code",
      "execution_count": null,
      "metadata": {
        "colab": {
          "base_uri": "https://localhost:8080/",
          "height": 351
        },
        "id": "Cml990V8-4b6",
        "outputId": "879b534d-0e85-4985-8d32-ea3c11d21441"
      },
      "outputs": [
        {
          "output_type": "stream",
          "name": "stderr",
          "text": [
            "/usr/local/lib/python3.7/dist-packages/seaborn/_decorators.py:43: FutureWarning: Pass the following variable as a keyword arg: x. From version 0.12, the only valid positional argument will be `data`, and passing other arguments without an explicit keyword will result in an error or misinterpretation.\n",
            "  FutureWarning\n"
          ]
        },
        {
          "output_type": "execute_result",
          "data": {
            "text/plain": [
              "<matplotlib.axes._subplots.AxesSubplot at 0x7ff5b4a42fd0>"
            ]
          },
          "metadata": {},
          "execution_count": 673
        },
        {
          "output_type": "display_data",
          "data": {
            "text/plain": [
              "<Figure size 432x288 with 1 Axes>"
            ],
            "image/png": "[encoded data removed]"
          },
          "metadata": {
            "needs_background": "light"
          }
        }
      ],
      "source": [
        "sns.boxplot(train_non_nan_salary['salary'])"
      ]
    },
    {
      "cell_type": "code",
      "execution_count": null,
      "metadata": {
        "id": "RKuPJYzu0uAG"
      },
      "outputs": [],
      "source": [
        ""
      ]
    },
    {
      "cell_type": "markdown",
      "metadata": {
        "id": "AcRdgfc33e4o"
      },
      "source": [
        "## job_title"
      ]
    },
    {
      "cell_type": "code",
      "execution_count": null,
      "metadata": {
        "colab": {
          "base_uri": "https://localhost:8080/"
        },
        "id": "ih0FSDCW3gjx",
        "outputId": "7f519607-fa24-4ad5-f7e0-30c6616a9c4e"
      },
      "outputs": [
        {
          "output_type": "stream",
          "name": "stderr",
          "text": [
            "/usr/local/lib/python3.7/dist-packages/ipykernel_launcher.py:1: SettingWithCopyWarning: \n",
            "A value is trying to be set on a copy of a slice from a DataFrame.\n",
            "Try using .loc[row_indexer,col_indexer] = value instead\n",
            "\n",
            "See the caveats in the documentation: https://pandas.pydata.org/pandas-docs/stable/user_guide/indexing.html#returning-a-view-versus-a-copy\n",
            "  \"\"\"Entry point for launching an IPython kernel.\n"
          ]
        }
      ],
      "source": [
        "train_non_nan_salary[\"job_title\"] = train_non_nan_salary[\"job_title\"].apply(lambda item: np.NaN if item is np.NaN else str(item).lower())"
      ]
    },
    {
      "cell_type": "code",
      "execution_count": null,
      "metadata": {
        "colab": {
          "base_uri": "https://localhost:8080/"
        },
        "id": "VVtqMID0371o",
        "outputId": "5f00ed51-22ec-473d-8173-92fa52d31c5e"
      },
      "outputs": [
        {
          "output_type": "execute_result",
          "data": {
            "text/plain": [
              "4086"
            ]
          },
          "metadata": {},
          "execution_count": 675
        }
      ],
      "source": [
        "len(train_non_nan_salary['job_title'].unique())"
      ]
    },
    {
      "cell_type": "code",
      "execution_count": null,
      "metadata": {
        "colab": {
          "base_uri": "https://localhost:8080/"
        },
        "id": "bhuIqZ0K41Cs",
        "outputId": "e7867f5c-3b65-4d26-bd87-612948cdbed2"
      },
      "outputs": [
        {
          "output_type": "execute_result",
          "data": {
            "text/plain": [
              "array(['kepala pabrik', 'tax supervisor', 'accounting staff',\n",
              "       'senior staff purchasing',\n",
              "       'marketing communication & channel manager', 'mechanic', 'ppic',\n",
              "       'c# advanced/senior developer',\n",
              "       'manager tiktok shop and tiktok live',\n",
              "       'it software developer staff', 'asisten penerjemah',\n",
              "       'backend developer', 'teknik sipil',\n",
              "       'bancassurance specialist - surabaya', 'cook helper',\n",
              "       'warnen/cleaning service', 'cook',\n",
              "       'regional sales manager (jabar, jabodetabek)',\n",
              "       'distribution center manager', 'api programmer',\n",
              "       'technical designer dan estimator', 'back end engineer',\n",
              "       'taxation staff', 'education content creator',\n",
              "       'finance & accounting manager - port management - subang (a-73378)',\n",
              "       'senior infosec engineer', 'account manager', 'drafter',\n",
              "       'senior software engineer - android mobile', 'waitress/waiter',\n",
              "       'helper',\n",
              "       'digital and social media executive (travel & lifestyle pr)',\n",
              "       'sales representative', 'supervisor hrd & ga',\n",
              "       'marketing  manager head', 'sales marketing & accounting',\n",
              "       'senior financial advisor (bancassurance) - jakarta pusat, pondok kelapa, cikini, thamrin',\n",
              "       'hrd supervisor', 'finance & adminitration head', 'teknisi gedung',\n",
              "       'finance & accounting tax', 'site surveyor', 'network monitoring',\n",
              "       'compliance - risk management (major in statistics): supervisor - assistant manager – manager',\n",
              "       'it support', 'administrasi dan marketing gudang',\n",
              "       'senior associate ( ass manager )', 'teknisi maintenance (sipil)',\n",
              "       'content creator', 'mandarin translator (翻译员）'], dtype=object)"
            ]
          },
          "metadata": {},
          "execution_count": 676
        }
      ],
      "source": [
        "train_non_nan_salary['job_title'].unique()[0:50]"
      ]
    },
    {
      "cell_type": "code",
      "source": [
        "# def hapus_min(data):\n",
        "#     data_bersih = ''\n",
        "#     for i in data:\n",
        "#         if i == '-':\n",
        "#             break\n",
        "#         else:\n",
        "#             data_bersih += i\n",
        "#     return data_bersih"
      ],
      "metadata": {
        "id": "kRNypFogvyy6"
      },
      "execution_count": null,
      "outputs": []
    },
    {
      "cell_type": "code",
      "source": [
        "# def hapus_min(data):\n",
        "#   split_string = data.split(\"-\", 1)\n",
        "#   substring = split_string[0]\n",
        "#   return substring.rstrip()\n",
        "\n",
        "# hapus_min(\"bancassurance specialist - surabaya', 'cook helper'\")"
      ],
      "metadata": {
        "id": "X7C-e5p6wmBs"
      },
      "execution_count": null,
      "outputs": []
    },
    {
      "cell_type": "code",
      "execution_count": null,
      "metadata": {
        "id": "Zb45af4c5B8_"
      },
      "outputs": [],
      "source": [
        "def removeTextInsideBrackets(data):\n",
        "  data = re.sub(\"\\(.*?\\)\", \"\", data)\n",
        "  return data"
      ]
    },
    {
      "cell_type": "code",
      "execution_count": null,
      "metadata": {
        "colab": {
          "base_uri": "https://localhost:8080/"
        },
        "id": "iSLeyRbi5Cx9",
        "outputId": "29637bcf-fb8a-4eca-dd6d-c511a6f566a1"
      },
      "outputs": [
        {
          "output_type": "stream",
          "name": "stderr",
          "text": [
            "/usr/local/lib/python3.7/dist-packages/ipykernel_launcher.py:1: SettingWithCopyWarning: \n",
            "A value is trying to be set on a copy of a slice from a DataFrame.\n",
            "Try using .loc[row_indexer,col_indexer] = value instead\n",
            "\n",
            "See the caveats in the documentation: https://pandas.pydata.org/pandas-docs/stable/user_guide/indexing.html#returning-a-view-versus-a-copy\n",
            "  \"\"\"Entry point for launching an IPython kernel.\n"
          ]
        }
      ],
      "source": [
        "train_non_nan_salary[\"job_title\"] = train_non_nan_salary[\"job_title\"].apply(removeTextInsideBrackets)"
      ]
    },
    {
      "cell_type": "code",
      "execution_count": null,
      "metadata": {
        "colab": {
          "base_uri": "https://localhost:8080/"
        },
        "id": "TwOD1FeI5GSs",
        "outputId": "0b1a969a-11d4-48d5-a189-b226d72e3d78"
      },
      "outputs": [
        {
          "output_type": "execute_result",
          "data": {
            "text/plain": [
              "3940"
            ]
          },
          "metadata": {},
          "execution_count": 681
        }
      ],
      "source": [
        "len(train_non_nan_salary['job_title'].unique())"
      ]
    },
    {
      "cell_type": "code",
      "execution_count": null,
      "metadata": {
        "colab": {
          "base_uri": "https://localhost:8080/",
          "height": 280
        },
        "id": "8RGAMQtT8wMc",
        "outputId": "ce2e8dd9-9bcc-4ab1-fa54-49880e462d65"
      },
      "outputs": [
        {
          "output_type": "execute_result",
          "data": {
            "text/plain": [
              "   id       job_title    location salary_currency            career_level  \\\n",
              "5   6   kepala pabrik  Balikpapan             IDR  Supervisor/Koordinator   \n",
              "9  10  tax supervisor      Banten             IDR  Supervisor/Koordinator   \n",
              "\n",
              "  experience_level                                    education_level  \\\n",
              "5              NaN  Sertifikat Professional, D3 (Diploma), D4 (Dip...   \n",
              "9          3 tahun  Sertifikat Professional, D3 (Diploma), D4 (Dip...   \n",
              "\n",
              "  employment_type                        job_function  \\\n",
              "5     Penuh Waktu               Manufaktur,Manufaktur   \n",
              "9     Penuh Waktu  Akuntansi / Keuangan,Audit & Pajak   \n",
              "\n",
              "                                        job_benefits company_process_time  \\\n",
              "5  Asuransi kesehatan;Bisnis (contoh: Kemeja);Pro...              18 days   \n",
              "9  Tip;Asuransi kesehatan;Waktu regular, Senin - ...              22 days   \n",
              "\n",
              "       company_size            company_industry  \\\n",
              "5  51 - 200 pekerja         Manufaktur/Produksi   \n",
              "9  51 - 200 pekerja  Konstruksi/Bangunan/Teknik   \n",
              "\n",
              "                                     job_description      salary  \n",
              "5  Tedmond Groups membuka Lowongan Kepala Pabrik,...  10500000.0  \n",
              "9  ResponsibilitiesPrepare corporate income tax (...   8000000.0  "
            ],
            "text/html": [
              "\n",
              "  <div id=\"df-a6e3e1de-65a7-4eea-bc41-f9632261533c\">\n",
              "    <div class=\"colab-df-container\">\n",
              "      <div>\n",
              "<style scoped>\n",
              "    .dataframe tbody tr th:only-of-type {\n",
              "        vertical-align: middle;\n",
              "    }\n",
              "\n",
              "    .dataframe tbody tr th {\n",
              "        vertical-align: top;\n",
              "    }\n",
              "\n",
              "    .dataframe thead th {\n",
              "        text-align: right;\n",
              "    }\n",
              "</style>\n",
              "<table border=\"1\" class=\"dataframe\">\n",
              "  <thead>\n",
              "    <tr style=\"text-align: right;\">\n",
              "      <th></th>\n",
              "      <th>id</th>\n",
              "      <th>job_title</th>\n",
              "      <th>location</th>\n",
              "      <th>salary_currency</th>\n",
              "      <th>career_level</th>\n",
              "      <th>experience_level</th>\n",
              "      <th>education_level</th>\n",
              "      <th>employment_type</th>\n",
              "      <th>job_function</th>\n",
              "      <th>job_benefits</th>\n",
              "      <th>company_process_time</th>\n",
              "      <th>company_size</th>\n",
              "      <th>company_industry</th>\n",
              "      <th>job_description</th>\n",
              "      <th>salary</th>\n",
              "    </tr>\n",
              "  </thead>\n",
              "  <tbody>\n",
              "    <tr>\n",
              "      <th>5</th>\n",
              "      <td>6</td>\n",
              "      <td>kepala pabrik</td>\n",
              "      <td>Balikpapan</td>\n",
              "      <td>IDR</td>\n",
              "      <td>Supervisor/Koordinator</td>\n",
              "      <td>NaN</td>\n",
              "      <td>Sertifikat Professional, D3 (Diploma), D4 (Dip...</td>\n",
              "      <td>Penuh Waktu</td>\n",
              "      <td>Manufaktur,Manufaktur</td>\n",
              "      <td>Asuransi kesehatan;Bisnis (contoh: Kemeja);Pro...</td>\n",
              "      <td>18 days</td>\n",
              "      <td>51 - 200 pekerja</td>\n",
              "      <td>Manufaktur/Produksi</td>\n",
              "      <td>Tedmond Groups membuka Lowongan Kepala Pabrik,...</td>\n",
              "      <td>10500000.0</td>\n",
              "    </tr>\n",
              "    <tr>\n",
              "      <th>9</th>\n",
              "      <td>10</td>\n",
              "      <td>tax supervisor</td>\n",
              "      <td>Banten</td>\n",
              "      <td>IDR</td>\n",
              "      <td>Supervisor/Koordinator</td>\n",
              "      <td>3 tahun</td>\n",
              "      <td>Sertifikat Professional, D3 (Diploma), D4 (Dip...</td>\n",
              "      <td>Penuh Waktu</td>\n",
              "      <td>Akuntansi / Keuangan,Audit &amp; Pajak</td>\n",
              "      <td>Tip;Asuransi kesehatan;Waktu regular, Senin - ...</td>\n",
              "      <td>22 days</td>\n",
              "      <td>51 - 200 pekerja</td>\n",
              "      <td>Konstruksi/Bangunan/Teknik</td>\n",
              "      <td>ResponsibilitiesPrepare corporate income tax (...</td>\n",
              "      <td>8000000.0</td>\n",
              "    </tr>\n",
              "  </tbody>\n",
              "</table>\n",
              "</div>\n",
              "      <button class=\"colab-df-convert\" onclick=\"convertToInteractive('df-a6e3e1de-65a7-4eea-bc41-f9632261533c')\"\n",
              "              title=\"Convert this dataframe to an interactive table.\"\n",
              "              style=\"display:none;\">\n",
              "        \n",
              "  <svg xmlns=\"http://www.w3.org/2000/svg\" height=\"24px\"viewBox=\"0 0 24 24\"\n",
              "       width=\"24px\">\n",
              "    <path d=\"M0 0h24v24H0V0z\" fill=\"none\"/>\n",
              "    <path d=\"M18.56 5.44l.94 2.06.94-2.06 2.06-.94-2.06-.94-.94-2.06-.94 2.06-2.06.94zm-11 1L8.5 8.5l.94-2.06 2.06-.94-2.06-.94L8.5 2.5l-.94 2.06-2.06.94zm10 10l.94 2.06.94-2.06 2.06-.94-2.06-.94-.94-2.06-.94 2.06-2.06.94z\"/><path d=\"M17.41 7.96l-1.37-1.37c-.4-.4-.92-.59-1.43-.59-.52 0-1.04.2-1.43.59L10.3 9.45l-7.72 7.72c-.78.78-.78 2.05 0 2.83L4 21.41c.39.39.9.59 1.41.59.51 0 1.02-.2 1.41-.59l7.78-7.78 2.81-2.81c.8-.78.8-2.07 0-2.86zM5.41 20L4 18.59l7.72-7.72 1.47 1.35L5.41 20z\"/>\n",
              "  </svg>\n",
              "      </button>\n",
              "      \n",
              "  <style>\n",
              "    .colab-df-container {\n",
              "      display:flex;\n",
              "      flex-wrap:wrap;\n",
              "      gap: 12px;\n",
              "    }\n",
              "\n",
              "    .colab-df-convert {\n",
              "      background-color: #E8F0FE;\n",
              "      border: none;\n",
              "      border-radius: 50%;\n",
              "      cursor: pointer;\n",
              "      display: none;\n",
              "      fill: #1967D2;\n",
              "      height: 32px;\n",
              "      padding: 0 0 0 0;\n",
              "      width: 32px;\n",
              "    }\n",
              "\n",
              "    .colab-df-convert:hover {\n",
              "      background-color: #E2EBFA;\n",
              "      box-shadow: 0px 1px 2px rgba(60, 64, 67, 0.3), 0px 1px 3px 1px rgba(60, 64, 67, 0.15);\n",
              "      fill: #174EA6;\n",
              "    }\n",
              "\n",
              "    [theme=dark] .colab-df-convert {\n",
              "      background-color: #3B4455;\n",
              "      fill: #D2E3FC;\n",
              "    }\n",
              "\n",
              "    [theme=dark] .colab-df-convert:hover {\n",
              "      background-color: #434B5C;\n",
              "      box-shadow: 0px 1px 3px 1px rgba(0, 0, 0, 0.15);\n",
              "      filter: drop-shadow(0px 1px 2px rgba(0, 0, 0, 0.3));\n",
              "      fill: #FFFFFF;\n",
              "    }\n",
              "  </style>\n",
              "\n",
              "      <script>\n",
              "        const buttonEl =\n",
              "          document.querySelector('#df-a6e3e1de-65a7-4eea-bc41-f9632261533c button.colab-df-convert');\n",
              "        buttonEl.style.display =\n",
              "          google.colab.kernel.accessAllowed ? 'block' : 'none';\n",
              "\n",
              "        async function convertToInteractive(key) {\n",
              "          const element = document.querySelector('#df-a6e3e1de-65a7-4eea-bc41-f9632261533c');\n",
              "          const dataTable =\n",
              "            await google.colab.kernel.invokeFunction('convertToInteractive',\n",
              "                                                     [key], {});\n",
              "          if (!dataTable) return;\n",
              "\n",
              "          const docLinkHtml = 'Like what you see? Visit the ' +\n",
              "            '<a target=\"_blank\" href=https://colab.research.google.com/notebooks/data_table.ipynb>data table notebook</a>'\n",
              "            + ' to learn more about interactive tables.';\n",
              "          element.innerHTML = '';\n",
              "          dataTable['output_type'] = 'display_data';\n",
              "          await google.colab.output.renderOutput(dataTable, element);\n",
              "          const docLink = document.createElement('div');\n",
              "          docLink.innerHTML = docLinkHtml;\n",
              "          element.appendChild(docLink);\n",
              "        }\n",
              "      </script>\n",
              "    </div>\n",
              "  </div>\n",
              "  "
            ]
          },
          "metadata": {},
          "execution_count": 682
        }
      ],
      "source": [
        "train_non_nan_salary.head(2)"
      ]
    },
    {
      "cell_type": "markdown",
      "metadata": {
        "id": "09x4sPU-bD_O"
      },
      "source": [
        "## salary_currency"
      ]
    },
    {
      "cell_type": "code",
      "execution_count": null,
      "metadata": {
        "colab": {
          "base_uri": "https://localhost:8080/"
        },
        "id": "g-2Ey6wdabz3",
        "outputId": "d248e88f-ba3c-4a88-b212-7ac8ef48e9d6"
      },
      "outputs": [
        {
          "output_type": "execute_result",
          "data": {
            "text/plain": [
              "array(['IDR', 'USD'], dtype=object)"
            ]
          },
          "metadata": {},
          "execution_count": 683
        }
      ],
      "source": [
        "train_non_nan_salary['salary_currency'].unique()"
      ]
    },
    {
      "cell_type": "code",
      "execution_count": null,
      "metadata": {
        "colab": {
          "base_uri": "https://localhost:8080/",
          "height": 298
        },
        "id": "YJFJxt_nbQGq",
        "outputId": "edbdd995-25f9-4baf-9d1e-08e427b435eb"
      },
      "outputs": [
        {
          "output_type": "execute_result",
          "data": {
            "text/plain": [
              "          id                                job_title       location  \\\n",
              "162      163      digital and social media executive   Jakarta Pusat   \n",
              "30895  30896  registered nurse aesthetic and wellness           Bali   \n",
              "\n",
              "      salary_currency                              career_level  \\\n",
              "162               USD  Pegawai (non-manajemen & non-supervisor)   \n",
              "30895             USD  Pegawai (non-manajemen & non-supervisor)   \n",
              "\n",
              "      experience_level education_level employment_type  \\\n",
              "162            2 tahun    Sarjana (S1)     Penuh Waktu   \n",
              "30895          2 tahun    Sarjana (S1)     Penuh Waktu   \n",
              "\n",
              "                                   job_function  \\\n",
              "162     Penjualan / Pemasaran,Digital Marketing   \n",
              "30895  Layanan Kesehatan,Praktisi/Asisten Medis   \n",
              "\n",
              "                                job_benefits company_process_time  \\\n",
              "162             Waktu regular, Senin - Jumat              29 days   \n",
              "30895  Tip;Bisnis (contoh: Kemeja);Mon - Sat                  NaN   \n",
              "\n",
              "        company_size                                  company_industry  \\\n",
              "162    1- 50 pekerja  Periklanan/Marketing/Promosi/Hubungan Masyarakat   \n",
              "30895  1- 50 pekerja                       Perawatan/Kecantikan/Fitnes   \n",
              "\n",
              "                                         job_description  salary  \n",
              "162    DIGITAL / SOCIAL MEDIA EXECUTIVEWe are recruit...   665.0  \n",
              "30895  Registered Nurse Aesthetic and WellnessMaldive...  1005.0  "
            ],
            "text/html": [
              "\n",
              "  <div id=\"df-4444652c-3ce2-4d21-9165-4a25e242678c\">\n",
              "    <div class=\"colab-df-container\">\n",
              "      <div>\n",
              "<style scoped>\n",
              "    .dataframe tbody tr th:only-of-type {\n",
              "        vertical-align: middle;\n",
              "    }\n",
              "\n",
              "    .dataframe tbody tr th {\n",
              "        vertical-align: top;\n",
              "    }\n",
              "\n",
              "    .dataframe thead th {\n",
              "        text-align: right;\n",
              "    }\n",
              "</style>\n",
              "<table border=\"1\" class=\"dataframe\">\n",
              "  <thead>\n",
              "    <tr style=\"text-align: right;\">\n",
              "      <th></th>\n",
              "      <th>id</th>\n",
              "      <th>job_title</th>\n",
              "      <th>location</th>\n",
              "      <th>salary_currency</th>\n",
              "      <th>career_level</th>\n",
              "      <th>experience_level</th>\n",
              "      <th>education_level</th>\n",
              "      <th>employment_type</th>\n",
              "      <th>job_function</th>\n",
              "      <th>job_benefits</th>\n",
              "      <th>company_process_time</th>\n",
              "      <th>company_size</th>\n",
              "      <th>company_industry</th>\n",
              "      <th>job_description</th>\n",
              "      <th>salary</th>\n",
              "    </tr>\n",
              "  </thead>\n",
              "  <tbody>\n",
              "    <tr>\n",
              "      <th>162</th>\n",
              "      <td>163</td>\n",
              "      <td>digital and social media executive</td>\n",
              "      <td>Jakarta Pusat</td>\n",
              "      <td>USD</td>\n",
              "      <td>Pegawai (non-manajemen &amp; non-supervisor)</td>\n",
              "      <td>2 tahun</td>\n",
              "      <td>Sarjana (S1)</td>\n",
              "      <td>Penuh Waktu</td>\n",
              "      <td>Penjualan / Pemasaran,Digital Marketing</td>\n",
              "      <td>Waktu regular, Senin - Jumat</td>\n",
              "      <td>29 days</td>\n",
              "      <td>1- 50 pekerja</td>\n",
              "      <td>Periklanan/Marketing/Promosi/Hubungan Masyarakat</td>\n",
              "      <td>DIGITAL / SOCIAL MEDIA EXECUTIVEWe are recruit...</td>\n",
              "      <td>665.0</td>\n",
              "    </tr>\n",
              "    <tr>\n",
              "      <th>30895</th>\n",
              "      <td>30896</td>\n",
              "      <td>registered nurse aesthetic and wellness</td>\n",
              "      <td>Bali</td>\n",
              "      <td>USD</td>\n",
              "      <td>Pegawai (non-manajemen &amp; non-supervisor)</td>\n",
              "      <td>2 tahun</td>\n",
              "      <td>Sarjana (S1)</td>\n",
              "      <td>Penuh Waktu</td>\n",
              "      <td>Layanan Kesehatan,Praktisi/Asisten Medis</td>\n",
              "      <td>Tip;Bisnis (contoh: Kemeja);Mon - Sat</td>\n",
              "      <td>NaN</td>\n",
              "      <td>1- 50 pekerja</td>\n",
              "      <td>Perawatan/Kecantikan/Fitnes</td>\n",
              "      <td>Registered Nurse Aesthetic and WellnessMaldive...</td>\n",
              "      <td>1005.0</td>\n",
              "    </tr>\n",
              "  </tbody>\n",
              "</table>\n",
              "</div>\n",
              "      <button class=\"colab-df-convert\" onclick=\"convertToInteractive('df-4444652c-3ce2-4d21-9165-4a25e242678c')\"\n",
              "              title=\"Convert this dataframe to an interactive table.\"\n",
              "              style=\"display:none;\">\n",
              "        \n",
              "  <svg xmlns=\"http://www.w3.org/2000/svg\" height=\"24px\"viewBox=\"0 0 24 24\"\n",
              "       width=\"24px\">\n",
              "    <path d=\"M0 0h24v24H0V0z\" fill=\"none\"/>\n",
              "    <path d=\"M18.56 5.44l.94 2.06.94-2.06 2.06-.94-2.06-.94-.94-2.06-.94 2.06-2.06.94zm-11 1L8.5 8.5l.94-2.06 2.06-.94-2.06-.94L8.5 2.5l-.94 2.06-2.06.94zm10 10l.94 2.06.94-2.06 2.06-.94-2.06-.94-.94-2.06-.94 2.06-2.06.94z\"/><path d=\"M17.41 7.96l-1.37-1.37c-.4-.4-.92-.59-1.43-.59-.52 0-1.04.2-1.43.59L10.3 9.45l-7.72 7.72c-.78.78-.78 2.05 0 2.83L4 21.41c.39.39.9.59 1.41.59.51 0 1.02-.2 1.41-.59l7.78-7.78 2.81-2.81c.8-.78.8-2.07 0-2.86zM5.41 20L4 18.59l7.72-7.72 1.47 1.35L5.41 20z\"/>\n",
              "  </svg>\n",
              "      </button>\n",
              "      \n",
              "  <style>\n",
              "    .colab-df-container {\n",
              "      display:flex;\n",
              "      flex-wrap:wrap;\n",
              "      gap: 12px;\n",
              "    }\n",
              "\n",
              "    .colab-df-convert {\n",
              "      background-color: #E8F0FE;\n",
              "      border: none;\n",
              "      border-radius: 50%;\n",
              "      cursor: pointer;\n",
              "      display: none;\n",
              "      fill: #1967D2;\n",
              "      height: 32px;\n",
              "      padding: 0 0 0 0;\n",
              "      width: 32px;\n",
              "    }\n",
              "\n",
              "    .colab-df-convert:hover {\n",
              "      background-color: #E2EBFA;\n",
              "      box-shadow: 0px 1px 2px rgba(60, 64, 67, 0.3), 0px 1px 3px 1px rgba(60, 64, 67, 0.15);\n",
              "      fill: #174EA6;\n",
              "    }\n",
              "\n",
              "    [theme=dark] .colab-df-convert {\n",
              "      background-color: #3B4455;\n",
              "      fill: #D2E3FC;\n",
              "    }\n",
              "\n",
              "    [theme=dark] .colab-df-convert:hover {\n",
              "      background-color: #434B5C;\n",
              "      box-shadow: 0px 1px 3px 1px rgba(0, 0, 0, 0.15);\n",
              "      filter: drop-shadow(0px 1px 2px rgba(0, 0, 0, 0.3));\n",
              "      fill: #FFFFFF;\n",
              "    }\n",
              "  </style>\n",
              "\n",
              "      <script>\n",
              "        const buttonEl =\n",
              "          document.querySelector('#df-4444652c-3ce2-4d21-9165-4a25e242678c button.colab-df-convert');\n",
              "        buttonEl.style.display =\n",
              "          google.colab.kernel.accessAllowed ? 'block' : 'none';\n",
              "\n",
              "        async function convertToInteractive(key) {\n",
              "          const element = document.querySelector('#df-4444652c-3ce2-4d21-9165-4a25e242678c');\n",
              "          const dataTable =\n",
              "            await google.colab.kernel.invokeFunction('convertToInteractive',\n",
              "                                                     [key], {});\n",
              "          if (!dataTable) return;\n",
              "\n",
              "          const docLinkHtml = 'Like what you see? Visit the ' +\n",
              "            '<a target=\"_blank\" href=https://colab.research.google.com/notebooks/data_table.ipynb>data table notebook</a>'\n",
              "            + ' to learn more about interactive tables.';\n",
              "          element.innerHTML = '';\n",
              "          dataTable['output_type'] = 'display_data';\n",
              "          await google.colab.output.renderOutput(dataTable, element);\n",
              "          const docLink = document.createElement('div');\n",
              "          docLink.innerHTML = docLinkHtml;\n",
              "          element.appendChild(docLink);\n",
              "        }\n",
              "      </script>\n",
              "    </div>\n",
              "  </div>\n",
              "  "
            ]
          },
          "metadata": {},
          "execution_count": 684
        }
      ],
      "source": [
        "train_non_nan_salary[train_non_nan_salary['salary_currency'] == 'USD']"
      ]
    },
    {
      "cell_type": "code",
      "execution_count": null,
      "metadata": {
        "id": "sPbQV5VWeEaT"
      },
      "outputs": [],
      "source": [
        "train_new = train_non_nan_salary.drop(train_non_nan_salary[(train_non_nan_salary['salary'] < 2000) & (train_non_nan_salary['salary_currency'] == 'IDR')].index)"
      ]
    },
    {
      "cell_type": "code",
      "execution_count": null,
      "metadata": {
        "colab": {
          "base_uri": "https://localhost:8080/",
          "height": 298
        },
        "id": "KqJAGcAheTdK",
        "outputId": "bf031375-8c9f-4eba-ba43-639f35f194b9"
      },
      "outputs": [
        {
          "output_type": "execute_result",
          "data": {
            "text/plain": [
              "          id                                job_title       location  \\\n",
              "162      163      digital and social media executive   Jakarta Pusat   \n",
              "30895  30896  registered nurse aesthetic and wellness           Bali   \n",
              "\n",
              "      salary_currency                              career_level  \\\n",
              "162               USD  Pegawai (non-manajemen & non-supervisor)   \n",
              "30895             USD  Pegawai (non-manajemen & non-supervisor)   \n",
              "\n",
              "      experience_level education_level employment_type  \\\n",
              "162            2 tahun    Sarjana (S1)     Penuh Waktu   \n",
              "30895          2 tahun    Sarjana (S1)     Penuh Waktu   \n",
              "\n",
              "                                   job_function  \\\n",
              "162     Penjualan / Pemasaran,Digital Marketing   \n",
              "30895  Layanan Kesehatan,Praktisi/Asisten Medis   \n",
              "\n",
              "                                job_benefits company_process_time  \\\n",
              "162             Waktu regular, Senin - Jumat              29 days   \n",
              "30895  Tip;Bisnis (contoh: Kemeja);Mon - Sat                  NaN   \n",
              "\n",
              "        company_size                                  company_industry  \\\n",
              "162    1- 50 pekerja  Periklanan/Marketing/Promosi/Hubungan Masyarakat   \n",
              "30895  1- 50 pekerja                       Perawatan/Kecantikan/Fitnes   \n",
              "\n",
              "                                         job_description  salary  \n",
              "162    DIGITAL / SOCIAL MEDIA EXECUTIVEWe are recruit...   665.0  \n",
              "30895  Registered Nurse Aesthetic and WellnessMaldive...  1005.0  "
            ],
            "text/html": [
              "\n",
              "  <div id=\"df-75cd7f11-a91d-423f-9020-7a5a32fa25f9\">\n",
              "    <div class=\"colab-df-container\">\n",
              "      <div>\n",
              "<style scoped>\n",
              "    .dataframe tbody tr th:only-of-type {\n",
              "        vertical-align: middle;\n",
              "    }\n",
              "\n",
              "    .dataframe tbody tr th {\n",
              "        vertical-align: top;\n",
              "    }\n",
              "\n",
              "    .dataframe thead th {\n",
              "        text-align: right;\n",
              "    }\n",
              "</style>\n",
              "<table border=\"1\" class=\"dataframe\">\n",
              "  <thead>\n",
              "    <tr style=\"text-align: right;\">\n",
              "      <th></th>\n",
              "      <th>id</th>\n",
              "      <th>job_title</th>\n",
              "      <th>location</th>\n",
              "      <th>salary_currency</th>\n",
              "      <th>career_level</th>\n",
              "      <th>experience_level</th>\n",
              "      <th>education_level</th>\n",
              "      <th>employment_type</th>\n",
              "      <th>job_function</th>\n",
              "      <th>job_benefits</th>\n",
              "      <th>company_process_time</th>\n",
              "      <th>company_size</th>\n",
              "      <th>company_industry</th>\n",
              "      <th>job_description</th>\n",
              "      <th>salary</th>\n",
              "    </tr>\n",
              "  </thead>\n",
              "  <tbody>\n",
              "    <tr>\n",
              "      <th>162</th>\n",
              "      <td>163</td>\n",
              "      <td>digital and social media executive</td>\n",
              "      <td>Jakarta Pusat</td>\n",
              "      <td>USD</td>\n",
              "      <td>Pegawai (non-manajemen &amp; non-supervisor)</td>\n",
              "      <td>2 tahun</td>\n",
              "      <td>Sarjana (S1)</td>\n",
              "      <td>Penuh Waktu</td>\n",
              "      <td>Penjualan / Pemasaran,Digital Marketing</td>\n",
              "      <td>Waktu regular, Senin - Jumat</td>\n",
              "      <td>29 days</td>\n",
              "      <td>1- 50 pekerja</td>\n",
              "      <td>Periklanan/Marketing/Promosi/Hubungan Masyarakat</td>\n",
              "      <td>DIGITAL / SOCIAL MEDIA EXECUTIVEWe are recruit...</td>\n",
              "      <td>665.0</td>\n",
              "    </tr>\n",
              "    <tr>\n",
              "      <th>30895</th>\n",
              "      <td>30896</td>\n",
              "      <td>registered nurse aesthetic and wellness</td>\n",
              "      <td>Bali</td>\n",
              "      <td>USD</td>\n",
              "      <td>Pegawai (non-manajemen &amp; non-supervisor)</td>\n",
              "      <td>2 tahun</td>\n",
              "      <td>Sarjana (S1)</td>\n",
              "      <td>Penuh Waktu</td>\n",
              "      <td>Layanan Kesehatan,Praktisi/Asisten Medis</td>\n",
              "      <td>Tip;Bisnis (contoh: Kemeja);Mon - Sat</td>\n",
              "      <td>NaN</td>\n",
              "      <td>1- 50 pekerja</td>\n",
              "      <td>Perawatan/Kecantikan/Fitnes</td>\n",
              "      <td>Registered Nurse Aesthetic and WellnessMaldive...</td>\n",
              "      <td>1005.0</td>\n",
              "    </tr>\n",
              "  </tbody>\n",
              "</table>\n",
              "</div>\n",
              "      <button class=\"colab-df-convert\" onclick=\"convertToInteractive('df-75cd7f11-a91d-423f-9020-7a5a32fa25f9')\"\n",
              "              title=\"Convert this dataframe to an interactive table.\"\n",
              "              style=\"display:none;\">\n",
              "        \n",
              "  <svg xmlns=\"http://www.w3.org/2000/svg\" height=\"24px\"viewBox=\"0 0 24 24\"\n",
              "       width=\"24px\">\n",
              "    <path d=\"M0 0h24v24H0V0z\" fill=\"none\"/>\n",
              "    <path d=\"M18.56 5.44l.94 2.06.94-2.06 2.06-.94-2.06-.94-.94-2.06-.94 2.06-2.06.94zm-11 1L8.5 8.5l.94-2.06 2.06-.94-2.06-.94L8.5 2.5l-.94 2.06-2.06.94zm10 10l.94 2.06.94-2.06 2.06-.94-2.06-.94-.94-2.06-.94 2.06-2.06.94z\"/><path d=\"M17.41 7.96l-1.37-1.37c-.4-.4-.92-.59-1.43-.59-.52 0-1.04.2-1.43.59L10.3 9.45l-7.72 7.72c-.78.78-.78 2.05 0 2.83L4 21.41c.39.39.9.59 1.41.59.51 0 1.02-.2 1.41-.59l7.78-7.78 2.81-2.81c.8-.78.8-2.07 0-2.86zM5.41 20L4 18.59l7.72-7.72 1.47 1.35L5.41 20z\"/>\n",
              "  </svg>\n",
              "      </button>\n",
              "      \n",
              "  <style>\n",
              "    .colab-df-container {\n",
              "      display:flex;\n",
              "      flex-wrap:wrap;\n",
              "      gap: 12px;\n",
              "    }\n",
              "\n",
              "    .colab-df-convert {\n",
              "      background-color: #E8F0FE;\n",
              "      border: none;\n",
              "      border-radius: 50%;\n",
              "      cursor: pointer;\n",
              "      display: none;\n",
              "      fill: #1967D2;\n",
              "      height: 32px;\n",
              "      padding: 0 0 0 0;\n",
              "      width: 32px;\n",
              "    }\n",
              "\n",
              "    .colab-df-convert:hover {\n",
              "      background-color: #E2EBFA;\n",
              "      box-shadow: 0px 1px 2px rgba(60, 64, 67, 0.3), 0px 1px 3px 1px rgba(60, 64, 67, 0.15);\n",
              "      fill: #174EA6;\n",
              "    }\n",
              "\n",
              "    [theme=dark] .colab-df-convert {\n",
              "      background-color: #3B4455;\n",
              "      fill: #D2E3FC;\n",
              "    }\n",
              "\n",
              "    [theme=dark] .colab-df-convert:hover {\n",
              "      background-color: #434B5C;\n",
              "      box-shadow: 0px 1px 3px 1px rgba(0, 0, 0, 0.15);\n",
              "      filter: drop-shadow(0px 1px 2px rgba(0, 0, 0, 0.3));\n",
              "      fill: #FFFFFF;\n",
              "    }\n",
              "  </style>\n",
              "\n",
              "      <script>\n",
              "        const buttonEl =\n",
              "          document.querySelector('#df-75cd7f11-a91d-423f-9020-7a5a32fa25f9 button.colab-df-convert');\n",
              "        buttonEl.style.display =\n",
              "          google.colab.kernel.accessAllowed ? 'block' : 'none';\n",
              "\n",
              "        async function convertToInteractive(key) {\n",
              "          const element = document.querySelector('#df-75cd7f11-a91d-423f-9020-7a5a32fa25f9');\n",
              "          const dataTable =\n",
              "            await google.colab.kernel.invokeFunction('convertToInteractive',\n",
              "                                                     [key], {});\n",
              "          if (!dataTable) return;\n",
              "\n",
              "          const docLinkHtml = 'Like what you see? Visit the ' +\n",
              "            '<a target=\"_blank\" href=https://colab.research.google.com/notebooks/data_table.ipynb>data table notebook</a>'\n",
              "            + ' to learn more about interactive tables.';\n",
              "          element.innerHTML = '';\n",
              "          dataTable['output_type'] = 'display_data';\n",
              "          await google.colab.output.renderOutput(dataTable, element);\n",
              "          const docLink = document.createElement('div');\n",
              "          docLink.innerHTML = docLinkHtml;\n",
              "          element.appendChild(docLink);\n",
              "        }\n",
              "      </script>\n",
              "    </div>\n",
              "  </div>\n",
              "  "
            ]
          },
          "metadata": {},
          "execution_count": 686
        }
      ],
      "source": [
        "train_new[train_new['salary'] < 2000]"
      ]
    },
    {
      "cell_type": "code",
      "execution_count": null,
      "metadata": {
        "id": "NaFNKCdjgDut"
      },
      "outputs": [],
      "source": [
        "train_new.loc[train_new[\"salary_currency\"] == 'USD', \"salary\"] = train_new.loc[train_new[\"salary\"] < 2000]*14000"
      ]
    },
    {
      "cell_type": "code",
      "execution_count": null,
      "metadata": {
        "id": "sIBBCPDshEJJ"
      },
      "outputs": [],
      "source": [
        "train_new.drop('salary_currency', axis=1, inplace=True)"
      ]
    },
    {
      "cell_type": "code",
      "execution_count": null,
      "metadata": {
        "colab": {
          "base_uri": "https://localhost:8080/",
          "height": 381
        },
        "id": "ES2fw83khZIK",
        "outputId": "0a162f2d-32bc-4e3f-a869-4d107f188fbd"
      },
      "outputs": [
        {
          "output_type": "execute_result",
          "data": {
            "text/plain": [
              "    id         job_title       location  \\\n",
              "5    6     kepala pabrik     Balikpapan   \n",
              "9   10    tax supervisor         Banten   \n",
              "18  19  accounting staff  Jakarta Pusat   \n",
              "\n",
              "                                career_level experience_level  \\\n",
              "5                     Supervisor/Koordinator              NaN   \n",
              "9                     Supervisor/Koordinator          3 tahun   \n",
              "18  Pegawai (non-manajemen & non-supervisor)          1 tahun   \n",
              "\n",
              "                                      education_level employment_type  \\\n",
              "5   Sertifikat Professional, D3 (Diploma), D4 (Dip...     Penuh Waktu   \n",
              "9   Sertifikat Professional, D3 (Diploma), D4 (Dip...     Penuh Waktu   \n",
              "18  SMA, SMU/SMK/STM, Sertifikat Professional, D3 ...     Penuh Waktu   \n",
              "\n",
              "                                        job_function  \\\n",
              "5                              Manufaktur,Manufaktur   \n",
              "9                 Akuntansi / Keuangan,Audit & Pajak   \n",
              "18  Akuntansi / Keuangan,Akuntansi Umum / Pembiayaan   \n",
              "\n",
              "                                         job_benefits company_process_time  \\\n",
              "5   Asuransi kesehatan;Bisnis (contoh: Kemeja);Pro...              18 days   \n",
              "9   Tip;Asuransi kesehatan;Waktu regular, Senin - ...              22 days   \n",
              "18  Tip;Asuransi kesehatan;Bisnis (contoh: Kemeja)...                  NaN   \n",
              "\n",
              "        company_size            company_industry  \\\n",
              "5   51 - 200 pekerja         Manufaktur/Produksi   \n",
              "9   51 - 200 pekerja  Konstruksi/Bangunan/Teknik   \n",
              "18     1- 50 pekerja         Manufaktur/Produksi   \n",
              "\n",
              "                                      job_description      salary  \n",
              "5   Tedmond Groups membuka Lowongan Kepala Pabrik,...  10500000.0  \n",
              "9   ResponsibilitiesPrepare corporate income tax (...   8000000.0  \n",
              "18  DESKRIPSI PEKERJAAN:Memeriksa dan/atau membuat...   4750000.0  "
            ],
            "text/html": [
              "\n",
              "  <div id=\"df-d6034bb1-39b6-45c3-a168-f88a6041d1cc\">\n",
              "    <div class=\"colab-df-container\">\n",
              "      <div>\n",
              "<style scoped>\n",
              "    .dataframe tbody tr th:only-of-type {\n",
              "        vertical-align: middle;\n",
              "    }\n",
              "\n",
              "    .dataframe tbody tr th {\n",
              "        vertical-align: top;\n",
              "    }\n",
              "\n",
              "    .dataframe thead th {\n",
              "        text-align: right;\n",
              "    }\n",
              "</style>\n",
              "<table border=\"1\" class=\"dataframe\">\n",
              "  <thead>\n",
              "    <tr style=\"text-align: right;\">\n",
              "      <th></th>\n",
              "      <th>id</th>\n",
              "      <th>job_title</th>\n",
              "      <th>location</th>\n",
              "      <th>career_level</th>\n",
              "      <th>experience_level</th>\n",
              "      <th>education_level</th>\n",
              "      <th>employment_type</th>\n",
              "      <th>job_function</th>\n",
              "      <th>job_benefits</th>\n",
              "      <th>company_process_time</th>\n",
              "      <th>company_size</th>\n",
              "      <th>company_industry</th>\n",
              "      <th>job_description</th>\n",
              "      <th>salary</th>\n",
              "    </tr>\n",
              "  </thead>\n",
              "  <tbody>\n",
              "    <tr>\n",
              "      <th>5</th>\n",
              "      <td>6</td>\n",
              "      <td>kepala pabrik</td>\n",
              "      <td>Balikpapan</td>\n",
              "      <td>Supervisor/Koordinator</td>\n",
              "      <td>NaN</td>\n",
              "      <td>Sertifikat Professional, D3 (Diploma), D4 (Dip...</td>\n",
              "      <td>Penuh Waktu</td>\n",
              "      <td>Manufaktur,Manufaktur</td>\n",
              "      <td>Asuransi kesehatan;Bisnis (contoh: Kemeja);Pro...</td>\n",
              "      <td>18 days</td>\n",
              "      <td>51 - 200 pekerja</td>\n",
              "      <td>Manufaktur/Produksi</td>\n",
              "      <td>Tedmond Groups membuka Lowongan Kepala Pabrik,...</td>\n",
              "      <td>10500000.0</td>\n",
              "    </tr>\n",
              "    <tr>\n",
              "      <th>9</th>\n",
              "      <td>10</td>\n",
              "      <td>tax supervisor</td>\n",
              "      <td>Banten</td>\n",
              "      <td>Supervisor/Koordinator</td>\n",
              "      <td>3 tahun</td>\n",
              "      <td>Sertifikat Professional, D3 (Diploma), D4 (Dip...</td>\n",
              "      <td>Penuh Waktu</td>\n",
              "      <td>Akuntansi / Keuangan,Audit &amp; Pajak</td>\n",
              "      <td>Tip;Asuransi kesehatan;Waktu regular, Senin - ...</td>\n",
              "      <td>22 days</td>\n",
              "      <td>51 - 200 pekerja</td>\n",
              "      <td>Konstruksi/Bangunan/Teknik</td>\n",
              "      <td>ResponsibilitiesPrepare corporate income tax (...</td>\n",
              "      <td>8000000.0</td>\n",
              "    </tr>\n",
              "    <tr>\n",
              "      <th>18</th>\n",
              "      <td>19</td>\n",
              "      <td>accounting staff</td>\n",
              "      <td>Jakarta Pusat</td>\n",
              "      <td>Pegawai (non-manajemen &amp; non-supervisor)</td>\n",
              "      <td>1 tahun</td>\n",
              "      <td>SMA, SMU/SMK/STM, Sertifikat Professional, D3 ...</td>\n",
              "      <td>Penuh Waktu</td>\n",
              "      <td>Akuntansi / Keuangan,Akuntansi Umum / Pembiayaan</td>\n",
              "      <td>Tip;Asuransi kesehatan;Bisnis (contoh: Kemeja)...</td>\n",
              "      <td>NaN</td>\n",
              "      <td>1- 50 pekerja</td>\n",
              "      <td>Manufaktur/Produksi</td>\n",
              "      <td>DESKRIPSI PEKERJAAN:Memeriksa dan/atau membuat...</td>\n",
              "      <td>4750000.0</td>\n",
              "    </tr>\n",
              "  </tbody>\n",
              "</table>\n",
              "</div>\n",
              "      <button class=\"colab-df-convert\" onclick=\"convertToInteractive('df-d6034bb1-39b6-45c3-a168-f88a6041d1cc')\"\n",
              "              title=\"Convert this dataframe to an interactive table.\"\n",
              "              style=\"display:none;\">\n",
              "        \n",
              "  <svg xmlns=\"http://www.w3.org/2000/svg\" height=\"24px\"viewBox=\"0 0 24 24\"\n",
              "       width=\"24px\">\n",
              "    <path d=\"M0 0h24v24H0V0z\" fill=\"none\"/>\n",
              "    <path d=\"M18.56 5.44l.94 2.06.94-2.06 2.06-.94-2.06-.94-.94-2.06-.94 2.06-2.06.94zm-11 1L8.5 8.5l.94-2.06 2.06-.94-2.06-.94L8.5 2.5l-.94 2.06-2.06.94zm10 10l.94 2.06.94-2.06 2.06-.94-2.06-.94-.94-2.06-.94 2.06-2.06.94z\"/><path d=\"M17.41 7.96l-1.37-1.37c-.4-.4-.92-.59-1.43-.59-.52 0-1.04.2-1.43.59L10.3 9.45l-7.72 7.72c-.78.78-.78 2.05 0 2.83L4 21.41c.39.39.9.59 1.41.59.51 0 1.02-.2 1.41-.59l7.78-7.78 2.81-2.81c.8-.78.8-2.07 0-2.86zM5.41 20L4 18.59l7.72-7.72 1.47 1.35L5.41 20z\"/>\n",
              "  </svg>\n",
              "      </button>\n",
              "      \n",
              "  <style>\n",
              "    .colab-df-container {\n",
              "      display:flex;\n",
              "      flex-wrap:wrap;\n",
              "      gap: 12px;\n",
              "    }\n",
              "\n",
              "    .colab-df-convert {\n",
              "      background-color: #E8F0FE;\n",
              "      border: none;\n",
              "      border-radius: 50%;\n",
              "      cursor: pointer;\n",
              "      display: none;\n",
              "      fill: #1967D2;\n",
              "      height: 32px;\n",
              "      padding: 0 0 0 0;\n",
              "      width: 32px;\n",
              "    }\n",
              "\n",
              "    .colab-df-convert:hover {\n",
              "      background-color: #E2EBFA;\n",
              "      box-shadow: 0px 1px 2px rgba(60, 64, 67, 0.3), 0px 1px 3px 1px rgba(60, 64, 67, 0.15);\n",
              "      fill: #174EA6;\n",
              "    }\n",
              "\n",
              "    [theme=dark] .colab-df-convert {\n",
              "      background-color: #3B4455;\n",
              "      fill: #D2E3FC;\n",
              "    }\n",
              "\n",
              "    [theme=dark] .colab-df-convert:hover {\n",
              "      background-color: #434B5C;\n",
              "      box-shadow: 0px 1px 3px 1px rgba(0, 0, 0, 0.15);\n",
              "      filter: drop-shadow(0px 1px 2px rgba(0, 0, 0, 0.3));\n",
              "      fill: #FFFFFF;\n",
              "    }\n",
              "  </style>\n",
              "\n",
              "      <script>\n",
              "        const buttonEl =\n",
              "          document.querySelector('#df-d6034bb1-39b6-45c3-a168-f88a6041d1cc button.colab-df-convert');\n",
              "        buttonEl.style.display =\n",
              "          google.colab.kernel.accessAllowed ? 'block' : 'none';\n",
              "\n",
              "        async function convertToInteractive(key) {\n",
              "          const element = document.querySelector('#df-d6034bb1-39b6-45c3-a168-f88a6041d1cc');\n",
              "          const dataTable =\n",
              "            await google.colab.kernel.invokeFunction('convertToInteractive',\n",
              "                                                     [key], {});\n",
              "          if (!dataTable) return;\n",
              "\n",
              "          const docLinkHtml = 'Like what you see? Visit the ' +\n",
              "            '<a target=\"_blank\" href=https://colab.research.google.com/notebooks/data_table.ipynb>data table notebook</a>'\n",
              "            + ' to learn more about interactive tables.';\n",
              "          element.innerHTML = '';\n",
              "          dataTable['output_type'] = 'display_data';\n",
              "          await google.colab.output.renderOutput(dataTable, element);\n",
              "          const docLink = document.createElement('div');\n",
              "          docLink.innerHTML = docLinkHtml;\n",
              "          element.appendChild(docLink);\n",
              "        }\n",
              "      </script>\n",
              "    </div>\n",
              "  </div>\n",
              "  "
            ]
          },
          "metadata": {},
          "execution_count": 689
        }
      ],
      "source": [
        "train_new.head(3)"
      ]
    },
    {
      "cell_type": "markdown",
      "metadata": {
        "id": "XVeO0QGEhjok"
      },
      "source": [
        "## experience_level"
      ]
    },
    {
      "cell_type": "code",
      "execution_count": null,
      "metadata": {
        "colab": {
          "base_uri": "https://localhost:8080/"
        },
        "id": "mJFWG7vjiGjc",
        "outputId": "c1b045de-6d8d-4074-84bd-0a4df4729aef"
      },
      "outputs": [
        {
          "output_type": "execute_result",
          "data": {
            "text/plain": [
              "array([nan, '3 tahun', '1 tahun', '2 tahun', '5 tahun', '4 tahun',\n",
              "       '10 tahun', '6 tahun', '8 tahun', '7 tahun', '15 tahun',\n",
              "       '12 tahun', '11 tahun', '17 tahun', '20 tahun'], dtype=object)"
            ]
          },
          "metadata": {},
          "execution_count": 690
        }
      ],
      "source": [
        "train_new['experience_level'].unique()"
      ]
    },
    {
      "cell_type": "code",
      "execution_count": null,
      "metadata": {
        "id": "gVgHKWWYhs9V"
      },
      "outputs": [],
      "source": [
        "def experience_level(el):\n",
        "    if el is not np.NaN:\n",
        "      variabel_baru = el.replace(\" tahun\", \"\")  \n",
        "      return int(variabel_baru)"
      ]
    },
    {
      "cell_type": "code",
      "execution_count": null,
      "metadata": {
        "id": "i96LIp1oiANN"
      },
      "outputs": [],
      "source": [
        "train_new['experience_level'] = train_new['experience_level'].apply(experience_level)"
      ]
    },
    {
      "cell_type": "code",
      "execution_count": null,
      "metadata": {
        "colab": {
          "base_uri": "https://localhost:8080/",
          "height": 280
        },
        "id": "oZQvJnsBitlq",
        "outputId": "c8505b3e-16cf-4ced-a86e-acf7e0fc3bb3"
      },
      "outputs": [
        {
          "output_type": "execute_result",
          "data": {
            "text/plain": [
              "   id       job_title    location            career_level  experience_level  \\\n",
              "5   6   kepala pabrik  Balikpapan  Supervisor/Koordinator               NaN   \n",
              "9  10  tax supervisor      Banten  Supervisor/Koordinator               3.0   \n",
              "\n",
              "                                     education_level employment_type  \\\n",
              "5  Sertifikat Professional, D3 (Diploma), D4 (Dip...     Penuh Waktu   \n",
              "9  Sertifikat Professional, D3 (Diploma), D4 (Dip...     Penuh Waktu   \n",
              "\n",
              "                         job_function  \\\n",
              "5               Manufaktur,Manufaktur   \n",
              "9  Akuntansi / Keuangan,Audit & Pajak   \n",
              "\n",
              "                                        job_benefits company_process_time  \\\n",
              "5  Asuransi kesehatan;Bisnis (contoh: Kemeja);Pro...              18 days   \n",
              "9  Tip;Asuransi kesehatan;Waktu regular, Senin - ...              22 days   \n",
              "\n",
              "       company_size            company_industry  \\\n",
              "5  51 - 200 pekerja         Manufaktur/Produksi   \n",
              "9  51 - 200 pekerja  Konstruksi/Bangunan/Teknik   \n",
              "\n",
              "                                     job_description      salary  \n",
              "5  Tedmond Groups membuka Lowongan Kepala Pabrik,...  10500000.0  \n",
              "9  ResponsibilitiesPrepare corporate income tax (...   8000000.0  "
            ],
            "text/html": [
              "\n",
              "  <div id=\"df-dddf5f01-c029-4f89-8c57-eab5f7a670b5\">\n",
              "    <div class=\"colab-df-container\">\n",
              "      <div>\n",
              "<style scoped>\n",
              "    .dataframe tbody tr th:only-of-type {\n",
              "        vertical-align: middle;\n",
              "    }\n",
              "\n",
              "    .dataframe tbody tr th {\n",
              "        vertical-align: top;\n",
              "    }\n",
              "\n",
              "    .dataframe thead th {\n",
              "        text-align: right;\n",
              "    }\n",
              "</style>\n",
              "<table border=\"1\" class=\"dataframe\">\n",
              "  <thead>\n",
              "    <tr style=\"text-align: right;\">\n",
              "      <th></th>\n",
              "      <th>id</th>\n",
              "      <th>job_title</th>\n",
              "      <th>location</th>\n",
              "      <th>career_level</th>\n",
              "      <th>experience_level</th>\n",
              "      <th>education_level</th>\n",
              "      <th>employment_type</th>\n",
              "      <th>job_function</th>\n",
              "      <th>job_benefits</th>\n",
              "      <th>company_process_time</th>\n",
              "      <th>company_size</th>\n",
              "      <th>company_industry</th>\n",
              "      <th>job_description</th>\n",
              "      <th>salary</th>\n",
              "    </tr>\n",
              "  </thead>\n",
              "  <tbody>\n",
              "    <tr>\n",
              "      <th>5</th>\n",
              "      <td>6</td>\n",
              "      <td>kepala pabrik</td>\n",
              "      <td>Balikpapan</td>\n",
              "      <td>Supervisor/Koordinator</td>\n",
              "      <td>NaN</td>\n",
              "      <td>Sertifikat Professional, D3 (Diploma), D4 (Dip...</td>\n",
              "      <td>Penuh Waktu</td>\n",
              "      <td>Manufaktur,Manufaktur</td>\n",
              "      <td>Asuransi kesehatan;Bisnis (contoh: Kemeja);Pro...</td>\n",
              "      <td>18 days</td>\n",
              "      <td>51 - 200 pekerja</td>\n",
              "      <td>Manufaktur/Produksi</td>\n",
              "      <td>Tedmond Groups membuka Lowongan Kepala Pabrik,...</td>\n",
              "      <td>10500000.0</td>\n",
              "    </tr>\n",
              "    <tr>\n",
              "      <th>9</th>\n",
              "      <td>10</td>\n",
              "      <td>tax supervisor</td>\n",
              "      <td>Banten</td>\n",
              "      <td>Supervisor/Koordinator</td>\n",
              "      <td>3.0</td>\n",
              "      <td>Sertifikat Professional, D3 (Diploma), D4 (Dip...</td>\n",
              "      <td>Penuh Waktu</td>\n",
              "      <td>Akuntansi / Keuangan,Audit &amp; Pajak</td>\n",
              "      <td>Tip;Asuransi kesehatan;Waktu regular, Senin - ...</td>\n",
              "      <td>22 days</td>\n",
              "      <td>51 - 200 pekerja</td>\n",
              "      <td>Konstruksi/Bangunan/Teknik</td>\n",
              "      <td>ResponsibilitiesPrepare corporate income tax (...</td>\n",
              "      <td>8000000.0</td>\n",
              "    </tr>\n",
              "  </tbody>\n",
              "</table>\n",
              "</div>\n",
              "      <button class=\"colab-df-convert\" onclick=\"convertToInteractive('df-dddf5f01-c029-4f89-8c57-eab5f7a670b5')\"\n",
              "              title=\"Convert this dataframe to an interactive table.\"\n",
              "              style=\"display:none;\">\n",
              "        \n",
              "  <svg xmlns=\"http://www.w3.org/2000/svg\" height=\"24px\"viewBox=\"0 0 24 24\"\n",
              "       width=\"24px\">\n",
              "    <path d=\"M0 0h24v24H0V0z\" fill=\"none\"/>\n",
              "    <path d=\"M18.56 5.44l.94 2.06.94-2.06 2.06-.94-2.06-.94-.94-2.06-.94 2.06-2.06.94zm-11 1L8.5 8.5l.94-2.06 2.06-.94-2.06-.94L8.5 2.5l-.94 2.06-2.06.94zm10 10l.94 2.06.94-2.06 2.06-.94-2.06-.94-.94-2.06-.94 2.06-2.06.94z\"/><path d=\"M17.41 7.96l-1.37-1.37c-.4-.4-.92-.59-1.43-.59-.52 0-1.04.2-1.43.59L10.3 9.45l-7.72 7.72c-.78.78-.78 2.05 0 2.83L4 21.41c.39.39.9.59 1.41.59.51 0 1.02-.2 1.41-.59l7.78-7.78 2.81-2.81c.8-.78.8-2.07 0-2.86zM5.41 20L4 18.59l7.72-7.72 1.47 1.35L5.41 20z\"/>\n",
              "  </svg>\n",
              "      </button>\n",
              "      \n",
              "  <style>\n",
              "    .colab-df-container {\n",
              "      display:flex;\n",
              "      flex-wrap:wrap;\n",
              "      gap: 12px;\n",
              "    }\n",
              "\n",
              "    .colab-df-convert {\n",
              "      background-color: #E8F0FE;\n",
              "      border: none;\n",
              "      border-radius: 50%;\n",
              "      cursor: pointer;\n",
              "      display: none;\n",
              "      fill: #1967D2;\n",
              "      height: 32px;\n",
              "      padding: 0 0 0 0;\n",
              "      width: 32px;\n",
              "    }\n",
              "\n",
              "    .colab-df-convert:hover {\n",
              "      background-color: #E2EBFA;\n",
              "      box-shadow: 0px 1px 2px rgba(60, 64, 67, 0.3), 0px 1px 3px 1px rgba(60, 64, 67, 0.15);\n",
              "      fill: #174EA6;\n",
              "    }\n",
              "\n",
              "    [theme=dark] .colab-df-convert {\n",
              "      background-color: #3B4455;\n",
              "      fill: #D2E3FC;\n",
              "    }\n",
              "\n",
              "    [theme=dark] .colab-df-convert:hover {\n",
              "      background-color: #434B5C;\n",
              "      box-shadow: 0px 1px 3px 1px rgba(0, 0, 0, 0.15);\n",
              "      filter: drop-shadow(0px 1px 2px rgba(0, 0, 0, 0.3));\n",
              "      fill: #FFFFFF;\n",
              "    }\n",
              "  </style>\n",
              "\n",
              "      <script>\n",
              "        const buttonEl =\n",
              "          document.querySelector('#df-dddf5f01-c029-4f89-8c57-eab5f7a670b5 button.colab-df-convert');\n",
              "        buttonEl.style.display =\n",
              "          google.colab.kernel.accessAllowed ? 'block' : 'none';\n",
              "\n",
              "        async function convertToInteractive(key) {\n",
              "          const element = document.querySelector('#df-dddf5f01-c029-4f89-8c57-eab5f7a670b5');\n",
              "          const dataTable =\n",
              "            await google.colab.kernel.invokeFunction('convertToInteractive',\n",
              "                                                     [key], {});\n",
              "          if (!dataTable) return;\n",
              "\n",
              "          const docLinkHtml = 'Like what you see? Visit the ' +\n",
              "            '<a target=\"_blank\" href=https://colab.research.google.com/notebooks/data_table.ipynb>data table notebook</a>'\n",
              "            + ' to learn more about interactive tables.';\n",
              "          element.innerHTML = '';\n",
              "          dataTable['output_type'] = 'display_data';\n",
              "          await google.colab.output.renderOutput(dataTable, element);\n",
              "          const docLink = document.createElement('div');\n",
              "          docLink.innerHTML = docLinkHtml;\n",
              "          element.appendChild(docLink);\n",
              "        }\n",
              "      </script>\n",
              "    </div>\n",
              "  </div>\n",
              "  "
            ]
          },
          "metadata": {},
          "execution_count": 693
        }
      ],
      "source": [
        "train_new.head(2)"
      ]
    },
    {
      "cell_type": "code",
      "execution_count": null,
      "metadata": {
        "colab": {
          "base_uri": "https://localhost:8080/"
        },
        "id": "HCWlWt_qjFD1",
        "outputId": "eb3878df-943b-4185-f044-b1d935c1036d"
      },
      "outputs": [
        {
          "output_type": "execute_result",
          "data": {
            "text/plain": [
              "id                         0\n",
              "job_title                  0\n",
              "location                   0\n",
              "career_level               0\n",
              "experience_level         533\n",
              "education_level            0\n",
              "employment_type            0\n",
              "job_function               0\n",
              "job_benefits            1533\n",
              "company_process_time    2145\n",
              "company_size             944\n",
              "company_industry         192\n",
              "job_description            0\n",
              "salary                     0\n",
              "dtype: int64"
            ]
          },
          "metadata": {},
          "execution_count": 694
        }
      ],
      "source": [
        "train_new.isna().sum()"
      ]
    },
    {
      "cell_type": "code",
      "execution_count": null,
      "metadata": {
        "id": "8rbc3d6zjLEJ"
      },
      "outputs": [],
      "source": [
        "train_new['experience_level'].fillna(round(train_new['experience_level'].mean(), 2), inplace=True)"
      ]
    },
    {
      "cell_type": "code",
      "execution_count": null,
      "metadata": {
        "colab": {
          "base_uri": "https://localhost:8080/"
        },
        "id": "H2Tg6dhPjtIe",
        "outputId": "8a32d180-d761-41f9-fdf2-9a5a100a5bf2"
      },
      "outputs": [
        {
          "output_type": "execute_result",
          "data": {
            "text/plain": [
              "id                         0\n",
              "job_title                  0\n",
              "location                   0\n",
              "career_level               0\n",
              "experience_level           0\n",
              "education_level            0\n",
              "employment_type            0\n",
              "job_function               0\n",
              "job_benefits            1533\n",
              "company_process_time    2145\n",
              "company_size             944\n",
              "company_industry         192\n",
              "job_description            0\n",
              "salary                     0\n",
              "dtype: int64"
            ]
          },
          "metadata": {},
          "execution_count": 696
        }
      ],
      "source": [
        "train_new.isna().sum()"
      ]
    },
    {
      "cell_type": "code",
      "execution_count": null,
      "metadata": {
        "colab": {
          "base_uri": "https://localhost:8080/"
        },
        "id": "46AXed9HV8Z9",
        "outputId": "3db09820-6689-4918-e4eb-8104823b97ea"
      },
      "outputs": [
        {
          "output_type": "execute_result",
          "data": {
            "text/plain": [
              "5        2.38\n",
              "9        3.00\n",
              "18       1.00\n",
              "22       2.00\n",
              "26       2.00\n",
              "         ... \n",
              "31719    1.00\n",
              "31720    2.38\n",
              "31729    5.00\n",
              "31732    1.00\n",
              "31744    2.00\n",
              "Name: experience_level, Length: 6349, dtype: float64"
            ]
          },
          "metadata": {},
          "execution_count": 697
        }
      ],
      "source": [
        "train_new['experience_level']"
      ]
    },
    {
      "cell_type": "code",
      "execution_count": null,
      "metadata": {
        "colab": {
          "base_uri": "https://localhost:8080/"
        },
        "id": "kdbJ8L70Q9GC",
        "outputId": "a65dc043-0bd0-4d39-967e-07110dde9b29"
      },
      "outputs": [
        {
          "output_type": "execute_result",
          "data": {
            "text/plain": [
              "array([[0.07263158],\n",
              "       [0.10526316],\n",
              "       [0.        ],\n",
              "       ...,\n",
              "       [0.21052632],\n",
              "       [0.        ],\n",
              "       [0.05263158]])"
            ]
          },
          "metadata": {},
          "execution_count": 698
        }
      ],
      "source": [
        "from sklearn.preprocessing import MinMaxScaler\n",
        "\n",
        "data = train_new[['experience_level']]\n",
        "\n",
        "Scale = MinMaxScaler(feature_range=(0,1))\n",
        "el_data = Scale.fit_transform(data)\n",
        "el_data"
      ]
    },
    {
      "cell_type": "code",
      "execution_count": null,
      "metadata": {
        "colab": {
          "base_uri": "https://localhost:8080/"
        },
        "id": "vLz48cQ7YPx0",
        "outputId": "c50ad716-2218-4001-e35d-89519dbf6790"
      },
      "outputs": [
        {
          "output_type": "execute_result",
          "data": {
            "text/plain": [
              "array([[0.07263158],\n",
              "       [0.10526316],\n",
              "       [0.        ],\n",
              "       ...,\n",
              "       [0.21052632],\n",
              "       [0.        ],\n",
              "       [0.05263158]])"
            ]
          },
          "metadata": {},
          "execution_count": 699
        }
      ],
      "source": [
        "el_data"
      ]
    },
    {
      "cell_type": "code",
      "execution_count": null,
      "metadata": {
        "id": "h00d8dWfbD0T"
      },
      "outputs": [],
      "source": [
        "train_new['experience_level_scaled'] = el_data"
      ]
    },
    {
      "cell_type": "code",
      "execution_count": null,
      "metadata": {
        "colab": {
          "base_uri": "https://localhost:8080/",
          "height": 381
        },
        "id": "4Rr8UPFqd7lO",
        "outputId": "c13a3129-1f58-4f6d-ece8-426d59686cc8"
      },
      "outputs": [
        {
          "output_type": "execute_result",
          "data": {
            "text/plain": [
              "    id         job_title       location  \\\n",
              "5    6     kepala pabrik     Balikpapan   \n",
              "9   10    tax supervisor         Banten   \n",
              "18  19  accounting staff  Jakarta Pusat   \n",
              "\n",
              "                                career_level  experience_level  \\\n",
              "5                     Supervisor/Koordinator              2.38   \n",
              "9                     Supervisor/Koordinator              3.00   \n",
              "18  Pegawai (non-manajemen & non-supervisor)              1.00   \n",
              "\n",
              "                                      education_level employment_type  \\\n",
              "5   Sertifikat Professional, D3 (Diploma), D4 (Dip...     Penuh Waktu   \n",
              "9   Sertifikat Professional, D3 (Diploma), D4 (Dip...     Penuh Waktu   \n",
              "18  SMA, SMU/SMK/STM, Sertifikat Professional, D3 ...     Penuh Waktu   \n",
              "\n",
              "                                        job_function  \\\n",
              "5                              Manufaktur,Manufaktur   \n",
              "9                 Akuntansi / Keuangan,Audit & Pajak   \n",
              "18  Akuntansi / Keuangan,Akuntansi Umum / Pembiayaan   \n",
              "\n",
              "                                         job_benefits company_process_time  \\\n",
              "5   Asuransi kesehatan;Bisnis (contoh: Kemeja);Pro...              18 days   \n",
              "9   Tip;Asuransi kesehatan;Waktu regular, Senin - ...              22 days   \n",
              "18  Tip;Asuransi kesehatan;Bisnis (contoh: Kemeja)...                  NaN   \n",
              "\n",
              "        company_size            company_industry  \\\n",
              "5   51 - 200 pekerja         Manufaktur/Produksi   \n",
              "9   51 - 200 pekerja  Konstruksi/Bangunan/Teknik   \n",
              "18     1- 50 pekerja         Manufaktur/Produksi   \n",
              "\n",
              "                                      job_description      salary  \\\n",
              "5   Tedmond Groups membuka Lowongan Kepala Pabrik,...  10500000.0   \n",
              "9   ResponsibilitiesPrepare corporate income tax (...   8000000.0   \n",
              "18  DESKRIPSI PEKERJAAN:Memeriksa dan/atau membuat...   4750000.0   \n",
              "\n",
              "    experience_level_scaled  \n",
              "5                  0.072632  \n",
              "9                  0.105263  \n",
              "18                 0.000000  "
            ],
            "text/html": [
              "\n",
              "  <div id=\"df-9a41324e-eac0-4568-82ce-5f53e68828c5\">\n",
              "    <div class=\"colab-df-container\">\n",
              "      <div>\n",
              "<style scoped>\n",
              "    .dataframe tbody tr th:only-of-type {\n",
              "        vertical-align: middle;\n",
              "    }\n",
              "\n",
              "    .dataframe tbody tr th {\n",
              "        vertical-align: top;\n",
              "    }\n",
              "\n",
              "    .dataframe thead th {\n",
              "        text-align: right;\n",
              "    }\n",
              "</style>\n",
              "<table border=\"1\" class=\"dataframe\">\n",
              "  <thead>\n",
              "    <tr style=\"text-align: right;\">\n",
              "      <th></th>\n",
              "      <th>id</th>\n",
              "      <th>job_title</th>\n",
              "      <th>location</th>\n",
              "      <th>career_level</th>\n",
              "      <th>experience_level</th>\n",
              "      <th>education_level</th>\n",
              "      <th>employment_type</th>\n",
              "      <th>job_function</th>\n",
              "      <th>job_benefits</th>\n",
              "      <th>company_process_time</th>\n",
              "      <th>company_size</th>\n",
              "      <th>company_industry</th>\n",
              "      <th>job_description</th>\n",
              "      <th>salary</th>\n",
              "      <th>experience_level_scaled</th>\n",
              "    </tr>\n",
              "  </thead>\n",
              "  <tbody>\n",
              "    <tr>\n",
              "      <th>5</th>\n",
              "      <td>6</td>\n",
              "      <td>kepala pabrik</td>\n",
              "      <td>Balikpapan</td>\n",
              "      <td>Supervisor/Koordinator</td>\n",
              "      <td>2.38</td>\n",
              "      <td>Sertifikat Professional, D3 (Diploma), D4 (Dip...</td>\n",
              "      <td>Penuh Waktu</td>\n",
              "      <td>Manufaktur,Manufaktur</td>\n",
              "      <td>Asuransi kesehatan;Bisnis (contoh: Kemeja);Pro...</td>\n",
              "      <td>18 days</td>\n",
              "      <td>51 - 200 pekerja</td>\n",
              "      <td>Manufaktur/Produksi</td>\n",
              "      <td>Tedmond Groups membuka Lowongan Kepala Pabrik,...</td>\n",
              "      <td>10500000.0</td>\n",
              "      <td>0.072632</td>\n",
              "    </tr>\n",
              "    <tr>\n",
              "      <th>9</th>\n",
              "      <td>10</td>\n",
              "      <td>tax supervisor</td>\n",
              "      <td>Banten</td>\n",
              "      <td>Supervisor/Koordinator</td>\n",
              "      <td>3.00</td>\n",
              "      <td>Sertifikat Professional, D3 (Diploma), D4 (Dip...</td>\n",
              "      <td>Penuh Waktu</td>\n",
              "      <td>Akuntansi / Keuangan,Audit &amp; Pajak</td>\n",
              "      <td>Tip;Asuransi kesehatan;Waktu regular, Senin - ...</td>\n",
              "      <td>22 days</td>\n",
              "      <td>51 - 200 pekerja</td>\n",
              "      <td>Konstruksi/Bangunan/Teknik</td>\n",
              "      <td>ResponsibilitiesPrepare corporate income tax (...</td>\n",
              "      <td>8000000.0</td>\n",
              "      <td>0.105263</td>\n",
              "    </tr>\n",
              "    <tr>\n",
              "      <th>18</th>\n",
              "      <td>19</td>\n",
              "      <td>accounting staff</td>\n",
              "      <td>Jakarta Pusat</td>\n",
              "      <td>Pegawai (non-manajemen &amp; non-supervisor)</td>\n",
              "      <td>1.00</td>\n",
              "      <td>SMA, SMU/SMK/STM, Sertifikat Professional, D3 ...</td>\n",
              "      <td>Penuh Waktu</td>\n",
              "      <td>Akuntansi / Keuangan,Akuntansi Umum / Pembiayaan</td>\n",
              "      <td>Tip;Asuransi kesehatan;Bisnis (contoh: Kemeja)...</td>\n",
              "      <td>NaN</td>\n",
              "      <td>1- 50 pekerja</td>\n",
              "      <td>Manufaktur/Produksi</td>\n",
              "      <td>DESKRIPSI PEKERJAAN:Memeriksa dan/atau membuat...</td>\n",
              "      <td>4750000.0</td>\n",
              "      <td>0.000000</td>\n",
              "    </tr>\n",
              "  </tbody>\n",
              "</table>\n",
              "</div>\n",
              "      <button class=\"colab-df-convert\" onclick=\"convertToInteractive('df-9a41324e-eac0-4568-82ce-5f53e68828c5')\"\n",
              "              title=\"Convert this dataframe to an interactive table.\"\n",
              "              style=\"display:none;\">\n",
              "        \n",
              "  <svg xmlns=\"http://www.w3.org/2000/svg\" height=\"24px\"viewBox=\"0 0 24 24\"\n",
              "       width=\"24px\">\n",
              "    <path d=\"M0 0h24v24H0V0z\" fill=\"none\"/>\n",
              "    <path d=\"M18.56 5.44l.94 2.06.94-2.06 2.06-.94-2.06-.94-.94-2.06-.94 2.06-2.06.94zm-11 1L8.5 8.5l.94-2.06 2.06-.94-2.06-.94L8.5 2.5l-.94 2.06-2.06.94zm10 10l.94 2.06.94-2.06 2.06-.94-2.06-.94-.94-2.06-.94 2.06-2.06.94z\"/><path d=\"M17.41 7.96l-1.37-1.37c-.4-.4-.92-.59-1.43-.59-.52 0-1.04.2-1.43.59L10.3 9.45l-7.72 7.72c-.78.78-.78 2.05 0 2.83L4 21.41c.39.39.9.59 1.41.59.51 0 1.02-.2 1.41-.59l7.78-7.78 2.81-2.81c.8-.78.8-2.07 0-2.86zM5.41 20L4 18.59l7.72-7.72 1.47 1.35L5.41 20z\"/>\n",
              "  </svg>\n",
              "      </button>\n",
              "      \n",
              "  <style>\n",
              "    .colab-df-container {\n",
              "      display:flex;\n",
              "      flex-wrap:wrap;\n",
              "      gap: 12px;\n",
              "    }\n",
              "\n",
              "    .colab-df-convert {\n",
              "      background-color: #E8F0FE;\n",
              "      border: none;\n",
              "      border-radius: 50%;\n",
              "      cursor: pointer;\n",
              "      display: none;\n",
              "      fill: #1967D2;\n",
              "      height: 32px;\n",
              "      padding: 0 0 0 0;\n",
              "      width: 32px;\n",
              "    }\n",
              "\n",
              "    .colab-df-convert:hover {\n",
              "      background-color: #E2EBFA;\n",
              "      box-shadow: 0px 1px 2px rgba(60, 64, 67, 0.3), 0px 1px 3px 1px rgba(60, 64, 67, 0.15);\n",
              "      fill: #174EA6;\n",
              "    }\n",
              "\n",
              "    [theme=dark] .colab-df-convert {\n",
              "      background-color: #3B4455;\n",
              "      fill: #D2E3FC;\n",
              "    }\n",
              "\n",
              "    [theme=dark] .colab-df-convert:hover {\n",
              "      background-color: #434B5C;\n",
              "      box-shadow: 0px 1px 3px 1px rgba(0, 0, 0, 0.15);\n",
              "      filter: drop-shadow(0px 1px 2px rgba(0, 0, 0, 0.3));\n",
              "      fill: #FFFFFF;\n",
              "    }\n",
              "  </style>\n",
              "\n",
              "      <script>\n",
              "        const buttonEl =\n",
              "          document.querySelector('#df-9a41324e-eac0-4568-82ce-5f53e68828c5 button.colab-df-convert');\n",
              "        buttonEl.style.display =\n",
              "          google.colab.kernel.accessAllowed ? 'block' : 'none';\n",
              "\n",
              "        async function convertToInteractive(key) {\n",
              "          const element = document.querySelector('#df-9a41324e-eac0-4568-82ce-5f53e68828c5');\n",
              "          const dataTable =\n",
              "            await google.colab.kernel.invokeFunction('convertToInteractive',\n",
              "                                                     [key], {});\n",
              "          if (!dataTable) return;\n",
              "\n",
              "          const docLinkHtml = 'Like what you see? Visit the ' +\n",
              "            '<a target=\"_blank\" href=https://colab.research.google.com/notebooks/data_table.ipynb>data table notebook</a>'\n",
              "            + ' to learn more about interactive tables.';\n",
              "          element.innerHTML = '';\n",
              "          dataTable['output_type'] = 'display_data';\n",
              "          await google.colab.output.renderOutput(dataTable, element);\n",
              "          const docLink = document.createElement('div');\n",
              "          docLink.innerHTML = docLinkHtml;\n",
              "          element.appendChild(docLink);\n",
              "        }\n",
              "      </script>\n",
              "    </div>\n",
              "  </div>\n",
              "  "
            ]
          },
          "metadata": {},
          "execution_count": 701
        }
      ],
      "source": [
        "train_new.head(3)"
      ]
    },
    {
      "cell_type": "code",
      "execution_count": null,
      "metadata": {
        "colab": {
          "base_uri": "https://localhost:8080/",
          "height": 548
        },
        "id": "Lr6ngr0edqce",
        "outputId": "ef2d5fca-0955-4d58-9c82-04a7c7b18f3d"
      },
      "outputs": [
        {
          "output_type": "execute_result",
          "data": {
            "text/plain": [
              "    id                                  job_title       location  \\\n",
              "5    6                              kepala pabrik     Balikpapan   \n",
              "9   10                             tax supervisor         Banten   \n",
              "18  19                           accounting staff  Jakarta Pusat   \n",
              "22  23                    senior staff purchasing       Surabaya   \n",
              "26  27  marketing communication & channel manager  Jakarta Pusat   \n",
              "\n",
              "                                career_level  experience_level  \\\n",
              "5                     Supervisor/Koordinator              2.38   \n",
              "9                     Supervisor/Koordinator              3.00   \n",
              "18  Pegawai (non-manajemen & non-supervisor)              1.00   \n",
              "22  Pegawai (non-manajemen & non-supervisor)              2.00   \n",
              "26                   Manajer/Asisten Manajer              2.00   \n",
              "\n",
              "                                      education_level employment_type  \\\n",
              "5   Sertifikat Professional, D3 (Diploma), D4 (Dip...     Penuh Waktu   \n",
              "9   Sertifikat Professional, D3 (Diploma), D4 (Dip...     Penuh Waktu   \n",
              "18  SMA, SMU/SMK/STM, Sertifikat Professional, D3 ...     Penuh Waktu   \n",
              "22  Sertifikat Professional, D3 (Diploma), D4 (Dip...     Penuh Waktu   \n",
              "26                               Tidak terspesifikasi     Penuh Waktu   \n",
              "\n",
              "                                         job_function  \\\n",
              "5                               Manufaktur,Manufaktur   \n",
              "9                  Akuntansi / Keuangan,Audit & Pajak   \n",
              "18   Akuntansi / Keuangan,Akuntansi Umum / Pembiayaan   \n",
              "22            Manufaktur,Pembelian/Manajemen Material   \n",
              "26  Penjualan / Pemasaran,Pemasaran/Pengembangan B...   \n",
              "\n",
              "                                         job_benefits company_process_time  \\\n",
              "5   Asuransi kesehatan;Bisnis (contoh: Kemeja);Pro...              18 days   \n",
              "9   Tip;Asuransi kesehatan;Waktu regular, Senin - ...              22 days   \n",
              "18  Tip;Asuransi kesehatan;Bisnis (contoh: Kemeja)...                  NaN   \n",
              "22  Asuransi kesehatan;Jam Bekerja yang Panjang;Bi...              29 days   \n",
              "26  Asuransi Gigi;Asuransi kesehatan;Parkir;Waktu ...              29 days   \n",
              "\n",
              "        company_size                                   company_industry  \\\n",
              "5   51 - 200 pekerja                                Manufaktur/Produksi   \n",
              "9   51 - 200 pekerja                         Konstruksi/Bangunan/Teknik   \n",
              "18     1- 50 pekerja                                Manufaktur/Produksi   \n",
              "22     1- 50 pekerja                            Elektrikal & Elektronik   \n",
              "26  51 - 200 pekerja  Konsultasi (IT, Ilmu Pengetahuan, Teknis & Tek...   \n",
              "\n",
              "                                      job_description      salary  \\\n",
              "5   Tedmond Groups membuka Lowongan Kepala Pabrik,...  10500000.0   \n",
              "9   ResponsibilitiesPrepare corporate income tax (...   8000000.0   \n",
              "18  DESKRIPSI PEKERJAAN:Memeriksa dan/atau membuat...   4750000.0   \n",
              "22  Deskripsi Pekerjaan:Mampu melakukan rencana pe...   5250000.0   \n",
              "26  SCOPE OF ROLE :To plan, develop, implement and...  15000000.0   \n",
              "\n",
              "    experience_level_scaled  \n",
              "5                  0.072632  \n",
              "9                  0.105263  \n",
              "18                 0.000000  \n",
              "22                 0.052632  \n",
              "26                 0.052632  "
            ],
            "text/html": [
              "\n",
              "  <div id=\"df-6ac7abcd-16cc-4824-b5d7-f15647800c89\">\n",
              "    <div class=\"colab-df-container\">\n",
              "      <div>\n",
              "<style scoped>\n",
              "    .dataframe tbody tr th:only-of-type {\n",
              "        vertical-align: middle;\n",
              "    }\n",
              "\n",
              "    .dataframe tbody tr th {\n",
              "        vertical-align: top;\n",
              "    }\n",
              "\n",
              "    .dataframe thead th {\n",
              "        text-align: right;\n",
              "    }\n",
              "</style>\n",
              "<table border=\"1\" class=\"dataframe\">\n",
              "  <thead>\n",
              "    <tr style=\"text-align: right;\">\n",
              "      <th></th>\n",
              "      <th>id</th>\n",
              "      <th>job_title</th>\n",
              "      <th>location</th>\n",
              "      <th>career_level</th>\n",
              "      <th>experience_level</th>\n",
              "      <th>education_level</th>\n",
              "      <th>employment_type</th>\n",
              "      <th>job_function</th>\n",
              "      <th>job_benefits</th>\n",
              "      <th>company_process_time</th>\n",
              "      <th>company_size</th>\n",
              "      <th>company_industry</th>\n",
              "      <th>job_description</th>\n",
              "      <th>salary</th>\n",
              "      <th>experience_level_scaled</th>\n",
              "    </tr>\n",
              "  </thead>\n",
              "  <tbody>\n",
              "    <tr>\n",
              "      <th>5</th>\n",
              "      <td>6</td>\n",
              "      <td>kepala pabrik</td>\n",
              "      <td>Balikpapan</td>\n",
              "      <td>Supervisor/Koordinator</td>\n",
              "      <td>2.38</td>\n",
              "      <td>Sertifikat Professional, D3 (Diploma), D4 (Dip...</td>\n",
              "      <td>Penuh Waktu</td>\n",
              "      <td>Manufaktur,Manufaktur</td>\n",
              "      <td>Asuransi kesehatan;Bisnis (contoh: Kemeja);Pro...</td>\n",
              "      <td>18 days</td>\n",
              "      <td>51 - 200 pekerja</td>\n",
              "      <td>Manufaktur/Produksi</td>\n",
              "      <td>Tedmond Groups membuka Lowongan Kepala Pabrik,...</td>\n",
              "      <td>10500000.0</td>\n",
              "      <td>0.072632</td>\n",
              "    </tr>\n",
              "    <tr>\n",
              "      <th>9</th>\n",
              "      <td>10</td>\n",
              "      <td>tax supervisor</td>\n",
              "      <td>Banten</td>\n",
              "      <td>Supervisor/Koordinator</td>\n",
              "      <td>3.00</td>\n",
              "      <td>Sertifikat Professional, D3 (Diploma), D4 (Dip...</td>\n",
              "      <td>Penuh Waktu</td>\n",
              "      <td>Akuntansi / Keuangan,Audit &amp; Pajak</td>\n",
              "      <td>Tip;Asuransi kesehatan;Waktu regular, Senin - ...</td>\n",
              "      <td>22 days</td>\n",
              "      <td>51 - 200 pekerja</td>\n",
              "      <td>Konstruksi/Bangunan/Teknik</td>\n",
              "      <td>ResponsibilitiesPrepare corporate income tax (...</td>\n",
              "      <td>8000000.0</td>\n",
              "      <td>0.105263</td>\n",
              "    </tr>\n",
              "    <tr>\n",
              "      <th>18</th>\n",
              "      <td>19</td>\n",
              "      <td>accounting staff</td>\n",
              "      <td>Jakarta Pusat</td>\n",
              "      <td>Pegawai (non-manajemen &amp; non-supervisor)</td>\n",
              "      <td>1.00</td>\n",
              "      <td>SMA, SMU/SMK/STM, Sertifikat Professional, D3 ...</td>\n",
              "      <td>Penuh Waktu</td>\n",
              "      <td>Akuntansi / Keuangan,Akuntansi Umum / Pembiayaan</td>\n",
              "      <td>Tip;Asuransi kesehatan;Bisnis (contoh: Kemeja)...</td>\n",
              "      <td>NaN</td>\n",
              "      <td>1- 50 pekerja</td>\n",
              "      <td>Manufaktur/Produksi</td>\n",
              "      <td>DESKRIPSI PEKERJAAN:Memeriksa dan/atau membuat...</td>\n",
              "      <td>4750000.0</td>\n",
              "      <td>0.000000</td>\n",
              "    </tr>\n",
              "    <tr>\n",
              "      <th>22</th>\n",
              "      <td>23</td>\n",
              "      <td>senior staff purchasing</td>\n",
              "      <td>Surabaya</td>\n",
              "      <td>Pegawai (non-manajemen &amp; non-supervisor)</td>\n",
              "      <td>2.00</td>\n",
              "      <td>Sertifikat Professional, D3 (Diploma), D4 (Dip...</td>\n",
              "      <td>Penuh Waktu</td>\n",
              "      <td>Manufaktur,Pembelian/Manajemen Material</td>\n",
              "      <td>Asuransi kesehatan;Jam Bekerja yang Panjang;Bi...</td>\n",
              "      <td>29 days</td>\n",
              "      <td>1- 50 pekerja</td>\n",
              "      <td>Elektrikal &amp; Elektronik</td>\n",
              "      <td>Deskripsi Pekerjaan:Mampu melakukan rencana pe...</td>\n",
              "      <td>5250000.0</td>\n",
              "      <td>0.052632</td>\n",
              "    </tr>\n",
              "    <tr>\n",
              "      <th>26</th>\n",
              "      <td>27</td>\n",
              "      <td>marketing communication &amp; channel manager</td>\n",
              "      <td>Jakarta Pusat</td>\n",
              "      <td>Manajer/Asisten Manajer</td>\n",
              "      <td>2.00</td>\n",
              "      <td>Tidak terspesifikasi</td>\n",
              "      <td>Penuh Waktu</td>\n",
              "      <td>Penjualan / Pemasaran,Pemasaran/Pengembangan B...</td>\n",
              "      <td>Asuransi Gigi;Asuransi kesehatan;Parkir;Waktu ...</td>\n",
              "      <td>29 days</td>\n",
              "      <td>51 - 200 pekerja</td>\n",
              "      <td>Konsultasi (IT, Ilmu Pengetahuan, Teknis &amp; Tek...</td>\n",
              "      <td>SCOPE OF ROLE :To plan, develop, implement and...</td>\n",
              "      <td>15000000.0</td>\n",
              "      <td>0.052632</td>\n",
              "    </tr>\n",
              "  </tbody>\n",
              "</table>\n",
              "</div>\n",
              "      <button class=\"colab-df-convert\" onclick=\"convertToInteractive('df-6ac7abcd-16cc-4824-b5d7-f15647800c89')\"\n",
              "              title=\"Convert this dataframe to an interactive table.\"\n",
              "              style=\"display:none;\">\n",
              "        \n",
              "  <svg xmlns=\"http://www.w3.org/2000/svg\" height=\"24px\"viewBox=\"0 0 24 24\"\n",
              "       width=\"24px\">\n",
              "    <path d=\"M0 0h24v24H0V0z\" fill=\"none\"/>\n",
              "    <path d=\"M18.56 5.44l.94 2.06.94-2.06 2.06-.94-2.06-.94-.94-2.06-.94 2.06-2.06.94zm-11 1L8.5 8.5l.94-2.06 2.06-.94-2.06-.94L8.5 2.5l-.94 2.06-2.06.94zm10 10l.94 2.06.94-2.06 2.06-.94-2.06-.94-.94-2.06-.94 2.06-2.06.94z\"/><path d=\"M17.41 7.96l-1.37-1.37c-.4-.4-.92-.59-1.43-.59-.52 0-1.04.2-1.43.59L10.3 9.45l-7.72 7.72c-.78.78-.78 2.05 0 2.83L4 21.41c.39.39.9.59 1.41.59.51 0 1.02-.2 1.41-.59l7.78-7.78 2.81-2.81c.8-.78.8-2.07 0-2.86zM5.41 20L4 18.59l7.72-7.72 1.47 1.35L5.41 20z\"/>\n",
              "  </svg>\n",
              "      </button>\n",
              "      \n",
              "  <style>\n",
              "    .colab-df-container {\n",
              "      display:flex;\n",
              "      flex-wrap:wrap;\n",
              "      gap: 12px;\n",
              "    }\n",
              "\n",
              "    .colab-df-convert {\n",
              "      background-color: #E8F0FE;\n",
              "      border: none;\n",
              "      border-radius: 50%;\n",
              "      cursor: pointer;\n",
              "      display: none;\n",
              "      fill: #1967D2;\n",
              "      height: 32px;\n",
              "      padding: 0 0 0 0;\n",
              "      width: 32px;\n",
              "    }\n",
              "\n",
              "    .colab-df-convert:hover {\n",
              "      background-color: #E2EBFA;\n",
              "      box-shadow: 0px 1px 2px rgba(60, 64, 67, 0.3), 0px 1px 3px 1px rgba(60, 64, 67, 0.15);\n",
              "      fill: #174EA6;\n",
              "    }\n",
              "\n",
              "    [theme=dark] .colab-df-convert {\n",
              "      background-color: #3B4455;\n",
              "      fill: #D2E3FC;\n",
              "    }\n",
              "\n",
              "    [theme=dark] .colab-df-convert:hover {\n",
              "      background-color: #434B5C;\n",
              "      box-shadow: 0px 1px 3px 1px rgba(0, 0, 0, 0.15);\n",
              "      filter: drop-shadow(0px 1px 2px rgba(0, 0, 0, 0.3));\n",
              "      fill: #FFFFFF;\n",
              "    }\n",
              "  </style>\n",
              "\n",
              "      <script>\n",
              "        const buttonEl =\n",
              "          document.querySelector('#df-6ac7abcd-16cc-4824-b5d7-f15647800c89 button.colab-df-convert');\n",
              "        buttonEl.style.display =\n",
              "          google.colab.kernel.accessAllowed ? 'block' : 'none';\n",
              "\n",
              "        async function convertToInteractive(key) {\n",
              "          const element = document.querySelector('#df-6ac7abcd-16cc-4824-b5d7-f15647800c89');\n",
              "          const dataTable =\n",
              "            await google.colab.kernel.invokeFunction('convertToInteractive',\n",
              "                                                     [key], {});\n",
              "          if (!dataTable) return;\n",
              "\n",
              "          const docLinkHtml = 'Like what you see? Visit the ' +\n",
              "            '<a target=\"_blank\" href=https://colab.research.google.com/notebooks/data_table.ipynb>data table notebook</a>'\n",
              "            + ' to learn more about interactive tables.';\n",
              "          element.innerHTML = '';\n",
              "          dataTable['output_type'] = 'display_data';\n",
              "          await google.colab.output.renderOutput(dataTable, element);\n",
              "          const docLink = document.createElement('div');\n",
              "          docLink.innerHTML = docLinkHtml;\n",
              "          element.appendChild(docLink);\n",
              "        }\n",
              "      </script>\n",
              "    </div>\n",
              "  </div>\n",
              "  "
            ]
          },
          "metadata": {},
          "execution_count": 702
        }
      ],
      "source": [
        "train_new.head()"
      ]
    },
    {
      "cell_type": "markdown",
      "metadata": {
        "id": "CtJsbrwKkPs7"
      },
      "source": [
        "## company_process_time"
      ]
    },
    {
      "cell_type": "code",
      "execution_count": null,
      "metadata": {
        "colab": {
          "base_uri": "https://localhost:8080/"
        },
        "id": "b8yV2EaFkPs8",
        "outputId": "ec5b0dc2-925e-475b-c0b7-5ec3d39ac5f1"
      },
      "outputs": [
        {
          "output_type": "execute_result",
          "data": {
            "text/plain": [
              "array(['18 days', '22 days', nan, '29 days', '21 days', '5 days',\n",
              "       '4 days', '7 days', '26 days', '23 days', '20 days', '28 days',\n",
              "       '19 days', '1 day', '27 days', '30 days', '12 days', '24 days',\n",
              "       '6 days', '15 days', '25 days', '17 days', '9 days', '16 days',\n",
              "       '14 days', '11 days', '3 days', '2 days', '13 days', '10 days',\n",
              "       '8 days'], dtype=object)"
            ]
          },
          "metadata": {},
          "execution_count": 703
        }
      ],
      "source": [
        "train_new['company_process_time'].unique()"
      ]
    },
    {
      "cell_type": "code",
      "execution_count": null,
      "metadata": {
        "id": "mY8G-cdukPs8"
      },
      "outputs": [],
      "source": [
        "def company_process_time(cpt):\n",
        "    if cpt is not np.NaN and cpt == '1 day':\n",
        "        variabel_baru = cpt.replace(\" day\", \"\")  \n",
        "        return int(variabel_baru)\n",
        "    elif cpt is not np.NaN:\n",
        "        variabel_baru = cpt.replace(\" days\", \"\")\n",
        "        return int(variabel_baru)  "
      ]
    },
    {
      "cell_type": "code",
      "execution_count": null,
      "metadata": {
        "id": "TcTS9H5ImHn-"
      },
      "outputs": [],
      "source": [
        "# def company_process_time(cpt):\n",
        "#     day_baru = ''\n",
        "#     if cpt not in ' days':\n",
        "#         day_baru += cpt\n",
        "#     return int(day_baru)"
      ]
    },
    {
      "cell_type": "code",
      "execution_count": null,
      "metadata": {
        "id": "as-y_TMykPs8"
      },
      "outputs": [],
      "source": [
        "train_new['company_process_time'] = train_new['company_process_time'].apply(company_process_time)"
      ]
    },
    {
      "cell_type": "code",
      "execution_count": null,
      "metadata": {
        "colab": {
          "base_uri": "https://localhost:8080/",
          "height": 548
        },
        "id": "MbadJAHCkPs8",
        "outputId": "876de5c2-7853-4ff5-fe96-12715850010c"
      },
      "outputs": [
        {
          "output_type": "execute_result",
          "data": {
            "text/plain": [
              "    id                                  job_title       location  \\\n",
              "5    6                              kepala pabrik     Balikpapan   \n",
              "9   10                             tax supervisor         Banten   \n",
              "18  19                           accounting staff  Jakarta Pusat   \n",
              "22  23                    senior staff purchasing       Surabaya   \n",
              "26  27  marketing communication & channel manager  Jakarta Pusat   \n",
              "\n",
              "                                career_level  experience_level  \\\n",
              "5                     Supervisor/Koordinator              2.38   \n",
              "9                     Supervisor/Koordinator              3.00   \n",
              "18  Pegawai (non-manajemen & non-supervisor)              1.00   \n",
              "22  Pegawai (non-manajemen & non-supervisor)              2.00   \n",
              "26                   Manajer/Asisten Manajer              2.00   \n",
              "\n",
              "                                      education_level employment_type  \\\n",
              "5   Sertifikat Professional, D3 (Diploma), D4 (Dip...     Penuh Waktu   \n",
              "9   Sertifikat Professional, D3 (Diploma), D4 (Dip...     Penuh Waktu   \n",
              "18  SMA, SMU/SMK/STM, Sertifikat Professional, D3 ...     Penuh Waktu   \n",
              "22  Sertifikat Professional, D3 (Diploma), D4 (Dip...     Penuh Waktu   \n",
              "26                               Tidak terspesifikasi     Penuh Waktu   \n",
              "\n",
              "                                         job_function  \\\n",
              "5                               Manufaktur,Manufaktur   \n",
              "9                  Akuntansi / Keuangan,Audit & Pajak   \n",
              "18   Akuntansi / Keuangan,Akuntansi Umum / Pembiayaan   \n",
              "22            Manufaktur,Pembelian/Manajemen Material   \n",
              "26  Penjualan / Pemasaran,Pemasaran/Pengembangan B...   \n",
              "\n",
              "                                         job_benefits  company_process_time  \\\n",
              "5   Asuransi kesehatan;Bisnis (contoh: Kemeja);Pro...                  18.0   \n",
              "9   Tip;Asuransi kesehatan;Waktu regular, Senin - ...                  22.0   \n",
              "18  Tip;Asuransi kesehatan;Bisnis (contoh: Kemeja)...                   NaN   \n",
              "22  Asuransi kesehatan;Jam Bekerja yang Panjang;Bi...                  29.0   \n",
              "26  Asuransi Gigi;Asuransi kesehatan;Parkir;Waktu ...                  29.0   \n",
              "\n",
              "        company_size                                   company_industry  \\\n",
              "5   51 - 200 pekerja                                Manufaktur/Produksi   \n",
              "9   51 - 200 pekerja                         Konstruksi/Bangunan/Teknik   \n",
              "18     1- 50 pekerja                                Manufaktur/Produksi   \n",
              "22     1- 50 pekerja                            Elektrikal & Elektronik   \n",
              "26  51 - 200 pekerja  Konsultasi (IT, Ilmu Pengetahuan, Teknis & Tek...   \n",
              "\n",
              "                                      job_description      salary  \\\n",
              "5   Tedmond Groups membuka Lowongan Kepala Pabrik,...  10500000.0   \n",
              "9   ResponsibilitiesPrepare corporate income tax (...   8000000.0   \n",
              "18  DESKRIPSI PEKERJAAN:Memeriksa dan/atau membuat...   4750000.0   \n",
              "22  Deskripsi Pekerjaan:Mampu melakukan rencana pe...   5250000.0   \n",
              "26  SCOPE OF ROLE :To plan, develop, implement and...  15000000.0   \n",
              "\n",
              "    experience_level_scaled  \n",
              "5                  0.072632  \n",
              "9                  0.105263  \n",
              "18                 0.000000  \n",
              "22                 0.052632  \n",
              "26                 0.052632  "
            ],
            "text/html": [
              "\n",
              "  <div id=\"df-1dc736b9-87ce-4a81-a7d6-8ed1f3651a7b\">\n",
              "    <div class=\"colab-df-container\">\n",
              "      <div>\n",
              "<style scoped>\n",
              "    .dataframe tbody tr th:only-of-type {\n",
              "        vertical-align: middle;\n",
              "    }\n",
              "\n",
              "    .dataframe tbody tr th {\n",
              "        vertical-align: top;\n",
              "    }\n",
              "\n",
              "    .dataframe thead th {\n",
              "        text-align: right;\n",
              "    }\n",
              "</style>\n",
              "<table border=\"1\" class=\"dataframe\">\n",
              "  <thead>\n",
              "    <tr style=\"text-align: right;\">\n",
              "      <th></th>\n",
              "      <th>id</th>\n",
              "      <th>job_title</th>\n",
              "      <th>location</th>\n",
              "      <th>career_level</th>\n",
              "      <th>experience_level</th>\n",
              "      <th>education_level</th>\n",
              "      <th>employment_type</th>\n",
              "      <th>job_function</th>\n",
              "      <th>job_benefits</th>\n",
              "      <th>company_process_time</th>\n",
              "      <th>company_size</th>\n",
              "      <th>company_industry</th>\n",
              "      <th>job_description</th>\n",
              "      <th>salary</th>\n",
              "      <th>experience_level_scaled</th>\n",
              "    </tr>\n",
              "  </thead>\n",
              "  <tbody>\n",
              "    <tr>\n",
              "      <th>5</th>\n",
              "      <td>6</td>\n",
              "      <td>kepala pabrik</td>\n",
              "      <td>Balikpapan</td>\n",
              "      <td>Supervisor/Koordinator</td>\n",
              "      <td>2.38</td>\n",
              "      <td>Sertifikat Professional, D3 (Diploma), D4 (Dip...</td>\n",
              "      <td>Penuh Waktu</td>\n",
              "      <td>Manufaktur,Manufaktur</td>\n",
              "      <td>Asuransi kesehatan;Bisnis (contoh: Kemeja);Pro...</td>\n",
              "      <td>18.0</td>\n",
              "      <td>51 - 200 pekerja</td>\n",
              "      <td>Manufaktur/Produksi</td>\n",
              "      <td>Tedmond Groups membuka Lowongan Kepala Pabrik,...</td>\n",
              "      <td>10500000.0</td>\n",
              "      <td>0.072632</td>\n",
              "    </tr>\n",
              "    <tr>\n",
              "      <th>9</th>\n",
              "      <td>10</td>\n",
              "      <td>tax supervisor</td>\n",
              "      <td>Banten</td>\n",
              "      <td>Supervisor/Koordinator</td>\n",
              "      <td>3.00</td>\n",
              "      <td>Sertifikat Professional, D3 (Diploma), D4 (Dip...</td>\n",
              "      <td>Penuh Waktu</td>\n",
              "      <td>Akuntansi / Keuangan,Audit &amp; Pajak</td>\n",
              "      <td>Tip;Asuransi kesehatan;Waktu regular, Senin - ...</td>\n",
              "      <td>22.0</td>\n",
              "      <td>51 - 200 pekerja</td>\n",
              "      <td>Konstruksi/Bangunan/Teknik</td>\n",
              "      <td>ResponsibilitiesPrepare corporate income tax (...</td>\n",
              "      <td>8000000.0</td>\n",
              "      <td>0.105263</td>\n",
              "    </tr>\n",
              "    <tr>\n",
              "      <th>18</th>\n",
              "      <td>19</td>\n",
              "      <td>accounting staff</td>\n",
              "      <td>Jakarta Pusat</td>\n",
              "      <td>Pegawai (non-manajemen &amp; non-supervisor)</td>\n",
              "      <td>1.00</td>\n",
              "      <td>SMA, SMU/SMK/STM, Sertifikat Professional, D3 ...</td>\n",
              "      <td>Penuh Waktu</td>\n",
              "      <td>Akuntansi / Keuangan,Akuntansi Umum / Pembiayaan</td>\n",
              "      <td>Tip;Asuransi kesehatan;Bisnis (contoh: Kemeja)...</td>\n",
              "      <td>NaN</td>\n",
              "      <td>1- 50 pekerja</td>\n",
              "      <td>Manufaktur/Produksi</td>\n",
              "      <td>DESKRIPSI PEKERJAAN:Memeriksa dan/atau membuat...</td>\n",
              "      <td>4750000.0</td>\n",
              "      <td>0.000000</td>\n",
              "    </tr>\n",
              "    <tr>\n",
              "      <th>22</th>\n",
              "      <td>23</td>\n",
              "      <td>senior staff purchasing</td>\n",
              "      <td>Surabaya</td>\n",
              "      <td>Pegawai (non-manajemen &amp; non-supervisor)</td>\n",
              "      <td>2.00</td>\n",
              "      <td>Sertifikat Professional, D3 (Diploma), D4 (Dip...</td>\n",
              "      <td>Penuh Waktu</td>\n",
              "      <td>Manufaktur,Pembelian/Manajemen Material</td>\n",
              "      <td>Asuransi kesehatan;Jam Bekerja yang Panjang;Bi...</td>\n",
              "      <td>29.0</td>\n",
              "      <td>1- 50 pekerja</td>\n",
              "      <td>Elektrikal &amp; Elektronik</td>\n",
              "      <td>Deskripsi Pekerjaan:Mampu melakukan rencana pe...</td>\n",
              "      <td>5250000.0</td>\n",
              "      <td>0.052632</td>\n",
              "    </tr>\n",
              "    <tr>\n",
              "      <th>26</th>\n",
              "      <td>27</td>\n",
              "      <td>marketing communication &amp; channel manager</td>\n",
              "      <td>Jakarta Pusat</td>\n",
              "      <td>Manajer/Asisten Manajer</td>\n",
              "      <td>2.00</td>\n",
              "      <td>Tidak terspesifikasi</td>\n",
              "      <td>Penuh Waktu</td>\n",
              "      <td>Penjualan / Pemasaran,Pemasaran/Pengembangan B...</td>\n",
              "      <td>Asuransi Gigi;Asuransi kesehatan;Parkir;Waktu ...</td>\n",
              "      <td>29.0</td>\n",
              "      <td>51 - 200 pekerja</td>\n",
              "      <td>Konsultasi (IT, Ilmu Pengetahuan, Teknis &amp; Tek...</td>\n",
              "      <td>SCOPE OF ROLE :To plan, develop, implement and...</td>\n",
              "      <td>15000000.0</td>\n",
              "      <td>0.052632</td>\n",
              "    </tr>\n",
              "  </tbody>\n",
              "</table>\n",
              "</div>\n",
              "      <button class=\"colab-df-convert\" onclick=\"convertToInteractive('df-1dc736b9-87ce-4a81-a7d6-8ed1f3651a7b')\"\n",
              "              title=\"Convert this dataframe to an interactive table.\"\n",
              "              style=\"display:none;\">\n",
              "        \n",
              "  <svg xmlns=\"http://www.w3.org/2000/svg\" height=\"24px\"viewBox=\"0 0 24 24\"\n",
              "       width=\"24px\">\n",
              "    <path d=\"M0 0h24v24H0V0z\" fill=\"none\"/>\n",
              "    <path d=\"M18.56 5.44l.94 2.06.94-2.06 2.06-.94-2.06-.94-.94-2.06-.94 2.06-2.06.94zm-11 1L8.5 8.5l.94-2.06 2.06-.94-2.06-.94L8.5 2.5l-.94 2.06-2.06.94zm10 10l.94 2.06.94-2.06 2.06-.94-2.06-.94-.94-2.06-.94 2.06-2.06.94z\"/><path d=\"M17.41 7.96l-1.37-1.37c-.4-.4-.92-.59-1.43-.59-.52 0-1.04.2-1.43.59L10.3 9.45l-7.72 7.72c-.78.78-.78 2.05 0 2.83L4 21.41c.39.39.9.59 1.41.59.51 0 1.02-.2 1.41-.59l7.78-7.78 2.81-2.81c.8-.78.8-2.07 0-2.86zM5.41 20L4 18.59l7.72-7.72 1.47 1.35L5.41 20z\"/>\n",
              "  </svg>\n",
              "      </button>\n",
              "      \n",
              "  <style>\n",
              "    .colab-df-container {\n",
              "      display:flex;\n",
              "      flex-wrap:wrap;\n",
              "      gap: 12px;\n",
              "    }\n",
              "\n",
              "    .colab-df-convert {\n",
              "      background-color: #E8F0FE;\n",
              "      border: none;\n",
              "      border-radius: 50%;\n",
              "      cursor: pointer;\n",
              "      display: none;\n",
              "      fill: #1967D2;\n",
              "      height: 32px;\n",
              "      padding: 0 0 0 0;\n",
              "      width: 32px;\n",
              "    }\n",
              "\n",
              "    .colab-df-convert:hover {\n",
              "      background-color: #E2EBFA;\n",
              "      box-shadow: 0px 1px 2px rgba(60, 64, 67, 0.3), 0px 1px 3px 1px rgba(60, 64, 67, 0.15);\n",
              "      fill: #174EA6;\n",
              "    }\n",
              "\n",
              "    [theme=dark] .colab-df-convert {\n",
              "      background-color: #3B4455;\n",
              "      fill: #D2E3FC;\n",
              "    }\n",
              "\n",
              "    [theme=dark] .colab-df-convert:hover {\n",
              "      background-color: #434B5C;\n",
              "      box-shadow: 0px 1px 3px 1px rgba(0, 0, 0, 0.15);\n",
              "      filter: drop-shadow(0px 1px 2px rgba(0, 0, 0, 0.3));\n",
              "      fill: #FFFFFF;\n",
              "    }\n",
              "  </style>\n",
              "\n",
              "      <script>\n",
              "        const buttonEl =\n",
              "          document.querySelector('#df-1dc736b9-87ce-4a81-a7d6-8ed1f3651a7b button.colab-df-convert');\n",
              "        buttonEl.style.display =\n",
              "          google.colab.kernel.accessAllowed ? 'block' : 'none';\n",
              "\n",
              "        async function convertToInteractive(key) {\n",
              "          const element = document.querySelector('#df-1dc736b9-87ce-4a81-a7d6-8ed1f3651a7b');\n",
              "          const dataTable =\n",
              "            await google.colab.kernel.invokeFunction('convertToInteractive',\n",
              "                                                     [key], {});\n",
              "          if (!dataTable) return;\n",
              "\n",
              "          const docLinkHtml = 'Like what you see? Visit the ' +\n",
              "            '<a target=\"_blank\" href=https://colab.research.google.com/notebooks/data_table.ipynb>data table notebook</a>'\n",
              "            + ' to learn more about interactive tables.';\n",
              "          element.innerHTML = '';\n",
              "          dataTable['output_type'] = 'display_data';\n",
              "          await google.colab.output.renderOutput(dataTable, element);\n",
              "          const docLink = document.createElement('div');\n",
              "          docLink.innerHTML = docLinkHtml;\n",
              "          element.appendChild(docLink);\n",
              "        }\n",
              "      </script>\n",
              "    </div>\n",
              "  </div>\n",
              "  "
            ]
          },
          "metadata": {},
          "execution_count": 707
        }
      ],
      "source": [
        "train_new.head()"
      ]
    },
    {
      "cell_type": "code",
      "execution_count": null,
      "metadata": {
        "colab": {
          "base_uri": "https://localhost:8080/"
        },
        "id": "c9N__eeCk5mA",
        "outputId": "eb70da88-6ee8-4dec-e193-ad45f45f091b"
      },
      "outputs": [
        {
          "output_type": "execute_result",
          "data": {
            "text/plain": [
              "array([18., 22., nan, 29., 21.,  5.,  4.,  7., 26., 23., 20., 28., 19.,\n",
              "        1., 27., 30., 12., 24.,  6., 15., 25., 17.,  9., 16., 14., 11.,\n",
              "        3.,  2., 13., 10.,  8.])"
            ]
          },
          "metadata": {},
          "execution_count": 708
        }
      ],
      "source": [
        "train_new['company_process_time'].unique()"
      ]
    },
    {
      "cell_type": "code",
      "execution_count": null,
      "metadata": {
        "colab": {
          "base_uri": "https://localhost:8080/"
        },
        "id": "LGgUEvY2nZEi",
        "outputId": "aa884635-05a0-4187-b56b-717350bf72b1"
      },
      "outputs": [
        {
          "output_type": "execute_result",
          "data": {
            "text/plain": [
              "2145"
            ]
          },
          "metadata": {},
          "execution_count": 709
        }
      ],
      "source": [
        "train_new['company_process_time'].isna().sum()"
      ]
    },
    {
      "cell_type": "code",
      "execution_count": null,
      "metadata": {
        "colab": {
          "base_uri": "https://localhost:8080/"
        },
        "id": "7OXcO9s-pA7f",
        "outputId": "3266efd7-cd73-4667-d662-6f4354b70540"
      },
      "outputs": [
        {
          "output_type": "execute_result",
          "data": {
            "text/plain": [
              "192"
            ]
          },
          "metadata": {},
          "execution_count": 710
        }
      ],
      "source": [
        "train_new['company_industry'].isna().sum()"
      ]
    },
    {
      "cell_type": "code",
      "execution_count": null,
      "metadata": {
        "colab": {
          "base_uri": "https://localhost:8080/"
        },
        "id": "hiZIvT1epLLg",
        "outputId": "e942e663-3ffd-4a6e-a0b3-8c5d46bde316"
      },
      "outputs": [
        {
          "output_type": "execute_result",
          "data": {
            "text/plain": [
              "21.083729781160798"
            ]
          },
          "metadata": {},
          "execution_count": 711
        }
      ],
      "source": [
        "train_new['company_process_time'].mean()"
      ]
    },
    {
      "cell_type": "code",
      "execution_count": null,
      "metadata": {
        "colab": {
          "base_uri": "https://localhost:8080/"
        },
        "id": "XKKa2yXMtgBI",
        "outputId": "11d43398-153d-4545-e75c-69bbebca0fd5"
      },
      "outputs": [
        {
          "output_type": "execute_result",
          "data": {
            "text/plain": [
              "0"
            ]
          },
          "metadata": {},
          "execution_count": 712
        }
      ],
      "source": [
        "train_new['job_function'].isna().sum()"
      ]
    },
    {
      "cell_type": "code",
      "execution_count": null,
      "metadata": {
        "colab": {
          "base_uri": "https://localhost:8080/"
        },
        "id": "Xwn03gDarWvu",
        "outputId": "748f8fb0-f70e-4d4d-a967-84594d3ef00d"
      },
      "outputs": [
        {
          "output_type": "execute_result",
          "data": {
            "text/plain": [
              "array(['Manufaktur,Manufaktur', 'Akuntansi / Keuangan,Audit & Pajak',\n",
              "       'Akuntansi / Keuangan,Akuntansi Umum / Pembiayaan',\n",
              "       'Manufaktur,Pembelian/Manajemen Material',\n",
              "       'Penjualan / Pemasaran,Pemasaran/Pengembangan Bisnis',\n",
              "       'Teknik,Mekanikal',\n",
              "       'Komputer/Teknologi Informasi,IT-Perangkat Lunak',\n",
              "       'Penjualan / Pemasaran,E-commerce',\n",
              "       'Seni/Media/Komunikasi,Hubungan Masyarakat',\n",
              "       'Bangunan/Konstruksi,Teknik Sipil/Konstruksi Bangunan',\n",
              "       'Penjualan / Pemasaran,Penjualan - Jasa Keuangan',\n",
              "       'Hotel/Restoran,Makanan/Minuman/Pelayanan Restoran',\n",
              "       'Lainnya,Pekerjaan Umum', 'Pelayanan,Logistik/Rantai Pasokan',\n",
              "       'Penjualan / Pemasaran,Digital Marketing',\n",
              "       'Bangunan/Konstruksi,Arsitek/Desain Interior',\n",
              "       'Manufaktur,Pemeliharaan', 'Penjualan / Pemasaran,Penjualan Ritel',\n",
              "       'Sumber Daya Manusia/Personalia,Sumber Daya Manusia / HR',\n",
              "       'Akuntansi / Keuangan,Keuangan / Investasi Perusahaan ',\n",
              "       'Komputer/Teknologi Informasi,IT-Admin Jaringan/Sistem/Database',\n",
              "       'Sains,Aktuaria/Statistik',\n",
              "       'Sumber Daya Manusia/Personalia,Staf / Administrasi umum',\n",
              "       'Lainnya,Jurnalis/Editor', 'Teknik,Teknik Lingkungan',\n",
              "       'Penjualan / Pemasaran,Penjualan - Teknik/Teknikal/IT',\n",
              "       'Seni/Media/Komunikasi,Seni / Desain Kreatif',\n",
              "       'Pelayanan,Layanan Pelanggan', 'Teknik,Teknik Lainnya',\n",
              "       'Akuntansi / Keuangan,Perbankan / Jasa Finansial ',\n",
              "       'Lainnya,Lainnya/Kategori tidak tersedia',\n",
              "       'Penjualan / Pemasaran,Penjualan - Korporasi',\n",
              "       'Sumber Daya Manusia/Personalia,Sekretaris',\n",
              "       'Penjualan / Pemasaran,Merchandising',\n",
              "       'Sains,Teknologi Makanan/Ahli Gizi', 'Sains,Pertanian',\n",
              "       'Penjualan / Pemasaran,Telesales/Telemarketing',\n",
              "       'Teknik,Teknik Elektronika', 'Pendidikan/Pelatihan,Pendidikan',\n",
              "       'Pendidikan/Pelatihan,Pelatihan & Pengembangan',\n",
              "       'Teknik,Teknik Kimia',\n",
              "       'Sumber Daya Manusia/Personalia,Top Management / Manajemen Tingkat Atas',\n",
              "       'Sains,Bioteknologi', 'Pelayanan,Pengacara / Asisten Legal',\n",
              "       'Manufaktur,Penjaminan Kualitas / QA',\n",
              "       'Layanan Kesehatan,Diagnosa/Lainnya',\n",
              "       'Layanan Kesehatan,Praktisi/Asisten Medis',\n",
              "       'Teknik,Teknik Elektro', 'Layanan Kesehatan,Farmasi',\n",
              "       'Seni/Media/Komunikasi,Periklanan', 'Sains,Kimia',\n",
              "       'Pelayanan,Angkatan Bersenjata',\n",
              "       'Komputer/Teknologi Informasi,IT-Perangkat Keras',\n",
              "       'Pelayanan,Layanan Sosial/Konseling',\n",
              "       'Hotel/Restoran,Hotel/Pariwisata', 'Sains,Geologi/Geofisika',\n",
              "       'Pelayanan,Teknikal & Bantuan Pelanggan',\n",
              "       'Manufaktur,Kontrol Proses', 'Sains,Biomedis',\n",
              "       'Pelayanan,Perawatan Pribadi',\n",
              "       'Bangunan/Konstruksi,Properti/Real Estate',\n",
              "       'Sains,Sains & Teknologi', 'Teknik,Teknik Industri',\n",
              "       'Bangunan/Konstruksi,Survei Kuantitas', 'Teknik,Minyak/Gas',\n",
              "       'Seni/Media/Komunikasi,Hiburan', 'Lainnya,Penerbitan'],\n",
              "      dtype=object)"
            ]
          },
          "metadata": {},
          "execution_count": 713
        }
      ],
      "source": [
        "job_function = train_new['job_function'].unique()\n",
        "\n",
        "job_function"
      ]
    },
    {
      "cell_type": "code",
      "execution_count": null,
      "metadata": {
        "colab": {
          "base_uri": "https://localhost:8080/"
        },
        "id": "00HJQ-wrrl2a",
        "outputId": "64d3fb58-edcb-402c-d33e-5a6f2bbef47b"
      },
      "outputs": [
        {
          "output_type": "execute_result",
          "data": {
            "text/plain": [
              "{'Akuntansi / Keuangan,Akuntansi Umum / Pembiayaan': 21,\n",
              " 'Akuntansi / Keuangan,Audit & Pajak': 20,\n",
              " 'Akuntansi / Keuangan,Keuangan / Investasi Perusahaan ': 24,\n",
              " 'Akuntansi / Keuangan,Perbankan / Jasa Finansial ': 20,\n",
              " 'Bangunan/Konstruksi,Arsitek/Desain Interior': 24,\n",
              " 'Bangunan/Konstruksi,Properti/Real Estate': 22,\n",
              " 'Bangunan/Konstruksi,Survei Kuantitas': 16,\n",
              " 'Bangunan/Konstruksi,Teknik Sipil/Konstruksi Bangunan': 23,\n",
              " 'Hotel/Restoran,Hotel/Pariwisata': 18,\n",
              " 'Hotel/Restoran,Makanan/Minuman/Pelayanan Restoran': 22,\n",
              " 'Komputer/Teknologi Informasi,IT-Admin Jaringan/Sistem/Database': 22,\n",
              " 'Komputer/Teknologi Informasi,IT-Perangkat Keras': 21,\n",
              " 'Komputer/Teknologi Informasi,IT-Perangkat Lunak': 17,\n",
              " 'Lainnya,Jurnalis/Editor': 16,\n",
              " 'Lainnya,Lainnya/Kategori tidak tersedia': 21,\n",
              " 'Lainnya,Pekerjaan Umum': 24,\n",
              " 'Lainnya,Penerbitan': 18,\n",
              " 'Layanan Kesehatan,Diagnosa/Lainnya': 26,\n",
              " 'Layanan Kesehatan,Farmasi': 24,\n",
              " 'Layanan Kesehatan,Praktisi/Asisten Medis': 23,\n",
              " 'Manufaktur,Kontrol Proses': 7,\n",
              " 'Manufaktur,Manufaktur': 23,\n",
              " 'Manufaktur,Pembelian/Manajemen Material': 24,\n",
              " 'Manufaktur,Pemeliharaan': 23,\n",
              " 'Manufaktur,Penjaminan Kualitas / QA': 22,\n",
              " 'Pelayanan,Angkatan Bersenjata': 15,\n",
              " 'Pelayanan,Layanan Pelanggan': 21,\n",
              " 'Pelayanan,Layanan Sosial/Konseling': 29,\n",
              " 'Pelayanan,Logistik/Rantai Pasokan': 24,\n",
              " 'Pelayanan,Pengacara / Asisten Legal': 22,\n",
              " 'Pelayanan,Perawatan Pribadi': 13,\n",
              " 'Pelayanan,Teknikal & Bantuan Pelanggan': 25,\n",
              " 'Pendidikan/Pelatihan,Pelatihan & Pengembangan': 19,\n",
              " 'Pendidikan/Pelatihan,Pendidikan': 20,\n",
              " 'Penjualan / Pemasaran,Digital Marketing': 20,\n",
              " 'Penjualan / Pemasaran,E-commerce': 22,\n",
              " 'Penjualan / Pemasaran,Merchandising': 22,\n",
              " 'Penjualan / Pemasaran,Pemasaran/Pengembangan Bisnis': 21,\n",
              " 'Penjualan / Pemasaran,Penjualan - Jasa Keuangan': 19,\n",
              " 'Penjualan / Pemasaran,Penjualan - Korporasi': 22,\n",
              " 'Penjualan / Pemasaran,Penjualan - Teknik/Teknikal/IT': 22,\n",
              " 'Penjualan / Pemasaran,Penjualan Ritel': 21,\n",
              " 'Penjualan / Pemasaran,Telesales/Telemarketing': 22,\n",
              " 'Sains,Aktuaria/Statistik': 20,\n",
              " 'Sains,Biomedis': 27,\n",
              " 'Sains,Bioteknologi': 29,\n",
              " 'Sains,Geologi/Geofisika': 29,\n",
              " 'Sains,Kimia': 23,\n",
              " 'Sains,Pertanian': 25,\n",
              " 'Sains,Sains & Teknologi': 18,\n",
              " 'Sains,Teknologi Makanan/Ahli Gizi': 24,\n",
              " 'Seni/Media/Komunikasi,Hiburan': 22,\n",
              " 'Seni/Media/Komunikasi,Hubungan Masyarakat': 17,\n",
              " 'Seni/Media/Komunikasi,Periklanan': 21,\n",
              " 'Seni/Media/Komunikasi,Seni / Desain Kreatif': 21,\n",
              " 'Sumber Daya Manusia/Personalia,Sekretaris': 22,\n",
              " 'Sumber Daya Manusia/Personalia,Staf / Administrasi umum': 21,\n",
              " 'Sumber Daya Manusia/Personalia,Sumber Daya Manusia / HR': 20,\n",
              " 'Sumber Daya Manusia/Personalia,Top Management / Manajemen Tingkat Atas': 20,\n",
              " 'Teknik,Mekanikal': 22,\n",
              " 'Teknik,Minyak/Gas': 29,\n",
              " 'Teknik,Teknik Elektro': 23,\n",
              " 'Teknik,Teknik Elektronika': 23,\n",
              " 'Teknik,Teknik Industri': 24,\n",
              " 'Teknik,Teknik Kimia': 20,\n",
              " 'Teknik,Teknik Lainnya': 23,\n",
              " 'Teknik,Teknik Lingkungan': 27}"
            ]
          },
          "metadata": {},
          "execution_count": 714
        }
      ],
      "source": [
        "jobfunction_mean = dict()\n",
        "for i in range(len(job_function)):\n",
        "    jobfunction_mean[job_function[i]] = round(train_new[train_new['job_function'] == job_function[i]]['company_process_time'].mean())\n",
        "\n",
        "jobfunction_mean"
      ]
    },
    {
      "cell_type": "code",
      "source": [
        "train_new['company_process_time'].fillna(round(train_new['company_process_time'].mean(),0), inplace=True)"
      ],
      "metadata": {
        "id": "VAzzza0d8xle"
      },
      "execution_count": null,
      "outputs": []
    },
    {
      "cell_type": "code",
      "execution_count": null,
      "metadata": {
        "id": "ObSOz30NxKDC"
      },
      "outputs": [],
      "source": [
        "coba_coba = train_new.copy()"
      ]
    },
    {
      "cell_type": "code",
      "execution_count": null,
      "metadata": {
        "id": "DpOYztDBu2FM"
      },
      "outputs": [],
      "source": [
        "# pointer = 0\n",
        "# for key, value in jobfunction_mean.items():\n",
        "#     coba_coba[coba_coba['job_function'] == key].fillna(value, inplace=True)\n",
        "#     # print(key, value)"
      ]
    },
    {
      "cell_type": "code",
      "execution_count": null,
      "metadata": {
        "id": "xwhiWb8ezJJE"
      },
      "outputs": [],
      "source": [
        "# coba_coba[coba_coba['job_function'] == job_function['Teknik,Minyak/Gas']]"
      ]
    },
    {
      "cell_type": "code",
      "execution_count": null,
      "metadata": {
        "id": "YQQh9hE9zsef"
      },
      "outputs": [],
      "source": [
        "# coba_coba[coba_coba['job_function'] == job_function[0]]"
      ]
    },
    {
      "cell_type": "code",
      "execution_count": null,
      "metadata": {
        "id": "lcgHd9Txz2xP"
      },
      "outputs": [],
      "source": [
        "# pointer = 0\n",
        "# for key, value in jobfunction_mean.items():\n",
        "#     coba_coba[coba_coba['job_function'] == key]['company_process_time'].fillna(value, inplace=True)\n",
        "#     # print(key, value)"
      ]
    },
    {
      "cell_type": "code",
      "execution_count": null,
      "metadata": {
        "id": "v9ufd1F60R55"
      },
      "outputs": [],
      "source": [
        "# coba_coba[coba_coba['job_function'] == job_function[0]]"
      ]
    },
    {
      "cell_type": "code",
      "execution_count": null,
      "metadata": {
        "id": "I0zdjKQt1YHR"
      },
      "outputs": [],
      "source": [
        "# for key, value in jobfunction_mean.items():\n",
        "# coba_coba.loc[coba_coba.job_function == 'Manufaktur,Manufaktur', [\"company_process_time\"]].fillna(jobfunction_mean['Manufaktur,Manufaktur'], inplace=True)\n",
        "# coba_coba.loc[coba_coba['job_function'] == 'Manufaktur,Manufaktur', 'company_process_time'] = coba_coba.loc[coba_coba['job_function'] == 'Manufaktur,Manufaktur', 'company_process_time'].fillna(jobfunction_mean['Manufaktur,Manufaktur'], inplace=True)"
      ]
    },
    {
      "cell_type": "code",
      "execution_count": null,
      "metadata": {
        "id": "fyRX1OX2184j"
      },
      "outputs": [],
      "source": [
        "# coba_coba[coba_coba['job_function'] == job_function[0]]"
      ]
    },
    {
      "cell_type": "markdown",
      "metadata": {
        "id": "x8HSKf926zri"
      },
      "source": [
        "**^ BELUM SELESAI**"
      ]
    },
    {
      "cell_type": "markdown",
      "metadata": {
        "id": "N6j0Q6LA8K4k"
      },
      "source": [
        "## employment_type"
      ]
    },
    {
      "cell_type": "code",
      "execution_count": null,
      "metadata": {
        "colab": {
          "base_uri": "https://localhost:8080/"
        },
        "id": "fuIA090m63Ug",
        "outputId": "da8e6ad9-48fe-4913-fed8-de8250cec5af"
      },
      "outputs": [
        {
          "output_type": "execute_result",
          "data": {
            "text/plain": [
              "array(['Penuh Waktu', 'Kontrak', 'Paruh Waktu', 'Magang',\n",
              "       'Penuh Waktu, Magang', 'Temporer', 'Penuh Waktu, Kontrak',\n",
              "       'Penuh Waktu, Paruh Waktu'], dtype=object)"
            ]
          },
          "metadata": {},
          "execution_count": 724
        }
      ],
      "source": [
        "employment_type = train_new['employment_type'].unique()\n",
        "employment_type"
      ]
    },
    {
      "cell_type": "code",
      "execution_count": null,
      "metadata": {
        "colab": {
          "base_uri": "https://localhost:8080/"
        },
        "id": "fdvpY5H_6_3n",
        "outputId": "a3872154-2865-461a-dca5-19a3f6fcbab6"
      },
      "outputs": [
        {
          "output_type": "execute_result",
          "data": {
            "text/plain": [
              "7"
            ]
          },
          "metadata": {},
          "execution_count": 725
        }
      ],
      "source": [
        "len(train_new[(train_new['employment_type'] == employment_type[4]) | (train_new['employment_type'] == employment_type[6]) | (train_new['employment_type'] == employment_type[7])])"
      ]
    },
    {
      "cell_type": "code",
      "execution_count": null,
      "metadata": {
        "id": "mchkTHZ_791t"
      },
      "outputs": [],
      "source": [
        "train_new.drop(train_new[(train_new['employment_type'] == employment_type[4]) | (train_new['employment_type'] == employment_type[6]) | (train_new['employment_type'] == employment_type[7])].index, axis=0, inplace = True)"
      ]
    },
    {
      "cell_type": "code",
      "execution_count": null,
      "metadata": {
        "colab": {
          "base_uri": "https://localhost:8080/"
        },
        "id": "7EPgZkg_8nR3",
        "outputId": "729d5696-5aab-4489-e945-aca875ce906d"
      },
      "outputs": [
        {
          "output_type": "execute_result",
          "data": {
            "text/plain": [
              "array(['Penuh Waktu', 'Kontrak', 'Paruh Waktu', 'Magang', 'Temporer'],\n",
              "      dtype=object)"
            ]
          },
          "metadata": {},
          "execution_count": 727
        }
      ],
      "source": [
        "train_new['employment_type'].unique()"
      ]
    },
    {
      "cell_type": "code",
      "execution_count": null,
      "metadata": {
        "colab": {
          "base_uri": "https://localhost:8080/"
        },
        "id": "oKrOoc4oBkhB",
        "outputId": "6a8eb1b5-49f1-445a-d090-1ac11a009d54"
      },
      "outputs": [
        {
          "output_type": "execute_result",
          "data": {
            "text/plain": [
              "array(['Penuh Waktu', 'Kontrak', 'Paruh Waktu', 'Magang', 'Temporer'],\n",
              "      dtype=object)"
            ]
          },
          "metadata": {},
          "execution_count": 728
        }
      ],
      "source": [
        "et_label = train_new['employment_type'].unique()\n",
        "et_label"
      ]
    },
    {
      "cell_type": "code",
      "execution_count": null,
      "metadata": {
        "id": "Q-DVODsfHfgL"
      },
      "outputs": [],
      "source": [
        "def employment_type(et):\n",
        "    if et is not np.NaN:\n",
        "        et = re.sub(\" \", \"_\", et)\n",
        "    return et"
      ]
    },
    {
      "cell_type": "code",
      "execution_count": null,
      "metadata": {
        "id": "OjwgorilFNbd"
      },
      "outputs": [],
      "source": [
        "# train_new[\"employment_type\"] = train_new[\"employment_type\"].apply(lambda item: np.NaN if item is np.NaN else str(item).lower())\n",
        "# train_new[\"employment_type\"] = train_new[\"employment_type\"].apply(employment_type)"
      ]
    },
    {
      "cell_type": "code",
      "execution_count": null,
      "metadata": {
        "colab": {
          "base_uri": "https://localhost:8080/"
        },
        "id": "WwOTdUO6FSHJ",
        "outputId": "ad610155-e584-46a7-fa78-2e2452201e1f"
      },
      "outputs": [
        {
          "output_type": "execute_result",
          "data": {
            "text/plain": [
              "array(['Penuh Waktu', 'Kontrak', 'Paruh Waktu', 'Magang', 'Temporer'],\n",
              "      dtype=object)"
            ]
          },
          "metadata": {},
          "execution_count": 731
        }
      ],
      "source": [
        "train_new['employment_type'].unique()"
      ]
    },
    {
      "cell_type": "code",
      "execution_count": null,
      "metadata": {
        "id": "lTC3ax1i_e_e"
      },
      "outputs": [],
      "source": [
        "def employment_type_label(et):\n",
        "    if et == et_label[0]:\n",
        "        return 0\n",
        "    elif et == et_label[1]:\n",
        "        return 1\n",
        "    elif et == et_label[2]:\n",
        "        return 2\n",
        "    elif et == et_label[3]:\n",
        "        return 3\n",
        "    elif et == et_label[4]:\n",
        "        return 4"
      ]
    },
    {
      "cell_type": "code",
      "execution_count": null,
      "metadata": {
        "id": "BGGbtKhyB-76"
      },
      "outputs": [],
      "source": [
        "train_new['employment_type'] = train_new['employment_type'].apply(employment_type_label)"
      ]
    },
    {
      "cell_type": "code",
      "execution_count": null,
      "metadata": {
        "colab": {
          "base_uri": "https://localhost:8080/"
        },
        "id": "MamqCva0Czlr",
        "outputId": "409ae5f6-b534-4d4f-b4ad-56aa8443d17d"
      },
      "outputs": [
        {
          "output_type": "execute_result",
          "data": {
            "text/plain": [
              "array([0, 1, 2, 3, 4])"
            ]
          },
          "metadata": {},
          "execution_count": 734
        }
      ],
      "source": [
        "train_new['employment_type'].unique() "
      ]
    },
    {
      "cell_type": "code",
      "execution_count": null,
      "metadata": {
        "id": "tPQnTxk4CIu-"
      },
      "outputs": [],
      "source": [
        "# print(employment_type[0],\"\\t:\",len(train_new[train_new['employment_type'] == 0]))\n",
        "# print(employment_type[1],\"\\t:\",len(train_new[train_new['employment_type'] == 1]))\n",
        "# print(employment_type[2],\"\\t:\",len(train_new[train_new['employment_type'] == 2]))\n",
        "# print(employment_type[3],\"\\t\\t:\",len(train_new[train_new['employment_type'] == 3]))"
      ]
    },
    {
      "cell_type": "code",
      "execution_count": null,
      "metadata": {
        "id": "z8CnLsyJ3agv"
      },
      "outputs": [],
      "source": [
        ""
      ]
    },
    {
      "cell_type": "markdown",
      "metadata": {
        "id": "eEemWelXEUnH"
      },
      "source": [
        "## career_level"
      ]
    },
    {
      "cell_type": "code",
      "execution_count": null,
      "metadata": {
        "id": "0DzK0y9wEUnI",
        "colab": {
          "base_uri": "https://localhost:8080/"
        },
        "outputId": "1277afb0-5426-40eb-cde8-96d6948013b9"
      },
      "outputs": [
        {
          "output_type": "execute_result",
          "data": {
            "text/plain": [
              "array(['Supervisor/Koordinator',\n",
              "       'Pegawai (non-manajemen & non-supervisor)',\n",
              "       'Manajer/Asisten Manajer',\n",
              "       'Lulusan baru/Pengalaman kerja kurang dari 1 tahun',\n",
              "       'CEO/GM/Direktur/Manajer Senior'], dtype=object)"
            ]
          },
          "metadata": {},
          "execution_count": 736
        }
      ],
      "source": [
        "career_level = train_new['career_level'].unique()\n",
        "career_level"
      ]
    },
    {
      "cell_type": "code",
      "execution_count": null,
      "metadata": {
        "id": "XmYDFDDfEUnJ"
      },
      "outputs": [],
      "source": [
        "def career_level_label(cl):\n",
        "    if cl == career_level[0]:\n",
        "        return 0\n",
        "    elif cl == career_level[1]:\n",
        "        return 1\n",
        "    elif cl == career_level[2]:\n",
        "        return 2\n",
        "    elif cl == career_level[3]:\n",
        "        return 3\n",
        "    elif cl == career_level[4]:\n",
        "        return 4"
      ]
    },
    {
      "cell_type": "code",
      "execution_count": null,
      "metadata": {
        "id": "Y6H4XsYXEUnJ"
      },
      "outputs": [],
      "source": [
        "train_new['career_level'] = train_new['career_level'].apply(career_level_label)"
      ]
    },
    {
      "cell_type": "code",
      "execution_count": null,
      "metadata": {
        "id": "AkpTpVUnEUnJ",
        "colab": {
          "base_uri": "https://localhost:8080/"
        },
        "outputId": "6e9ed4ac-50e8-4fef-a6b9-2838ba688195"
      },
      "outputs": [
        {
          "output_type": "execute_result",
          "data": {
            "text/plain": [
              "array([0, 1, 2, 3, 4])"
            ]
          },
          "metadata": {},
          "execution_count": 739
        }
      ],
      "source": [
        "train_new['career_level'].unique() "
      ]
    },
    {
      "cell_type": "code",
      "execution_count": null,
      "metadata": {
        "id": "Wad5NYsDEUnJ",
        "colab": {
          "base_uri": "https://localhost:8080/"
        },
        "outputId": "6eb0df3e-14c4-491c-d4b9-cc55ecebcb50"
      },
      "outputs": [
        {
          "output_type": "stream",
          "name": "stdout",
          "text": [
            "Supervisor/Koordinator \t\t\t\t\t: 1055\n",
            "Pegawai (non-manajemen & non-supervisor) \t\t: 3910\n",
            "Manajer/Asisten Manajer \t\t\t\t: 803\n",
            "Lulusan baru/Pengalaman kerja kurang dari 1 tahun \t: 465\n",
            "CEO/GM/Direktur/Manajer Senior \t\t\t\t: 109\n"
          ]
        }
      ],
      "source": [
        "print(career_level[0],\"\\t\\t\\t\\t\\t:\",len(train_new[train_new['career_level'] == 0]))\n",
        "print(career_level[1],\"\\t\\t:\",len(train_new[train_new['career_level'] == 1]))\n",
        "print(career_level[2],\"\\t\\t\\t\\t:\",len(train_new[train_new['career_level'] == 2]))\n",
        "print(career_level[3],\"\\t:\",len(train_new[train_new['career_level'] == 3]))\n",
        "print(career_level[4],\"\\t\\t\\t\\t:\",len(train_new[train_new['career_level'] == 4]))"
      ]
    },
    {
      "cell_type": "markdown",
      "metadata": {
        "id": "N659iV91HLrl"
      },
      "source": [
        "## education_level"
      ]
    },
    {
      "cell_type": "code",
      "execution_count": null,
      "metadata": {
        "id": "5-tLxN4-HNQk",
        "colab": {
          "base_uri": "https://localhost:8080/"
        },
        "outputId": "dc452bbb-62e7-43be-8bb9-4bd4f316057e"
      },
      "outputs": [
        {
          "output_type": "stream",
          "name": "stdout",
          "text": [
            "Sertifikat Professional, D3 (Diploma), D4 (Diploma), Sarjana (S1) : 1110\n",
            "SMA, SMU/SMK/STM, Sertifikat Professional, D3 (Diploma), D4 (Diploma), Sarjana (S1) : 782\n",
            "Tidak terspesifikasi : 1098\n",
            "Sarjana (S1) : 1800\n",
            "Sarjana (S1), Diploma Pascasarjana, Gelar Professional, Magister (S2) : 295\n",
            "SMA, SMU/SMK/STM : 420\n",
            "Sertifikat Professional, D3 (Diploma), D4 (Diploma) : 303\n",
            "Sertifikat Professional, D3 (Diploma), D4 (Diploma), Sarjana (S1), Diploma Pascasarjana, Gelar Professional, Magister (S2) : 275\n",
            "SMA, SMU/SMK/STM, Sarjana (S1) : 53\n",
            "SMA, SMU/SMK/STM, Sertifikat Professional, D3 (Diploma), D4 (Diploma) : 141\n",
            "Sarjana (S1), Diploma Pascasarjana, Gelar Professional, Magister (S2), Doktor (S3) : 29\n",
            "Diploma Pascasarjana, Gelar Professional, Magister (S2) : 11\n",
            "Sarjana (S1), Doktor (S3) : 1\n",
            "Doktor (S3) : 2\n",
            "SMA, SMU/SMK/STM, Sarjana (S1), Diploma Pascasarjana, Gelar Professional, Magister (S2) : 9\n",
            "Sertifikat Professional, D3 (Diploma), D4 (Diploma), Diploma Pascasarjana, Gelar Professional, Magister (S2) : 9\n",
            "Sertifikat Professional, D3 (Diploma), D4 (Diploma), Sarjana (S1), Doktor (S3) : 1\n",
            "Diploma Pascasarjana, Gelar Professional, Magister (S2), Doktor (S3) : 3\n",
            "\n",
            "Total Data :  6342\n"
          ]
        }
      ],
      "source": [
        "sum = 0\n",
        "for i in range(len(train_new['education_level'].unique())):\n",
        "  print(train_new['education_level'].unique()[i],\":\", len(train_new[train_new['education_level'] == train_new['education_level'].unique()[i]]))\n",
        "  sum += len(train_new[train_new['education_level'] == train_new['education_level'].unique()[i]])\n",
        "\n",
        "print(\"\\nTotal Data : \", sum)"
      ]
    },
    {
      "cell_type": "code",
      "execution_count": null,
      "metadata": {
        "id": "Aqmh9keDHRyV",
        "colab": {
          "base_uri": "https://localhost:8080/"
        },
        "outputId": "37e69c60-3ef7-44cc-b77e-5c805c8d0188"
      },
      "outputs": [
        {
          "output_type": "execute_result",
          "data": {
            "text/plain": [
              "6342"
            ]
          },
          "metadata": {},
          "execution_count": 742
        }
      ],
      "source": [
        "len(train_new['education_level'])"
      ]
    },
    {
      "cell_type": "markdown",
      "metadata": {
        "id": "zNv958s1JVID"
      },
      "source": [
        "\n",
        "\n",
        "*   Doktor (S3) + Sertifikat Professional\n",
        "*   Doktor (S3) + Gelar Professional\n",
        "* Doktor (S3)\n",
        "*   Magister (S2) + Sertifikat Professional\n",
        "*   Magister (S2) + Gelar Professional\n",
        "* Magister (S2)\n",
        "*   Sarjana (S1) + Sertifikat Professional\n",
        "*   Sarjana (S1) + Gelar Professional\n",
        "* Sarjana (S1)\n",
        "*   D4 (Diploma) + Sertifikat Professional\n",
        "*   D4 (Diploma) + Gelar Professional\n",
        "* D4 (Diploma)\n",
        "* SMU/SMK/STM\n",
        "* Tidak terspesifikasi\n",
        "\n"
      ]
    },
    {
      "cell_type": "code",
      "execution_count": null,
      "metadata": {
        "id": "k2YUZ3cOIuwb"
      },
      "outputs": [],
      "source": [
        "def education_level_label(el):\n",
        "    if \"Doktor (S3)\" in el and \"Sertifikat Professional\" in el:\n",
        "        return 0\n",
        "    elif \"Doktor (S3)\" in el and \"Gelar Professional\" in el:\n",
        "        return 1\n",
        "    elif \"Doktor (S3)\" in el:\n",
        "        return 2\n",
        "    elif \"Magister (S2)\" in el and \"Sertifikat Professional\" in el:\n",
        "        return 3\n",
        "    elif \"Magister (S2)\" in el and \"Gelar Professional\" in el:\n",
        "        return 4\n",
        "    # elif \"Magister (S2)\" in el:\n",
        "    #     return 5\n",
        "    elif \"Sarjana (S1)\" in el and \"Sertifikat Professional\" in el:\n",
        "        return 5\n",
        "    # elif \"Sarjana (S1)\" in el and \"Gelar Professional\" in el:\n",
        "    #     return 7\n",
        "    elif \"Sarjana (S1)\" in el:\n",
        "        return 6\n",
        "    elif \"D4 (Diploma)\" in el and \"Sertifikat Professional\" in el:\n",
        "        return 7\n",
        "    # elif \"D4 (Diploma)\" in el and \"Gelar Professional\" in el:\n",
        "    #     return 10\n",
        "    # elif \"D4 (Diploma)\" in el:\n",
        "    #     return 11\n",
        "    elif \"SMU/SMK/STM\" in el:\n",
        "        return 8\n",
        "    elif \"Tidak terspesifikasi\" in el:\n",
        "        return 9\n",
        "    else:\n",
        "        return el\n",
        "     "
      ]
    },
    {
      "cell_type": "code",
      "execution_count": null,
      "metadata": {
        "id": "o8KcXPhZLg71"
      },
      "outputs": [],
      "source": [
        "train_new['education_level'] = train_new['education_level'].apply(education_level_label)"
      ]
    },
    {
      "cell_type": "code",
      "execution_count": null,
      "metadata": {
        "id": "mZhyXoQ2Ltvh",
        "colab": {
          "base_uri": "https://localhost:8080/"
        },
        "outputId": "ed491851-65d3-4160-b2c2-79d4b55d0555"
      },
      "outputs": [
        {
          "output_type": "execute_result",
          "data": {
            "text/plain": [
              "[0, 1, 2, 3, 4, 5, 6, 7, 8, 9]"
            ]
          },
          "metadata": {},
          "execution_count": 745
        }
      ],
      "source": [
        "el_label = sorted(train_new['education_level'].unique())\n",
        "el_label"
      ]
    },
    {
      "cell_type": "code",
      "execution_count": null,
      "metadata": {
        "id": "iiocfBUJMnvV",
        "colab": {
          "base_uri": "https://localhost:8080/"
        },
        "outputId": "76c87078-aad3-412d-cc5b-f9d4b9d882e1"
      },
      "outputs": [
        {
          "output_type": "stream",
          "name": "stdout",
          "text": [
            "0 \t: 1\n",
            "1 \t: 32\n",
            "2 \t: 3\n",
            "3 \t: 284\n",
            "4 \t: 315\n",
            "5 \t: 1892\n",
            "6 \t: 1853\n",
            "7 \t: 444\n",
            "8 \t: 420\n",
            "9 \t: 1098\n"
          ]
        }
      ],
      "source": [
        "print(el_label[0],\"\\t:\",len(train_new[train_new['education_level'] == 0]))\n",
        "print(el_label[1],\"\\t:\",len(train_new[train_new['education_level'] == 1]))\n",
        "print(el_label[2],\"\\t:\",len(train_new[train_new['education_level'] == 2]))\n",
        "print(el_label[3],\"\\t:\",len(train_new[train_new['education_level'] == 3]))\n",
        "print(el_label[4],\"\\t:\",len(train_new[train_new['education_level'] == 4]))\n",
        "print(el_label[5],\"\\t:\",len(train_new[train_new['education_level'] == 5]))\n",
        "print(el_label[6],\"\\t:\",len(train_new[train_new['education_level'] == 6]))\n",
        "print(el_label[7],\"\\t:\",len(train_new[train_new['education_level'] == 7]))\n",
        "print(el_label[8],\"\\t:\",len(train_new[train_new['education_level'] == 8]))\n",
        "print(el_label[9],\"\\t:\",len(train_new[train_new['education_level'] == 9]))"
      ]
    },
    {
      "cell_type": "markdown",
      "metadata": {
        "id": "NoU6leFE0zZ_"
      },
      "source": [
        "## salary_boxplot"
      ]
    },
    {
      "cell_type": "code",
      "execution_count": null,
      "metadata": {
        "id": "PT2g7lg90zIh",
        "colab": {
          "base_uri": "https://localhost:8080/",
          "height": 612
        },
        "outputId": "c6657c0a-25ef-4943-d178-5dbc37026199"
      },
      "outputs": [
        {
          "output_type": "stream",
          "name": "stderr",
          "text": [
            "/usr/local/lib/python3.7/dist-packages/seaborn/_decorators.py:43: FutureWarning: Pass the following variable as a keyword arg: x. From version 0.12, the only valid positional argument will be `data`, and passing other arguments without an explicit keyword will result in an error or misinterpretation.\n",
            "  FutureWarning\n"
          ]
        },
        {
          "output_type": "execute_result",
          "data": {
            "text/plain": [
              "<matplotlib.axes._subplots.AxesSubplot at 0x7ff5b50788d0>"
            ]
          },
          "metadata": {},
          "execution_count": 747
        },
        {
          "output_type": "display_data",
          "data": {
            "text/plain": [
              "<Figure size 864x576 with 1 Axes>"
            ],
            "image/png": "[encoded data removed]"
          },
          "metadata": {
            "needs_background": "light"
          }
        }
      ],
      "source": [
        "plt.figure(figsize = (12,8))\n",
        "plt.title('\\Boxplot Salary\\n', fontsize = 20)\n",
        "sns.boxplot(train_new['salary'])"
      ]
    },
    {
      "cell_type": "code",
      "execution_count": null,
      "metadata": {
        "id": "DjCfF_Kb88ym",
        "colab": {
          "base_uri": "https://localhost:8080/",
          "height": 634
        },
        "outputId": "a6979849-2b7a-49f5-e345-2ba8b46bf20c"
      },
      "outputs": [
        {
          "output_type": "stream",
          "name": "stderr",
          "text": [
            "/usr/local/lib/python3.7/dist-packages/seaborn/_decorators.py:43: FutureWarning: Pass the following variable as a keyword arg: x. From version 0.12, the only valid positional argument will be `data`, and passing other arguments without an explicit keyword will result in an error or misinterpretation.\n",
            "  FutureWarning\n"
          ]
        },
        {
          "output_type": "execute_result",
          "data": {
            "text/plain": [
              "Text(5300.0, 0.2, 'Outlier')"
            ]
          },
          "metadata": {},
          "execution_count": 748
        },
        {
          "output_type": "display_data",
          "data": {
            "text/plain": [
              "<Figure size 864x576 with 1 Axes>"
            ],
            "image/png": "[encoded data removed]"
          },
          "metadata": {
            "needs_background": "light"
          }
        }
      ],
      "source": [
        "plt.figure(figsize = (12,8))\n",
        "sns.boxplot(train_new['salary'])\n",
        "plt.title('\\nBoxplot Salary\\n', fontsize = 20)\n",
        "plt.annotate('Q1', (np.percentile(train_new['salary'], 25), 0.4), xytext = (np.percentile(train_new['salary'], 25), 0.5),arrowprops = dict(facecolor = 'black'), fontsize = 12 )\n",
        "plt.annotate('Q2', (np.percentile(train_new['salary'], 50), 0.4), xytext = (np.percentile(train_new['salary'], 50), 0.5),arrowprops = dict(facecolor = 'black'), fontsize = 12 )\n",
        "plt.annotate('Q3', (np.percentile(train_new['salary'], 75), 0.4), xytext = (np.percentile(train_new['salary'], 75), 0.5),arrowprops = dict(facecolor = 'black'), fontsize = 12 )\n",
        "IQR = np.percentile(train_new['salary'], 75) - np.percentile(train_new['salary'], 25)\n",
        "batas_bawah = np.percentile(train_new['salary'], 25) - (1.5 * IQR)\n",
        "batas_atas =  np.percentile(train_new['salary'], 75) + (1.5 * IQR)\n",
        "plt.annotate('Batas bawah',(batas_bawah+50, 0.2), xytext = (batas_bawah, 0.35)\n",
        "             ,arrowprops = dict(facecolor = 'blue'), fontsize = 12 )\n",
        "plt.annotate('Batas atas', (batas_atas-100, 0.2), xytext = (batas_atas, 0.35),arrowprops = dict(facecolor = 'red'), fontsize = 12 )\n",
        "plt.annotate('Outlier', (min(train_new['salary']), 0.04), xytext = (min(train_new['salary']), 0.2),arrowprops = dict(facecolor = 'green'), fontsize = 12 )"
      ]
    },
    {
      "cell_type": "code",
      "execution_count": null,
      "metadata": {
        "id": "i5pxM8KI7hoh",
        "colab": {
          "base_uri": "https://localhost:8080/",
          "height": 634
        },
        "outputId": "8cb6023c-0316-4884-eaec-2e426a596237"
      },
      "outputs": [
        {
          "output_type": "stream",
          "name": "stderr",
          "text": [
            "/usr/local/lib/python3.7/dist-packages/seaborn/distributions.py:2619: FutureWarning: `distplot` is a deprecated function and will be removed in a future version. Please adapt your code to use either `displot` (a figure-level function with similar flexibility) or `histplot` (an axes-level function for histograms).\n",
            "  warnings.warn(msg, FutureWarning)\n"
          ]
        },
        {
          "output_type": "execute_result",
          "data": {
            "text/plain": [
              "<matplotlib.axes._subplots.AxesSubplot at 0x7ff5b4456890>"
            ]
          },
          "metadata": {},
          "execution_count": 749
        },
        {
          "output_type": "display_data",
          "data": {
            "text/plain": [
              "<Figure size 864x576 with 1 Axes>"
            ],
            "image/png": "[encoded data removed]"
          },
          "metadata": {
            "needs_background": "light"
          }
        }
      ],
      "source": [
        "plt.figure(figsize = (12,8))\n",
        "plt.title('\\nDistribution Salary\\n', fontsize = 20)\n",
        "sns.distplot(train_new['salary'], kde=True, bins=15, color='r')"
      ]
    },
    {
      "cell_type": "code",
      "execution_count": null,
      "metadata": {
        "id": "g4zxlkuL9X9p"
      },
      "outputs": [],
      "source": [
        "# plt.figure(figsize = (8,8))\n",
        "# sns.distplot(train_new['salary'])\n",
        "# plt.axvline(x = np.mean(train_new['salary']), ls = '--', c ='red')\n",
        "# plt.axvline(x = np.mean(train_new['salary']) - np.std(train_new['salary']), ls = '--', c = 'blue')\n",
        "# plt.axvline(x = np.mean(train_new['salary']) + np.std(train_new['salary']), ls = '--', c = 'blue')\n",
        "# plt.axvline(x = np.mean(train_new['salary']) - 2*np.std(train_new['salary']), ls = '--', c = 'green')\n",
        "# plt.axvline(x = np.mean(train_new['salary']) + 2*np.std(train_new['salary']), ls = '--', c = 'green')\n",
        "# plt.axvline(x = np.mean(train_new['salary']) - 3*np.std(train_new['salary']), ls = '--', c = 'black')\n",
        "# plt.axvline(x = np.mean(train_new['salary']) + 3*np.std(train_new['salary']), ls = '--', c = 'black')\n",
        "# plt.annotate('Mean', (np.mean(train_new['salary']), 0.0004), xytext = (np.mean(train_new['salary']), 0.00045),arrowprops = dict(facecolor = 'red'), fontsize = 12 )\n",
        "# plt.annotate('1 * STD', ((np.mean(train_new['salary']) - np.std(train_new['salary'])), 0.0004), xytext = ((np.mean(train_new['salary']) - np.std(train_new['salary'])), 0.00045),arrowprops = dict(facecolor = 'blue') )\n",
        "# plt.annotate('1 * STD', ((np.mean(train_new['salary']) + np.std(train_new['salary'])), 0.0004), xytext = ((np.mean(train_new['salary']) + np.std(train_new['salary'])), 0.00045),arrowprops = dict(facecolor = 'blue') )\n",
        "# plt.annotate('2 * STD', ((np.mean(train_new['salary']) - 2*np.std(train_new['salary'])), 0.0004),xytext = ((np.mean(train_new['salary']) - 2*np.std(train_new['salary'])), 0.00045),arrowprops = dict(facecolor = 'green') )\n",
        "# plt.annotate('2 * STD', ((np.mean(train_new['salary']) + 2*np.std(train_new['salary'])), 0.0004), xytext = ((np.mean(train_new['salary']) + 2*np.std(train_new['salary'])), 0.00045),arrowprops = dict(facecolor = 'green') )\n",
        "# plt.annotate('3 * STD', ((np.mean(train_new['salary']) - 3*np.std(train_new['salary'])), 0.0004),xytext = ((np.mean(train_new['salary']) - 3*np.std(train_new['salary'])), 0.00045),arrowprops = dict(facecolor = 'black') )\n",
        "# plt.annotate('3 * STD', ((np.mean(train_new['salary']) + 3*np.std(train_new['salary'])), 0.0004),xytext = ((np.mean(train_new['salary']) + 3*np.std(train_new['salary'])), 0.00045),arrowprops = dict(facecolor = 'black') )"
      ]
    },
    {
      "cell_type": "code",
      "execution_count": null,
      "metadata": {
        "id": "QbmAc9ty1B89",
        "colab": {
          "base_uri": "https://localhost:8080/"
        },
        "outputId": "2831465d-342e-48d8-d784-961f921a7f4c"
      },
      "outputs": [
        {
          "output_type": "execute_result",
          "data": {
            "text/plain": [
              "count    6.342000e+03\n",
              "mean     7.112403e+06\n",
              "std      5.936426e+06\n",
              "min      5.300000e+03\n",
              "25%      4.250000e+06\n",
              "50%      5.500000e+06\n",
              "75%      8.000000e+06\n",
              "max      1.150000e+08\n",
              "Name: salary, dtype: float64"
            ]
          },
          "metadata": {},
          "execution_count": 751
        }
      ],
      "source": [
        "train_new['salary'].describe()"
      ]
    },
    {
      "cell_type": "code",
      "execution_count": null,
      "metadata": {
        "id": "LebFXX_p1NyO",
        "colab": {
          "base_uri": "https://localhost:8080/"
        },
        "outputId": "595e3fd8-adf3-48b8-9038-55a8481c6883"
      },
      "outputs": [
        {
          "output_type": "execute_result",
          "data": {
            "text/plain": [
              "array([6.34200000e+03, 7.11240345e+06, 5.93642591e+06, 5.30000000e+03,\n",
              "       4.25000000e+06, 5.50000000e+06, 8.00000000e+06, 1.15000000e+08])"
            ]
          },
          "metadata": {},
          "execution_count": 752
        }
      ],
      "source": [
        "salary_describe = train_new['salary'].describe().unique()\n",
        "salary_describe"
      ]
    },
    {
      "cell_type": "code",
      "execution_count": null,
      "metadata": {
        "id": "a6CFcTOM1YbS"
      },
      "outputs": [],
      "source": [
        "Q1_salary = salary_describe[4]\n",
        "Q3_salary = salary_describe[6]\n",
        "mean_salary = salary_describe[1]\n",
        "median_salary = salary_describe[5]"
      ]
    },
    {
      "cell_type": "code",
      "execution_count": null,
      "metadata": {
        "id": "3MU24Tof1xiZ"
      },
      "outputs": [],
      "source": [
        "IQR_salary = Q3_salary - Q1_salary"
      ]
    },
    {
      "cell_type": "code",
      "execution_count": null,
      "metadata": {
        "id": "5MfUBYQ414A-"
      },
      "outputs": [],
      "source": [
        "# OUTLIER CUSTOM\n",
        "limit_atas = Q3_salary + IQR_salary\n",
        "limit_bawah = Q1_salary - IQR_salary\n",
        "# OUTLIER DALAM\n",
        "# limit_atas = Q3_salary + IQR_salary * 1.5\n",
        "# limit_bawah = Q1_salary - IQR_salary * 1.5\n",
        "# OUTLIER LUAR\n",
        "# limit_atas = Q3_salary + IQR_salary * 3\n",
        "# limit_bawah = Q1_salary - IQR_salary * 3"
      ]
    },
    {
      "cell_type": "code",
      "execution_count": null,
      "metadata": {
        "id": "gaptL_zOlYuW"
      },
      "outputs": [],
      "source": [
        ""
      ]
    },
    {
      "cell_type": "code",
      "execution_count": null,
      "metadata": {
        "id": "Hl7y3Sod2jdJ",
        "colab": {
          "base_uri": "https://localhost:8080/",
          "height": 542
        },
        "outputId": "2dee2493-2840-4409-f51c-cb8d2494842f"
      },
      "outputs": [
        {
          "output_type": "display_data",
          "data": {
            "text/plain": [
              "<Figure size 864x576 with 1 Axes>"
            ],
            "image/png": "[encoded data removed]"
          },
          "metadata": {
            "needs_background": "light"
          }
        }
      ],
      "source": [
        "fig, ax = plt.subplots(figsize=(12, 8))\n",
        "ax.hist(train_new['salary'], bins=10, label='Salary')\n",
        "\n",
        "ax.axvline(limit_atas, color='r', label='Limit Nilai Ekstrim')\n",
        "ax.axvline(limit_bawah, color='r')\n",
        "\n",
        "ax.axvline(median_salary, color='g', label='Median')\n",
        "ax.axvline(mean_salary, color='k', label='Mean')\n",
        "\n",
        "plt.title(\"\\nSALARY\\n\")\n",
        "plt.legend(loc='best', prop={'size':15})\n",
        "\n",
        "plt.show()"
      ]
    },
    {
      "cell_type": "code",
      "execution_count": null,
      "metadata": {
        "id": "c2RbNDgC4J6B",
        "colab": {
          "base_uri": "https://localhost:8080/"
        },
        "outputId": "4b7f3415-92d7-4aec-a65f-db756bc0b199"
      },
      "outputs": [
        {
          "output_type": "execute_result",
          "data": {
            "text/plain": [
              "786"
            ]
          },
          "metadata": {},
          "execution_count": 757
        }
      ],
      "source": [
        "len(train_new[train_new['salary'] >= limit_atas])"
      ]
    },
    {
      "cell_type": "code",
      "execution_count": null,
      "metadata": {
        "id": "OJsvRrPP3x2e",
        "colab": {
          "base_uri": "https://localhost:8080/",
          "height": 346
        },
        "outputId": "bd45ceda-7b15-4fb8-dd9b-efd60a4ca037"
      },
      "outputs": [
        {
          "output_type": "execute_result",
          "data": {
            "text/plain": [
              "      id                                          job_title       location  \\\n",
              "26    27          marketing communication & channel manager  Jakarta Pusat   \n",
              "91    92                        distribution center manager     Jawa Timur   \n",
              "122  123  finance & accounting manager - port management...     Jawa Barat   \n",
              "\n",
              "     career_level  experience_level  education_level  employment_type  \\\n",
              "26              2               2.0                9                0   \n",
              "91              2               3.0                6                0   \n",
              "122             2               3.0                3                0   \n",
              "\n",
              "                                          job_function  \\\n",
              "26   Penjualan / Pemasaran,Pemasaran/Pengembangan B...   \n",
              "91                   Pelayanan,Logistik/Rantai Pasokan   \n",
              "122   Akuntansi / Keuangan,Akuntansi Umum / Pembiayaan   \n",
              "\n",
              "                                          job_benefits  company_process_time  \\\n",
              "26   Asuransi Gigi;Asuransi kesehatan;Parkir;Waktu ...                  29.0   \n",
              "91   Asuransi kesehatan;Parkir;Waktu regular, Senin...                  22.0   \n",
              "122                                                NaN                  19.0   \n",
              "\n",
              "           company_size                                   company_industry  \\\n",
              "26     51 - 200 pekerja  Konsultasi (IT, Ilmu Pengetahuan, Teknis & Tek...   \n",
              "91   501 - 1000 pekerja                Makanan & Minuman/Katering/Restoran   \n",
              "122       1- 50 pekerja                            Manajemen/Konsulting HR   \n",
              "\n",
              "                                       job_description      salary  \\\n",
              "26   SCOPE OF ROLE :To plan, develop, implement and...  15000000.0   \n",
              "91   Job Description :Responsible for the whole war...  22500000.0   \n",
              "122  About The Company:The working venue is in Suba...  16000000.0   \n",
              "\n",
              "     experience_level_scaled  \n",
              "26                  0.052632  \n",
              "91                  0.105263  \n",
              "122                 0.105263  "
            ],
            "text/html": [
              "\n",
              "  <div id=\"df-f1dfd846-3197-418a-b323-2cd65b6fc688\">\n",
              "    <div class=\"colab-df-container\">\n",
              "      <div>\n",
              "<style scoped>\n",
              "    .dataframe tbody tr th:only-of-type {\n",
              "        vertical-align: middle;\n",
              "    }\n",
              "\n",
              "    .dataframe tbody tr th {\n",
              "        vertical-align: top;\n",
              "    }\n",
              "\n",
              "    .dataframe thead th {\n",
              "        text-align: right;\n",
              "    }\n",
              "</style>\n",
              "<table border=\"1\" class=\"dataframe\">\n",
              "  <thead>\n",
              "    <tr style=\"text-align: right;\">\n",
              "      <th></th>\n",
              "      <th>id</th>\n",
              "      <th>job_title</th>\n",
              "      <th>location</th>\n",
              "      <th>career_level</th>\n",
              "      <th>experience_level</th>\n",
              "      <th>education_level</th>\n",
              "      <th>employment_type</th>\n",
              "      <th>job_function</th>\n",
              "      <th>job_benefits</th>\n",
              "      <th>company_process_time</th>\n",
              "      <th>company_size</th>\n",
              "      <th>company_industry</th>\n",
              "      <th>job_description</th>\n",
              "      <th>salary</th>\n",
              "      <th>experience_level_scaled</th>\n",
              "    </tr>\n",
              "  </thead>\n",
              "  <tbody>\n",
              "    <tr>\n",
              "      <th>26</th>\n",
              "      <td>27</td>\n",
              "      <td>marketing communication &amp; channel manager</td>\n",
              "      <td>Jakarta Pusat</td>\n",
              "      <td>2</td>\n",
              "      <td>2.0</td>\n",
              "      <td>9</td>\n",
              "      <td>0</td>\n",
              "      <td>Penjualan / Pemasaran,Pemasaran/Pengembangan B...</td>\n",
              "      <td>Asuransi Gigi;Asuransi kesehatan;Parkir;Waktu ...</td>\n",
              "      <td>29.0</td>\n",
              "      <td>51 - 200 pekerja</td>\n",
              "      <td>Konsultasi (IT, Ilmu Pengetahuan, Teknis &amp; Tek...</td>\n",
              "      <td>SCOPE OF ROLE :To plan, develop, implement and...</td>\n",
              "      <td>15000000.0</td>\n",
              "      <td>0.052632</td>\n",
              "    </tr>\n",
              "    <tr>\n",
              "      <th>91</th>\n",
              "      <td>92</td>\n",
              "      <td>distribution center manager</td>\n",
              "      <td>Jawa Timur</td>\n",
              "      <td>2</td>\n",
              "      <td>3.0</td>\n",
              "      <td>6</td>\n",
              "      <td>0</td>\n",
              "      <td>Pelayanan,Logistik/Rantai Pasokan</td>\n",
              "      <td>Asuransi kesehatan;Parkir;Waktu regular, Senin...</td>\n",
              "      <td>22.0</td>\n",
              "      <td>501 - 1000 pekerja</td>\n",
              "      <td>Makanan &amp; Minuman/Katering/Restoran</td>\n",
              "      <td>Job Description :Responsible for the whole war...</td>\n",
              "      <td>22500000.0</td>\n",
              "      <td>0.105263</td>\n",
              "    </tr>\n",
              "    <tr>\n",
              "      <th>122</th>\n",
              "      <td>123</td>\n",
              "      <td>finance &amp; accounting manager - port management...</td>\n",
              "      <td>Jawa Barat</td>\n",
              "      <td>2</td>\n",
              "      <td>3.0</td>\n",
              "      <td>3</td>\n",
              "      <td>0</td>\n",
              "      <td>Akuntansi / Keuangan,Akuntansi Umum / Pembiayaan</td>\n",
              "      <td>NaN</td>\n",
              "      <td>19.0</td>\n",
              "      <td>1- 50 pekerja</td>\n",
              "      <td>Manajemen/Konsulting HR</td>\n",
              "      <td>About The Company:The working venue is in Suba...</td>\n",
              "      <td>16000000.0</td>\n",
              "      <td>0.105263</td>\n",
              "    </tr>\n",
              "  </tbody>\n",
              "</table>\n",
              "</div>\n",
              "      <button class=\"colab-df-convert\" onclick=\"convertToInteractive('df-f1dfd846-3197-418a-b323-2cd65b6fc688')\"\n",
              "              title=\"Convert this dataframe to an interactive table.\"\n",
              "              style=\"display:none;\">\n",
              "        \n",
              "  <svg xmlns=\"http://www.w3.org/2000/svg\" height=\"24px\"viewBox=\"0 0 24 24\"\n",
              "       width=\"24px\">\n",
              "    <path d=\"M0 0h24v24H0V0z\" fill=\"none\"/>\n",
              "    <path d=\"M18.56 5.44l.94 2.06.94-2.06 2.06-.94-2.06-.94-.94-2.06-.94 2.06-2.06.94zm-11 1L8.5 8.5l.94-2.06 2.06-.94-2.06-.94L8.5 2.5l-.94 2.06-2.06.94zm10 10l.94 2.06.94-2.06 2.06-.94-2.06-.94-.94-2.06-.94 2.06-2.06.94z\"/><path d=\"M17.41 7.96l-1.37-1.37c-.4-.4-.92-.59-1.43-.59-.52 0-1.04.2-1.43.59L10.3 9.45l-7.72 7.72c-.78.78-.78 2.05 0 2.83L4 21.41c.39.39.9.59 1.41.59.51 0 1.02-.2 1.41-.59l7.78-7.78 2.81-2.81c.8-.78.8-2.07 0-2.86zM5.41 20L4 18.59l7.72-7.72 1.47 1.35L5.41 20z\"/>\n",
              "  </svg>\n",
              "      </button>\n",
              "      \n",
              "  <style>\n",
              "    .colab-df-container {\n",
              "      display:flex;\n",
              "      flex-wrap:wrap;\n",
              "      gap: 12px;\n",
              "    }\n",
              "\n",
              "    .colab-df-convert {\n",
              "      background-color: #E8F0FE;\n",
              "      border: none;\n",
              "      border-radius: 50%;\n",
              "      cursor: pointer;\n",
              "      display: none;\n",
              "      fill: #1967D2;\n",
              "      height: 32px;\n",
              "      padding: 0 0 0 0;\n",
              "      width: 32px;\n",
              "    }\n",
              "\n",
              "    .colab-df-convert:hover {\n",
              "      background-color: #E2EBFA;\n",
              "      box-shadow: 0px 1px 2px rgba(60, 64, 67, 0.3), 0px 1px 3px 1px rgba(60, 64, 67, 0.15);\n",
              "      fill: #174EA6;\n",
              "    }\n",
              "\n",
              "    [theme=dark] .colab-df-convert {\n",
              "      background-color: #3B4455;\n",
              "      fill: #D2E3FC;\n",
              "    }\n",
              "\n",
              "    [theme=dark] .colab-df-convert:hover {\n",
              "      background-color: #434B5C;\n",
              "      box-shadow: 0px 1px 3px 1px rgba(0, 0, 0, 0.15);\n",
              "      filter: drop-shadow(0px 1px 2px rgba(0, 0, 0, 0.3));\n",
              "      fill: #FFFFFF;\n",
              "    }\n",
              "  </style>\n",
              "\n",
              "      <script>\n",
              "        const buttonEl =\n",
              "          document.querySelector('#df-f1dfd846-3197-418a-b323-2cd65b6fc688 button.colab-df-convert');\n",
              "        buttonEl.style.display =\n",
              "          google.colab.kernel.accessAllowed ? 'block' : 'none';\n",
              "\n",
              "        async function convertToInteractive(key) {\n",
              "          const element = document.querySelector('#df-f1dfd846-3197-418a-b323-2cd65b6fc688');\n",
              "          const dataTable =\n",
              "            await google.colab.kernel.invokeFunction('convertToInteractive',\n",
              "                                                     [key], {});\n",
              "          if (!dataTable) return;\n",
              "\n",
              "          const docLinkHtml = 'Like what you see? Visit the ' +\n",
              "            '<a target=\"_blank\" href=https://colab.research.google.com/notebooks/data_table.ipynb>data table notebook</a>'\n",
              "            + ' to learn more about interactive tables.';\n",
              "          element.innerHTML = '';\n",
              "          dataTable['output_type'] = 'display_data';\n",
              "          await google.colab.output.renderOutput(dataTable, element);\n",
              "          const docLink = document.createElement('div');\n",
              "          docLink.innerHTML = docLinkHtml;\n",
              "          element.appendChild(docLink);\n",
              "        }\n",
              "      </script>\n",
              "    </div>\n",
              "  </div>\n",
              "  "
            ]
          },
          "metadata": {},
          "execution_count": 758
        }
      ],
      "source": [
        "train_new[train_new['salary'] >= limit_atas].head(3)"
      ]
    },
    {
      "cell_type": "code",
      "execution_count": null,
      "metadata": {
        "id": "zv3brWN14pvh"
      },
      "outputs": [],
      "source": [
        "# train_new.drop(train_new[train_new['salary'] >= limit_atas].index, axis=0, inplace = True)"
      ]
    },
    {
      "cell_type": "code",
      "source": [
        ""
      ],
      "metadata": {
        "id": "gLYng3GnnCc8"
      },
      "execution_count": null,
      "outputs": []
    },
    {
      "cell_type": "code",
      "execution_count": null,
      "metadata": {
        "id": "cp-z4Xbk5HWK",
        "colab": {
          "base_uri": "https://localhost:8080/",
          "height": 542
        },
        "outputId": "0f98a4bd-70f6-494f-cb15-a2cede11fed4"
      },
      "outputs": [
        {
          "output_type": "display_data",
          "data": {
            "text/plain": [
              "<Figure size 864x576 with 1 Axes>"
            ],
            "image/png": "[encoded data removed]"
          },
          "metadata": {
            "needs_background": "light"
          }
        }
      ],
      "source": [
        "fig, ax = plt.subplots(figsize=(12, 8))\n",
        "ax.hist(train_new['salary'], bins=10, label='Salary')\n",
        "\n",
        "ax.axvline(limit_atas, color='r', label='Limit Nilai Ekstrim')\n",
        "ax.axvline(limit_bawah, color='r')\n",
        "\n",
        "ax.axvline(median_salary, color='g', label='Median')\n",
        "ax.axvline(mean_salary, color='k', label='Mean')\n",
        "\n",
        "plt.title(\"\\nSALARY\\n\")\n",
        "plt.legend(loc='best', prop={'size':15})\n",
        "\n",
        "plt.show()"
      ]
    },
    {
      "cell_type": "code",
      "execution_count": null,
      "metadata": {
        "id": "1lJInUBc73xF",
        "colab": {
          "base_uri": "https://localhost:8080/",
          "height": 634
        },
        "outputId": "149d7642-f9d4-4820-c918-9cad461ca4d7"
      },
      "outputs": [
        {
          "output_type": "stream",
          "name": "stderr",
          "text": [
            "/usr/local/lib/python3.7/dist-packages/seaborn/distributions.py:2619: FutureWarning: `distplot` is a deprecated function and will be removed in a future version. Please adapt your code to use either `displot` (a figure-level function with similar flexibility) or `histplot` (an axes-level function for histograms).\n",
            "  warnings.warn(msg, FutureWarning)\n"
          ]
        },
        {
          "output_type": "execute_result",
          "data": {
            "text/plain": [
              "<matplotlib.axes._subplots.AxesSubplot at 0x7ff5b42b9990>"
            ]
          },
          "metadata": {},
          "execution_count": 761
        },
        {
          "output_type": "display_data",
          "data": {
            "text/plain": [
              "<Figure size 864x576 with 1 Axes>"
            ],
            "image/png": "[encoded data removed]"
          },
          "metadata": {
            "needs_background": "light"
          }
        }
      ],
      "source": [
        "plt.figure(figsize = (12,8))\n",
        "plt.title('\\nDistribution Salary\\n', fontsize = 20)\n",
        "sns.distplot(train_new['salary'], kde=True, bins=15, color='r')"
      ]
    },
    {
      "cell_type": "code",
      "execution_count": null,
      "metadata": {
        "id": "ezsTbiPS5LcN",
        "colab": {
          "base_uri": "https://localhost:8080/",
          "height": 634
        },
        "outputId": "749b1d53-4465-4010-9b94-e280d008654a"
      },
      "outputs": [
        {
          "output_type": "stream",
          "name": "stderr",
          "text": [
            "/usr/local/lib/python3.7/dist-packages/seaborn/_decorators.py:43: FutureWarning: Pass the following variable as a keyword arg: x. From version 0.12, the only valid positional argument will be `data`, and passing other arguments without an explicit keyword will result in an error or misinterpretation.\n",
            "  FutureWarning\n"
          ]
        },
        {
          "output_type": "execute_result",
          "data": {
            "text/plain": [
              "<matplotlib.axes._subplots.AxesSubplot at 0x7ff5b41c3490>"
            ]
          },
          "metadata": {},
          "execution_count": 762
        },
        {
          "output_type": "display_data",
          "data": {
            "text/plain": [
              "<Figure size 864x576 with 1 Axes>"
            ],
            "image/png": "[encoded data removed]"
          },
          "metadata": {
            "needs_background": "light"
          }
        }
      ],
      "source": [
        "plt.figure(figsize = (12,8))\n",
        "plt.title('\\nBoxplot Salary\\n', fontsize = 20)\n",
        "sns.boxplot(train_new['salary'])"
      ]
    },
    {
      "cell_type": "code",
      "execution_count": null,
      "metadata": {
        "id": "961cAhmo6Tub",
        "colab": {
          "base_uri": "https://localhost:8080/"
        },
        "outputId": "1899978c-1779-430c-d55b-cb32d924f21a"
      },
      "outputs": [
        {
          "output_type": "execute_result",
          "data": {
            "text/plain": [
              "(6342, 15)"
            ]
          },
          "metadata": {},
          "execution_count": 763
        }
      ],
      "source": [
        "train_new.shape"
      ]
    },
    {
      "cell_type": "code",
      "execution_count": null,
      "metadata": {
        "id": "pQYs_UL7dEVS",
        "colab": {
          "base_uri": "https://localhost:8080/"
        },
        "outputId": "952e49d9-a97c-4991-e7d2-245a4e621051"
      },
      "outputs": [
        {
          "output_type": "execute_result",
          "data": {
            "text/plain": [
              "3932"
            ]
          },
          "metadata": {},
          "execution_count": 764
        }
      ],
      "source": [
        "len(train_new['job_title'].unique())"
      ]
    },
    {
      "cell_type": "markdown",
      "metadata": {
        "id": "esgfNaMRe_Yc"
      },
      "source": [
        "## location"
      ]
    },
    {
      "cell_type": "code",
      "execution_count": null,
      "metadata": {
        "id": "jIxINm3Ihzon",
        "colab": {
          "base_uri": "https://localhost:8080/"
        },
        "outputId": "539667d6-5ef0-4794-be57-e3c9bc4bc274"
      },
      "outputs": [
        {
          "output_type": "execute_result",
          "data": {
            "text/plain": [
              "array(['Balikpapan', 'Banten', 'Jakarta Pusat', 'Surabaya', 'Papua',\n",
              "       'Tangerang', 'Jakarta Timur', 'Jakarta Barat', 'Maluku Utara',\n",
              "       'Jakarta Raya', 'Sidoarjo', 'Jakarta Utara', 'Bali', 'Batam',\n",
              "       'Jawa Barat', 'Jawa Timur', 'Aceh', 'Jakarta Selatan', 'Cilegon',\n",
              "       'Sumatera Utara', 'Semarang', 'Jambi', 'Cikarang', 'Palembang',\n",
              "       'Riau', 'Pasuruan', 'Bekasi', 'Sulawesi Tengah', 'Makassar',\n",
              "       'Bandung', 'Padang', 'Sumatera Selatan', 'Rangkasbitung', 'Serang',\n",
              "       'Kapuas', 'Yogyakarta', 'Cianjur', 'Badung', 'Banjarmasin',\n",
              "       'Kediri', 'Tanah Bumbu', 'Samarinda', 'Bengkulu', 'Banjarnegara',\n",
              "       'Cirebon', 'Pekanbaru', 'Bandar Lampung', 'Bogor',\n",
              "       'Kalimantan Barat', 'Maros', 'Sleman', 'Gresik', 'Nunukan',\n",
              "       'Depok', 'Medan', 'Seminyak', 'Karawang', 'Purwokerto',\n",
              "       'Jawa Tengah', 'Sukabumi', 'Mojokerto', 'Sumatera Barat',\n",
              "       'Lhokseumawe', 'Denpasar', 'Klungkung', 'Tegal',\n",
              "       'Kalimantan Timur', 'Lampung', 'Surakarta', 'Purwakarta',\n",
              "       'Nusa Tenggara Timur', 'Malang', 'Binjai', 'Sulawesi Utara',\n",
              "       'Tanjung Pinang', 'Manado', 'Cikupa', 'Sulawesi Barat', 'Kuta',\n",
              "       'Kalimantan Utara', 'Pontianak', 'Bantul', 'Palopo', 'Cibinong',\n",
              "       'Mataram', 'Nusa Tenggara Barat', 'Muara Enim', 'Palu', 'Banjar',\n",
              "       'Sulawesi Selatan', 'Dumai', 'Kalimantan Tengah', 'Ternate',\n",
              "       'Kalimantan Selatan', 'Magelang', 'Sulawesi Tenggara',\n",
              "       'Tanjung Balai', 'Ambon', 'Bangka', 'Jepara', 'Madiun',\n",
              "       'Pekalongan', 'Kendari', 'Cilacap', 'Jayapura', 'Halmahera',\n",
              "       'Pandeglang', 'Gowa', 'Gorontalo', 'Cimahi', 'Kotawaringin Timur',\n",
              "       'Prabumulih', 'Gianyar', 'Citeureup', 'Bukittinggi', 'Poso',\n",
              "       'Kupang', 'Pemalang', 'Klaten', 'Timika', 'Belitung', 'Ubud',\n",
              "       'Tasikmalaya', 'Jember', 'Kulon Progo', 'Banyuwangi',\n",
              "       'Penajam Paser Utara', 'Brebes', 'Madura', 'Kota Banda Aceh',\n",
              "       'Sibolga', 'Bintan', 'Demak', 'Palangkaraya', 'Purworejo', 'Kudus',\n",
              "       'Banjarbaru', 'Ketapang', 'Tarakan', 'Bangka Belitung',\n",
              "       'Pangkal Pinang', 'Tuban', 'Maluku', 'Singkawang', 'Cileungsi',\n",
              "       'Salatiga', 'Ungaran', 'Mamuju', 'Probolinggo', 'Minahasa',\n",
              "       'Blitar', 'Batu', 'Kepulauan Riau', 'Ponorogo', 'Kepulauan Seribu',\n",
              "       'Wonogiri ', 'Metro', 'Kutai Timur', 'Purbalingga', 'Kotabaru',\n",
              "       'Pare-Pare', 'Lombok', 'Kutai Kartanegara', 'Hulu Sungai Tengah'],\n",
              "      dtype=object)"
            ]
          },
          "metadata": {},
          "execution_count": 765
        }
      ],
      "source": [
        "train_new['location'].unique()"
      ]
    },
    {
      "cell_type": "code",
      "execution_count": null,
      "metadata": {
        "id": "V83Tq5VufAnf"
      },
      "outputs": [],
      "source": [
        "# harusnya ada 32 unique provinsi\n",
        "def loc(tempat):\n",
        "  aceh = ['aceh', 'lhokseumawe', 'kota banda aceh']\n",
        "  sumatera_utara = ['pematangsiantar', 'sibolga', 'sumatera utara', 'medan', 'binjai', 'tanjung balai']\n",
        "  sumatera_barat = ['padang', 'sumatera barat', 'bukittinggi']\n",
        "  riau = ['riau', 'pekanbaru', 'dumai']\n",
        "  jambi =['jambi']\n",
        "  kepulauan_riau = ['kepulauan riau', 'batam', 'tanjung pinang','bintan']\n",
        "  bengkulu = ['bengkulu']\n",
        "  sumatera_selatan = ['palembang', 'sumatera selatan', 'muara enim', 'prabumulih']\n",
        "  kepulauan_bangka_belitung = ['bangka', 'belitung', 'bangka belitung', 'pangkal pinang']\n",
        "  lampung = ['bandar lampung', 'lampung', 'metro']\n",
        "  banten = ['banten','tangerang', 'cilegon', 'rangkasbitung', 'serang', 'cikupa', 'pandeglang']\n",
        "  jakarta = ['kepulauan seribu', 'jakarta pusat', 'jakarta timur', 'jakarta barat', 'jakarta raya', 'jakarta utara', 'jakarta selatan']\n",
        "  jawa_barat = ['cileungsi', 'tasikmalaya', 'citeureup', 'cimahi', 'cibinong', 'jawa barat', 'cikarang', 'bekasi', 'bandung', 'cianjur', 'cirebon', 'bogor', 'depok', 'karawang', 'sukabumi', 'purwakarta']\n",
        "  jawa_tengah = ['purbalingga', 'wonogiri ', 'ungaran', 'salatiga', 'kudus', 'purworejo', 'demak', 'brebes', 'klaten', 'pemalang', 'cilacap', 'pekalongan', 'jawa tengah', 'semarang', 'banjarnegara', 'purwokerto', 'tegal', 'surakarta', 'magelang', 'jepara']\n",
        "  yogyakarta = ['yogyakarta', 'sleman', 'bantul', 'kulon progo']\n",
        "  jawa_timur = ['batu', 'ponorogo', 'blitar', 'probolinggo', 'tuban', 'madura', 'banyuwangi', 'jember', 'madiun', 'surabaya','sidoarjo', 'jawa timur', 'pasuruan', 'kediri', 'gresik', 'mojokerto', 'malang']\n",
        "  bali = ['ubud', 'bali', 'seminyak', 'denpasar', 'klungkung', 'badung', 'kuta', 'gianyar']\n",
        "  nusa_tenggara_barat = ['bima', 'nusa tenggara barat', 'mataram', 'lombok']\n",
        "  nusa_tenggara_timur = ['nusa tenggara timur', 'kupang']\n",
        "  kalimantan_barat = ['singkawang' ,'ketapang' ,'kalimantan barat', 'pontianak']\n",
        "  kalimantan_tengah = ['kotawaringin barat', 'murung raya', 'palangkaraya', 'kapuas', 'kalimantan tengah', 'kotawaringin timur']\n",
        "  kalimantan_selatan = ['hulu sungai tengah', 'kotabaru', 'banjarbaru', 'banjarmasin', 'tanah bumbu', 'banjar', 'kalimantan selatan']\n",
        "  kalimantan_timur = ['kutai barat', 'bontang', 'kutai kartanegara', 'kutai timur', 'tarakan', 'balikpapan', 'samarinda', 'nunukan', 'kalimantan timur', 'penajam paser utara']\n",
        "  kalimantan_utara = ['kalimantan utara']\n",
        "  sulawesi_barat = ['sulawesi barat', 'mamuju']\n",
        "  sulawesi_selatan = ['pare-pare', 'makassar', 'maros', 'palopo', 'sulawesi selatan', 'gowa']\n",
        "  sulawesi_tenggara = ['sulawesi tenggara', 'kendari']\n",
        "  sulawesi_tengah = ['sulawesi tengah', 'palu', 'poso']\n",
        "  gorontalo = ['gorontalo']\n",
        "  sulawesi_utara = ['bitung', 'sulawesi utara', 'manado', 'minahasa']\n",
        "  maluku_utara = ['maluku utara', 'ternate', 'halmahera']\n",
        "  maluku = ['ambon', 'maluku']\n",
        "  papua_barat = ['manokwari', 'papua barat']\n",
        "  papua = ['papua', 'jayapura', 'timika']\n",
        "  locs = tempat.lower()\n",
        "  if locs in aceh:\n",
        "    return 0\n",
        "  elif locs in sumatera_utara:\n",
        "    return 1\n",
        "  elif locs in sumatera_barat:\n",
        "    return 2\n",
        "  elif locs in riau:\n",
        "    return 3\n",
        "  elif locs in jambi:\n",
        "    return 4\n",
        "  elif locs in kepulauan_riau:\n",
        "    return 5\n",
        "  elif locs in bengkulu:\n",
        "    return 6\n",
        "  elif locs in sumatera_selatan:\n",
        "    return 7\n",
        "  elif locs in kepulauan_bangka_belitung:\n",
        "    return 8\n",
        "  elif locs in lampung:\n",
        "    return 9\n",
        "  elif locs in banten:\n",
        "    return 10\n",
        "  elif locs in jakarta:\n",
        "    return 11\n",
        "  elif locs in jawa_barat:\n",
        "    return 12\n",
        "  elif locs in jawa_tengah:\n",
        "    return 13\n",
        "  elif locs in yogyakarta:\n",
        "    return 14\n",
        "  elif locs in jawa_timur:\n",
        "    return 15\n",
        "  elif locs in bali:\n",
        "    return 16\n",
        "  elif locs in nusa_tenggara_barat:\n",
        "    return 17\n",
        "  elif locs in nusa_tenggara_timur:\n",
        "    return 18\n",
        "  elif locs in kalimantan_barat:\n",
        "    return 19\n",
        "  elif locs in kalimantan_tengah:\n",
        "    return 20\n",
        "  elif locs in kalimantan_selatan:\n",
        "    return 21\n",
        "  elif locs in kalimantan_timur:\n",
        "    return 22\n",
        "  elif locs in kalimantan_utara:\n",
        "    return 23\n",
        "  elif locs in sulawesi_barat:\n",
        "    return 24\n",
        "  elif locs in sulawesi_selatan:\n",
        "    return 25\n",
        "  elif locs in sulawesi_tenggara:\n",
        "    return 26\n",
        "  elif locs in sulawesi_tengah:\n",
        "    return 27\n",
        "  elif locs in gorontalo:\n",
        "    return 28\n",
        "  elif locs in sulawesi_utara:\n",
        "    return 29\n",
        "  elif locs in maluku:\n",
        "    return 30\n",
        "  elif locs in maluku_utara:\n",
        "    return 31\n",
        "  elif locs in papua:\n",
        "    return 32\n",
        "  elif locs in papua_barat:\n",
        "    return 33\n",
        "  else:\n",
        "    return locs"
      ]
    },
    {
      "cell_type": "code",
      "source": [
        "# def loc(tempat):\n",
        "#   aceh = ['aceh', 'lhokseumawe', 'kota banda aceh']\n",
        "#   banten = ['banten','tangerang', 'cilegon', 'rangkasbitung', 'serang', 'cikupa', 'pandeglang']\n",
        "#   sumatera_utara = ['pematangsiantar', 'sibolga', 'sumatera utara', 'medan', 'binjai', 'tanjung balai']\n",
        "#   sumatera_barat = ['padang', 'sumatera barat', 'bukittinggi']\n",
        "#   riau = ['riau', 'pekanbaru', 'dumai']\n",
        "#   jambi =['jambi']\n",
        "#   kepulauan_riau = ['kepulauan riau', 'batam', 'tanjung pinang','bintan']\n",
        "#   bengkulu = ['bengkulu']\n",
        "#   sumatera_selatan = ['palembang', 'sumatera selatan', 'muara enim', 'prabumulih']\n",
        "#   kepulauan_bangka_belitung = ['bangka', 'belitung', 'bangka belitung', 'pangkal pinang']\n",
        "#   lampung = ['bandar lampung', 'lampung', 'metro']\n",
        "#   jakarta = ['kepulauan seribu', 'jakarta pusat', 'jakarta timur', 'jakarta barat', 'jakarta raya', 'jakarta utara', 'jakarta selatan']\n",
        "#   jawa_barat = ['cileungsi', 'tasikmalaya', 'citeureup', 'cimahi', 'cibinong', 'jawa barat', 'cikarang', 'bekasi', 'bandung', 'cianjur', 'cirebon', 'bogor', 'depok', 'karawang', 'sukabumi', 'purwakarta']\n",
        "#   jawa_tengah = ['purbalingga', 'wonogiri ', 'ungaran', 'salatiga', 'kudus', 'purworejo', 'demak', 'brebes', 'klaten', 'pemalang', 'cilacap', 'pekalongan', 'jawa tengah', 'semarang', 'banjarnegara', 'purwokerto', 'tegal', 'surakarta', 'magelang', 'jepara']\n",
        "#   yogyakarta = ['yogyakarta', 'sleman', 'bantul', 'kulon progo']\n",
        "#   jawa_timur = ['batu', 'ponorogo', 'blitar', 'probolinggo', 'tuban', 'madura', 'banyuwangi', 'jember', 'madiun', 'surabaya','sidoarjo', 'jawa timur', 'pasuruan', 'kediri', 'gresik', 'mojokerto', 'malang']\n",
        "#   bali = ['ubud', 'bali', 'seminyak', 'denpasar', 'klungkung', 'badung', 'kuta', 'gianyar']\n",
        "#   nusa_tenggara_barat = ['bima', 'nusa tenggara barat', 'mataram', 'lombok']\n",
        "#   nusa_tenggara_timur = ['nusa tenggara timur', 'kupang']\n",
        "#   kalimantan_barat = ['singkawang' ,'ketapang' ,'kalimantan barat', 'pontianak']\n",
        "#   kalimantan_tengah = ['kotawaringin barat', 'murung raya', 'palangkaraya', 'kapuas', 'kalimantan tengah', 'kotawaringin timur']\n",
        "#   kalimantan_selatan = ['hulu sungai tengah', 'kotabaru', 'banjarbaru', 'banjarmasin', 'tanah bumbu', 'banjar', 'kalimantan selatan']\n",
        "#   kalimantan_timur = ['kutai barat', 'bontang', 'kutai kartanegara', 'kutai timur', 'tarakan', 'balikpapan', 'samarinda', 'nunukan', 'kalimantan timur', 'penajam paser utara']\n",
        "#   kalimantan_utara = ['kalimantan utara']\n",
        "#   sulawesi_barat = ['sulawesi barat', 'mamuju']\n",
        "#   sulawesi_selatan = ['pare-pare', 'makassar', 'maros', 'palopo', 'sulawesi selatan', 'gowa']\n",
        "#   sulawesi_tenggara = ['sulawesi tenggara', 'kendari']\n",
        "#   sulawesi_tengah = ['sulawesi tengah', 'palu', 'poso']\n",
        "#   gorontalo = ['gorontalo']\n",
        "#   sulawesi_utara = ['bitung', 'sulawesi utara', 'manado', 'minahasa']\n",
        "#   maluku_utara = ['maluku utara', 'ternate', 'halmahera']\n",
        "#   maluku = ['ambon', 'maluku']\n",
        "#   papua_barat = ['manokwari', 'papua barat']\n",
        "#   papua = ['papua', 'jayapura', 'timika']\n",
        "#   locs = tempat.lower()\n",
        "#   if locs in aceh:\n",
        "#     return 'aceh'\n",
        "#   elif locs in sumatera_utara:\n",
        "#     return 'sumatera_utara'\n",
        "#   elif locs in sumatera_barat:\n",
        "#     return 'sumatera_barat'\n",
        "#   elif locs in riau:\n",
        "#     return 'riau'\n",
        "#   elif locs in jambi:\n",
        "#     return 'jambi'\n",
        "#   elif locs in kepulauan_riau:\n",
        "#     return 'kepulauan_riau'\n",
        "#   elif locs in bengkulu:\n",
        "#     return 'bengkulu'\n",
        "#   elif locs in sumatera_selatan:\n",
        "#     return 'sumatera_selatan'\n",
        "#   elif locs in kepulauan_bangka_belitung:\n",
        "#     return 'kepulauan_bangka_belitung'\n",
        "#   elif locs in lampung:\n",
        "#     return 'lampung'\n",
        "#   elif locs in banten:\n",
        "#     return 'banten'\n",
        "#   elif locs in jakarta:\n",
        "#     return 'jakarta'\n",
        "#   elif locs in jawa_barat:\n",
        "#     return 'jawa_barat'\n",
        "#   elif locs in jawa_tengah:\n",
        "#     return 'jawa_tengah'\n",
        "#   elif locs in yogyakarta:\n",
        "#     return 'yogyakarta'\n",
        "#   elif locs in jawa_timur:\n",
        "#     return 'jawa_timur'\n",
        "#   elif locs in bali:\n",
        "#     return 'bali'\n",
        "#   elif locs in nusa_tenggara_barat:\n",
        "#     return 'nusa_tenggara_barat'\n",
        "#   elif locs in nusa_tenggara_timur:\n",
        "#     return 'nusa_tenggara_timur'\n",
        "#   elif locs in kalimantan_barat:\n",
        "#     return 'kalimantan_barat'\n",
        "#   elif locs in kalimantan_tengah:\n",
        "#     return 'kalimantan_tengah'\n",
        "#   elif locs in kalimantan_selatan:\n",
        "#     return 'kalimantan_selatan'\n",
        "#   elif locs in kalimantan_timur:\n",
        "#     return 'kalimantan_timur'\n",
        "#   elif locs in kalimantan_utara:\n",
        "#     return 'kalimantan_utara'\n",
        "#   elif locs in sulawesi_barat:\n",
        "#     return 'sulawesi_barat'\n",
        "#   elif locs in sulawesi_selatan:\n",
        "#     return 'sulawesi_selatan'\n",
        "#   elif locs in sulawesi_tenggara:\n",
        "#     return 'sulawesi_tenggara'\n",
        "#   elif locs in sulawesi_tengah:\n",
        "#     return 'sulawesi_tengah'\n",
        "#   elif locs in gorontalo:\n",
        "#     return 'gorontalo'\n",
        "#   elif locs in sulawesi_utara:\n",
        "#     return 'sulawesi_utara'\n",
        "#   elif locs in maluku:\n",
        "#     return 'maluku'\n",
        "#   elif locs in maluku_utara:\n",
        "#     return 'maluku_utara'\n",
        "#   elif locs in papua:\n",
        "#     return 'papua'\n",
        "#   elif locs in papua_barat:\n",
        "#     return 'papua_barat'"
      ],
      "metadata": {
        "id": "RZ9fa_Zh3CAc"
      },
      "execution_count": null,
      "outputs": []
    },
    {
      "cell_type": "code",
      "execution_count": null,
      "metadata": {
        "id": "oOXMuVorgB1a"
      },
      "outputs": [],
      "source": [
        "train_new['location'] = train_new['location'].apply(loc)"
      ]
    },
    {
      "cell_type": "code",
      "execution_count": null,
      "metadata": {
        "id": "G0K0LSL0gZX1",
        "colab": {
          "base_uri": "https://localhost:8080/"
        },
        "outputId": "2d3199b6-09fd-44c1-ec2b-3597bd0f2269"
      },
      "outputs": [
        {
          "output_type": "execute_result",
          "data": {
            "text/plain": [
              "array([22, 10, 11, 15, 32, 31, 16,  5, 12,  0,  1, 13,  4,  7,  3, 27, 25,\n",
              "        2, 20, 14, 21,  6,  9, 19, 18, 29, 24, 23, 17, 26, 30,  8, 28])"
            ]
          },
          "metadata": {},
          "execution_count": 769
        }
      ],
      "source": [
        "train_new['location'].unique()"
      ]
    },
    {
      "cell_type": "code",
      "execution_count": null,
      "metadata": {
        "id": "y7gKuFPvjRlY",
        "colab": {
          "base_uri": "https://localhost:8080/",
          "height": 364
        },
        "outputId": "915c6d89-3f9e-45aa-8b6a-d546fc8bb12a"
      },
      "outputs": [
        {
          "output_type": "execute_result",
          "data": {
            "text/plain": [
              "                 id     location  career_level  experience_level  \\\n",
              "count   6342.000000  6342.000000   6342.000000       6342.000000   \n",
              "mean   15879.998896    11.773258      1.158467          2.379814   \n",
              "std     9191.057248     4.470371      0.846129          1.670301   \n",
              "min        6.000000     0.000000      0.000000          1.000000   \n",
              "25%     7954.250000    11.000000      1.000000          1.000000   \n",
              "50%    15972.000000    11.000000      1.000000          2.000000   \n",
              "75%    23851.500000    12.000000      1.000000          3.000000   \n",
              "max    31745.000000    32.000000      4.000000         20.000000   \n",
              "\n",
              "       education_level  employment_type  company_process_time        salary  \\\n",
              "count      6342.000000      6342.000000           6342.000000  6.342000e+03   \n",
              "mean          6.161779         0.170293             21.052980  7.112403e+06   \n",
              "std           1.704934         0.466524              6.883836  5.936426e+06   \n",
              "min           0.000000         0.000000              1.000000  5.300000e+03   \n",
              "25%           5.000000         0.000000             21.000000  4.250000e+06   \n",
              "50%           6.000000         0.000000             21.000000  5.500000e+06   \n",
              "75%           7.000000         0.000000             27.000000  8.000000e+06   \n",
              "max           9.000000         4.000000             30.000000  1.150000e+08   \n",
              "\n",
              "       experience_level_scaled  \n",
              "count              6342.000000  \n",
              "mean                  0.072622  \n",
              "std                   0.087911  \n",
              "min                   0.000000  \n",
              "25%                   0.000000  \n",
              "50%                   0.052632  \n",
              "75%                   0.105263  \n",
              "max                   1.000000  "
            ],
            "text/html": [
              "\n",
              "  <div id=\"df-11a435c0-7846-40ea-b728-cefb0293c324\">\n",
              "    <div class=\"colab-df-container\">\n",
              "      <div>\n",
              "<style scoped>\n",
              "    .dataframe tbody tr th:only-of-type {\n",
              "        vertical-align: middle;\n",
              "    }\n",
              "\n",
              "    .dataframe tbody tr th {\n",
              "        vertical-align: top;\n",
              "    }\n",
              "\n",
              "    .dataframe thead th {\n",
              "        text-align: right;\n",
              "    }\n",
              "</style>\n",
              "<table border=\"1\" class=\"dataframe\">\n",
              "  <thead>\n",
              "    <tr style=\"text-align: right;\">\n",
              "      <th></th>\n",
              "      <th>id</th>\n",
              "      <th>location</th>\n",
              "      <th>career_level</th>\n",
              "      <th>experience_level</th>\n",
              "      <th>education_level</th>\n",
              "      <th>employment_type</th>\n",
              "      <th>company_process_time</th>\n",
              "      <th>salary</th>\n",
              "      <th>experience_level_scaled</th>\n",
              "    </tr>\n",
              "  </thead>\n",
              "  <tbody>\n",
              "    <tr>\n",
              "      <th>count</th>\n",
              "      <td>6342.000000</td>\n",
              "      <td>6342.000000</td>\n",
              "      <td>6342.000000</td>\n",
              "      <td>6342.000000</td>\n",
              "      <td>6342.000000</td>\n",
              "      <td>6342.000000</td>\n",
              "      <td>6342.000000</td>\n",
              "      <td>6.342000e+03</td>\n",
              "      <td>6342.000000</td>\n",
              "    </tr>\n",
              "    <tr>\n",
              "      <th>mean</th>\n",
              "      <td>15879.998896</td>\n",
              "      <td>11.773258</td>\n",
              "      <td>1.158467</td>\n",
              "      <td>2.379814</td>\n",
              "      <td>6.161779</td>\n",
              "      <td>0.170293</td>\n",
              "      <td>21.052980</td>\n",
              "      <td>7.112403e+06</td>\n",
              "      <td>0.072622</td>\n",
              "    </tr>\n",
              "    <tr>\n",
              "      <th>std</th>\n",
              "      <td>9191.057248</td>\n",
              "      <td>4.470371</td>\n",
              "      <td>0.846129</td>\n",
              "      <td>1.670301</td>\n",
              "      <td>1.704934</td>\n",
              "      <td>0.466524</td>\n",
              "      <td>6.883836</td>\n",
              "      <td>5.936426e+06</td>\n",
              "      <td>0.087911</td>\n",
              "    </tr>\n",
              "    <tr>\n",
              "      <th>min</th>\n",
              "      <td>6.000000</td>\n",
              "      <td>0.000000</td>\n",
              "      <td>0.000000</td>\n",
              "      <td>1.000000</td>\n",
              "      <td>0.000000</td>\n",
              "      <td>0.000000</td>\n",
              "      <td>1.000000</td>\n",
              "      <td>5.300000e+03</td>\n",
              "      <td>0.000000</td>\n",
              "    </tr>\n",
              "    <tr>\n",
              "      <th>25%</th>\n",
              "      <td>7954.250000</td>\n",
              "      <td>11.000000</td>\n",
              "      <td>1.000000</td>\n",
              "      <td>1.000000</td>\n",
              "      <td>5.000000</td>\n",
              "      <td>0.000000</td>\n",
              "      <td>21.000000</td>\n",
              "      <td>4.250000e+06</td>\n",
              "      <td>0.000000</td>\n",
              "    </tr>\n",
              "    <tr>\n",
              "      <th>50%</th>\n",
              "      <td>15972.000000</td>\n",
              "      <td>11.000000</td>\n",
              "      <td>1.000000</td>\n",
              "      <td>2.000000</td>\n",
              "      <td>6.000000</td>\n",
              "      <td>0.000000</td>\n",
              "      <td>21.000000</td>\n",
              "      <td>5.500000e+06</td>\n",
              "      <td>0.052632</td>\n",
              "    </tr>\n",
              "    <tr>\n",
              "      <th>75%</th>\n",
              "      <td>23851.500000</td>\n",
              "      <td>12.000000</td>\n",
              "      <td>1.000000</td>\n",
              "      <td>3.000000</td>\n",
              "      <td>7.000000</td>\n",
              "      <td>0.000000</td>\n",
              "      <td>27.000000</td>\n",
              "      <td>8.000000e+06</td>\n",
              "      <td>0.105263</td>\n",
              "    </tr>\n",
              "    <tr>\n",
              "      <th>max</th>\n",
              "      <td>31745.000000</td>\n",
              "      <td>32.000000</td>\n",
              "      <td>4.000000</td>\n",
              "      <td>20.000000</td>\n",
              "      <td>9.000000</td>\n",
              "      <td>4.000000</td>\n",
              "      <td>30.000000</td>\n",
              "      <td>1.150000e+08</td>\n",
              "      <td>1.000000</td>\n",
              "    </tr>\n",
              "  </tbody>\n",
              "</table>\n",
              "</div>\n",
              "      <button class=\"colab-df-convert\" onclick=\"convertToInteractive('df-11a435c0-7846-40ea-b728-cefb0293c324')\"\n",
              "              title=\"Convert this dataframe to an interactive table.\"\n",
              "              style=\"display:none;\">\n",
              "        \n",
              "  <svg xmlns=\"http://www.w3.org/2000/svg\" height=\"24px\"viewBox=\"0 0 24 24\"\n",
              "       width=\"24px\">\n",
              "    <path d=\"M0 0h24v24H0V0z\" fill=\"none\"/>\n",
              "    <path d=\"M18.56 5.44l.94 2.06.94-2.06 2.06-.94-2.06-.94-.94-2.06-.94 2.06-2.06.94zm-11 1L8.5 8.5l.94-2.06 2.06-.94-2.06-.94L8.5 2.5l-.94 2.06-2.06.94zm10 10l.94 2.06.94-2.06 2.06-.94-2.06-.94-.94-2.06-.94 2.06-2.06.94z\"/><path d=\"M17.41 7.96l-1.37-1.37c-.4-.4-.92-.59-1.43-.59-.52 0-1.04.2-1.43.59L10.3 9.45l-7.72 7.72c-.78.78-.78 2.05 0 2.83L4 21.41c.39.39.9.59 1.41.59.51 0 1.02-.2 1.41-.59l7.78-7.78 2.81-2.81c.8-.78.8-2.07 0-2.86zM5.41 20L4 18.59l7.72-7.72 1.47 1.35L5.41 20z\"/>\n",
              "  </svg>\n",
              "      </button>\n",
              "      \n",
              "  <style>\n",
              "    .colab-df-container {\n",
              "      display:flex;\n",
              "      flex-wrap:wrap;\n",
              "      gap: 12px;\n",
              "    }\n",
              "\n",
              "    .colab-df-convert {\n",
              "      background-color: #E8F0FE;\n",
              "      border: none;\n",
              "      border-radius: 50%;\n",
              "      cursor: pointer;\n",
              "      display: none;\n",
              "      fill: #1967D2;\n",
              "      height: 32px;\n",
              "      padding: 0 0 0 0;\n",
              "      width: 32px;\n",
              "    }\n",
              "\n",
              "    .colab-df-convert:hover {\n",
              "      background-color: #E2EBFA;\n",
              "      box-shadow: 0px 1px 2px rgba(60, 64, 67, 0.3), 0px 1px 3px 1px rgba(60, 64, 67, 0.15);\n",
              "      fill: #174EA6;\n",
              "    }\n",
              "\n",
              "    [theme=dark] .colab-df-convert {\n",
              "      background-color: #3B4455;\n",
              "      fill: #D2E3FC;\n",
              "    }\n",
              "\n",
              "    [theme=dark] .colab-df-convert:hover {\n",
              "      background-color: #434B5C;\n",
              "      box-shadow: 0px 1px 3px 1px rgba(0, 0, 0, 0.15);\n",
              "      filter: drop-shadow(0px 1px 2px rgba(0, 0, 0, 0.3));\n",
              "      fill: #FFFFFF;\n",
              "    }\n",
              "  </style>\n",
              "\n",
              "      <script>\n",
              "        const buttonEl =\n",
              "          document.querySelector('#df-11a435c0-7846-40ea-b728-cefb0293c324 button.colab-df-convert');\n",
              "        buttonEl.style.display =\n",
              "          google.colab.kernel.accessAllowed ? 'block' : 'none';\n",
              "\n",
              "        async function convertToInteractive(key) {\n",
              "          const element = document.querySelector('#df-11a435c0-7846-40ea-b728-cefb0293c324');\n",
              "          const dataTable =\n",
              "            await google.colab.kernel.invokeFunction('convertToInteractive',\n",
              "                                                     [key], {});\n",
              "          if (!dataTable) return;\n",
              "\n",
              "          const docLinkHtml = 'Like what you see? Visit the ' +\n",
              "            '<a target=\"_blank\" href=https://colab.research.google.com/notebooks/data_table.ipynb>data table notebook</a>'\n",
              "            + ' to learn more about interactive tables.';\n",
              "          element.innerHTML = '';\n",
              "          dataTable['output_type'] = 'display_data';\n",
              "          await google.colab.output.renderOutput(dataTable, element);\n",
              "          const docLink = document.createElement('div');\n",
              "          docLink.innerHTML = docLinkHtml;\n",
              "          element.appendChild(docLink);\n",
              "        }\n",
              "      </script>\n",
              "    </div>\n",
              "  </div>\n",
              "  "
            ]
          },
          "metadata": {},
          "execution_count": 770
        }
      ],
      "source": [
        "train_new.describe()"
      ]
    },
    {
      "cell_type": "markdown",
      "source": [
        "## job_title_label"
      ],
      "metadata": {
        "id": "oj_neVVTudbh"
      }
    },
    {
      "cell_type": "code",
      "source": [
        "len(train_new['job_title'].unique())"
      ],
      "metadata": {
        "colab": {
          "base_uri": "https://localhost:8080/"
        },
        "id": "Zc0n60LDxShL",
        "outputId": "051da2b0-a857-4a8e-97cf-105a333cd051"
      },
      "execution_count": null,
      "outputs": [
        {
          "output_type": "execute_result",
          "data": {
            "text/plain": [
              "3932"
            ]
          },
          "metadata": {},
          "execution_count": 771
        }
      ]
    },
    {
      "cell_type": "code",
      "source": [
        "def hapus_min(data):\n",
        "  split_string = data.split(\"-\", 1)\n",
        "  substring = split_string[0]\n",
        "  return substring.rstrip()"
      ],
      "metadata": {
        "id": "eU2LuPZ3xOxk"
      },
      "execution_count": null,
      "outputs": []
    },
    {
      "cell_type": "code",
      "source": [
        "train_new['job_title'] = train_new['job_title'].apply(hapus_min)"
      ],
      "metadata": {
        "id": "WN9mvnLnxKPA"
      },
      "execution_count": null,
      "outputs": []
    },
    {
      "cell_type": "code",
      "source": [
        "len(train_new['job_title'].unique())"
      ],
      "metadata": {
        "colab": {
          "base_uri": "https://localhost:8080/"
        },
        "id": "_ppUKrpSvhdy",
        "outputId": "13fe2ba3-f9b1-436e-d58e-90b068cbb33f"
      },
      "execution_count": null,
      "outputs": [
        {
          "output_type": "execute_result",
          "data": {
            "text/plain": [
              "3514"
            ]
          },
          "metadata": {},
          "execution_count": 774
        }
      ]
    },
    {
      "cell_type": "code",
      "source": [
        "train_new.head(10)"
      ],
      "metadata": {
        "colab": {
          "base_uri": "https://localhost:8080/",
          "height": 809
        },
        "id": "zX6xAerVxr33",
        "outputId": "4a5d94aa-0789-4897-acc3-06ef2c8ab616"
      },
      "execution_count": null,
      "outputs": [
        {
          "output_type": "execute_result",
          "data": {
            "text/plain": [
              "    id                                  job_title  location  career_level  \\\n",
              "5    6                              kepala pabrik        22             0   \n",
              "9   10                             tax supervisor        10             0   \n",
              "18  19                           accounting staff        11             1   \n",
              "22  23                    senior staff purchasing        15             1   \n",
              "26  27  marketing communication & channel manager        11             2   \n",
              "28  29                                   mechanic        32             1   \n",
              "31  32                                       ppic        10             2   \n",
              "34  35               c# advanced/senior developer        11             0   \n",
              "35  36        manager tiktok shop and tiktok live        10             2   \n",
              "37  38                it software developer staff        11             1   \n",
              "\n",
              "    experience_level  education_level  employment_type  \\\n",
              "5               2.38                5                0   \n",
              "9               3.00                5                0   \n",
              "18              1.00                5                0   \n",
              "22              2.00                5                0   \n",
              "26              2.00                9                0   \n",
              "28              1.00                9                0   \n",
              "31              5.00                6                0   \n",
              "34              2.00                5                0   \n",
              "35              1.00                5                0   \n",
              "37              1.00                4                0   \n",
              "\n",
              "                                         job_function  \\\n",
              "5                               Manufaktur,Manufaktur   \n",
              "9                  Akuntansi / Keuangan,Audit & Pajak   \n",
              "18   Akuntansi / Keuangan,Akuntansi Umum / Pembiayaan   \n",
              "22            Manufaktur,Pembelian/Manajemen Material   \n",
              "26  Penjualan / Pemasaran,Pemasaran/Pengembangan B...   \n",
              "28                                   Teknik,Mekanikal   \n",
              "31                              Manufaktur,Manufaktur   \n",
              "34    Komputer/Teknologi Informasi,IT-Perangkat Lunak   \n",
              "35                   Penjualan / Pemasaran,E-commerce   \n",
              "37    Komputer/Teknologi Informasi,IT-Perangkat Lunak   \n",
              "\n",
              "                                         job_benefits  company_process_time  \\\n",
              "5   Asuransi kesehatan;Bisnis (contoh: Kemeja);Pro...                  18.0   \n",
              "9   Tip;Asuransi kesehatan;Waktu regular, Senin - ...                  22.0   \n",
              "18  Tip;Asuransi kesehatan;Bisnis (contoh: Kemeja)...                  21.0   \n",
              "22  Asuransi kesehatan;Jam Bekerja yang Panjang;Bi...                  29.0   \n",
              "26  Asuransi Gigi;Asuransi kesehatan;Parkir;Waktu ...                  29.0   \n",
              "28  Asuransi kesehatan;Waktu regular, Senin - Juma...                  21.0   \n",
              "31  Asuransi kesehatan;Waktu regular, Senin - Juma...                  21.0   \n",
              "34  Tip;Asuransi kesehatan;Waktu regular, Senin - ...                   5.0   \n",
              "35  Kasual (contoh: Kaos);Potensi Perkembangan Kar...                  21.0   \n",
              "37  Kasual (contoh: Kaos);Senin - Jum'at (HO) Seni...                  21.0   \n",
              "\n",
              "          company_size                                   company_industry  \\\n",
              "5     51 - 200 pekerja                                Manufaktur/Produksi   \n",
              "9     51 - 200 pekerja                         Konstruksi/Bangunan/Teknik   \n",
              "18       1- 50 pekerja                                Manufaktur/Produksi   \n",
              "22       1- 50 pekerja                            Elektrikal & Elektronik   \n",
              "26    51 - 200 pekerja  Konsultasi (IT, Ilmu Pengetahuan, Teknis & Tek...   \n",
              "28    51 - 200 pekerja       Automobil/Mesin Tambahan Automotif/Kendaraan   \n",
              "31   201 - 500 pekerja                                Manufaktur/Produksi   \n",
              "34       1- 50 pekerja      Komputer/Teknik Informatika (Perangkat Lunak)   \n",
              "35       1- 50 pekerja                                      Umum & Grosir   \n",
              "37  501 - 1000 pekerja                     Industri Berat/Mesin/Peralatan   \n",
              "\n",
              "                                      job_description      salary  \\\n",
              "5   Tedmond Groups membuka Lowongan Kepala Pabrik,...  10500000.0   \n",
              "9   ResponsibilitiesPrepare corporate income tax (...   8000000.0   \n",
              "18  DESKRIPSI PEKERJAAN:Memeriksa dan/atau membuat...   4750000.0   \n",
              "22  Deskripsi Pekerjaan:Mampu melakukan rencana pe...   5250000.0   \n",
              "26  SCOPE OF ROLE :To plan, develop, implement and...  15000000.0   \n",
              "28  Kualifikasinya :Pendidikan Minimal SMK Jurusan...   5040000.0   \n",
              "31  Tanggung Jawab:Membuat perencanaan produksi be...   6600000.0   \n",
              "34  Kualifikasi:Kandidat harus memiliki setidaknya...   9500000.0   \n",
              "35  Perusahaan yang bergerak di bidang online shop...   6500000.0   \n",
              "37  Bachelor’s degree of Information Technology or...   6800000.0   \n",
              "\n",
              "    experience_level_scaled  \n",
              "5                  0.072632  \n",
              "9                  0.105263  \n",
              "18                 0.000000  \n",
              "22                 0.052632  \n",
              "26                 0.052632  \n",
              "28                 0.000000  \n",
              "31                 0.210526  \n",
              "34                 0.052632  \n",
              "35                 0.000000  \n",
              "37                 0.000000  "
            ],
            "text/html": [
              "\n",
              "  <div id=\"df-d0b9809b-051f-4f8b-a346-9db36cbe2fcc\">\n",
              "    <div class=\"colab-df-container\">\n",
              "      <div>\n",
              "<style scoped>\n",
              "    .dataframe tbody tr th:only-of-type {\n",
              "        vertical-align: middle;\n",
              "    }\n",
              "\n",
              "    .dataframe tbody tr th {\n",
              "        vertical-align: top;\n",
              "    }\n",
              "\n",
              "    .dataframe thead th {\n",
              "        text-align: right;\n",
              "    }\n",
              "</style>\n",
              "<table border=\"1\" class=\"dataframe\">\n",
              "  <thead>\n",
              "    <tr style=\"text-align: right;\">\n",
              "      <th></th>\n",
              "      <th>id</th>\n",
              "      <th>job_title</th>\n",
              "      <th>location</th>\n",
              "      <th>career_level</th>\n",
              "      <th>experience_level</th>\n",
              "      <th>education_level</th>\n",
              "      <th>employment_type</th>\n",
              "      <th>job_function</th>\n",
              "      <th>job_benefits</th>\n",
              "      <th>company_process_time</th>\n",
              "      <th>company_size</th>\n",
              "      <th>company_industry</th>\n",
              "      <th>job_description</th>\n",
              "      <th>salary</th>\n",
              "      <th>experience_level_scaled</th>\n",
              "    </tr>\n",
              "  </thead>\n",
              "  <tbody>\n",
              "    <tr>\n",
              "      <th>5</th>\n",
              "      <td>6</td>\n",
              "      <td>kepala pabrik</td>\n",
              "      <td>22</td>\n",
              "      <td>0</td>\n",
              "      <td>2.38</td>\n",
              "      <td>5</td>\n",
              "      <td>0</td>\n",
              "      <td>Manufaktur,Manufaktur</td>\n",
              "      <td>Asuransi kesehatan;Bisnis (contoh: Kemeja);Pro...</td>\n",
              "      <td>18.0</td>\n",
              "      <td>51 - 200 pekerja</td>\n",
              "      <td>Manufaktur/Produksi</td>\n",
              "      <td>Tedmond Groups membuka Lowongan Kepala Pabrik,...</td>\n",
              "      <td>10500000.0</td>\n",
              "      <td>0.072632</td>\n",
              "    </tr>\n",
              "    <tr>\n",
              "      <th>9</th>\n",
              "      <td>10</td>\n",
              "      <td>tax supervisor</td>\n",
              "      <td>10</td>\n",
              "      <td>0</td>\n",
              "      <td>3.00</td>\n",
              "      <td>5</td>\n",
              "      <td>0</td>\n",
              "      <td>Akuntansi / Keuangan,Audit &amp; Pajak</td>\n",
              "      <td>Tip;Asuransi kesehatan;Waktu regular, Senin - ...</td>\n",
              "      <td>22.0</td>\n",
              "      <td>51 - 200 pekerja</td>\n",
              "      <td>Konstruksi/Bangunan/Teknik</td>\n",
              "      <td>ResponsibilitiesPrepare corporate income tax (...</td>\n",
              "      <td>8000000.0</td>\n",
              "      <td>0.105263</td>\n",
              "    </tr>\n",
              "    <tr>\n",
              "      <th>18</th>\n",
              "      <td>19</td>\n",
              "      <td>accounting staff</td>\n",
              "      <td>11</td>\n",
              "      <td>1</td>\n",
              "      <td>1.00</td>\n",
              "      <td>5</td>\n",
              "      <td>0</td>\n",
              "      <td>Akuntansi / Keuangan,Akuntansi Umum / Pembiayaan</td>\n",
              "      <td>Tip;Asuransi kesehatan;Bisnis (contoh: Kemeja)...</td>\n",
              "      <td>21.0</td>\n",
              "      <td>1- 50 pekerja</td>\n",
              "      <td>Manufaktur/Produksi</td>\n",
              "      <td>DESKRIPSI PEKERJAAN:Memeriksa dan/atau membuat...</td>\n",
              "      <td>4750000.0</td>\n",
              "      <td>0.000000</td>\n",
              "    </tr>\n",
              "    <tr>\n",
              "      <th>22</th>\n",
              "      <td>23</td>\n",
              "      <td>senior staff purchasing</td>\n",
              "      <td>15</td>\n",
              "      <td>1</td>\n",
              "      <td>2.00</td>\n",
              "      <td>5</td>\n",
              "      <td>0</td>\n",
              "      <td>Manufaktur,Pembelian/Manajemen Material</td>\n",
              "      <td>Asuransi kesehatan;Jam Bekerja yang Panjang;Bi...</td>\n",
              "      <td>29.0</td>\n",
              "      <td>1- 50 pekerja</td>\n",
              "      <td>Elektrikal &amp; Elektronik</td>\n",
              "      <td>Deskripsi Pekerjaan:Mampu melakukan rencana pe...</td>\n",
              "      <td>5250000.0</td>\n",
              "      <td>0.052632</td>\n",
              "    </tr>\n",
              "    <tr>\n",
              "      <th>26</th>\n",
              "      <td>27</td>\n",
              "      <td>marketing communication &amp; channel manager</td>\n",
              "      <td>11</td>\n",
              "      <td>2</td>\n",
              "      <td>2.00</td>\n",
              "      <td>9</td>\n",
              "      <td>0</td>\n",
              "      <td>Penjualan / Pemasaran,Pemasaran/Pengembangan B...</td>\n",
              "      <td>Asuransi Gigi;Asuransi kesehatan;Parkir;Waktu ...</td>\n",
              "      <td>29.0</td>\n",
              "      <td>51 - 200 pekerja</td>\n",
              "      <td>Konsultasi (IT, Ilmu Pengetahuan, Teknis &amp; Tek...</td>\n",
              "      <td>SCOPE OF ROLE :To plan, develop, implement and...</td>\n",
              "      <td>15000000.0</td>\n",
              "      <td>0.052632</td>\n",
              "    </tr>\n",
              "    <tr>\n",
              "      <th>28</th>\n",
              "      <td>29</td>\n",
              "      <td>mechanic</td>\n",
              "      <td>32</td>\n",
              "      <td>1</td>\n",
              "      <td>1.00</td>\n",
              "      <td>9</td>\n",
              "      <td>0</td>\n",
              "      <td>Teknik,Mekanikal</td>\n",
              "      <td>Asuransi kesehatan;Waktu regular, Senin - Juma...</td>\n",
              "      <td>21.0</td>\n",
              "      <td>51 - 200 pekerja</td>\n",
              "      <td>Automobil/Mesin Tambahan Automotif/Kendaraan</td>\n",
              "      <td>Kualifikasinya :Pendidikan Minimal SMK Jurusan...</td>\n",
              "      <td>5040000.0</td>\n",
              "      <td>0.000000</td>\n",
              "    </tr>\n",
              "    <tr>\n",
              "      <th>31</th>\n",
              "      <td>32</td>\n",
              "      <td>ppic</td>\n",
              "      <td>10</td>\n",
              "      <td>2</td>\n",
              "      <td>5.00</td>\n",
              "      <td>6</td>\n",
              "      <td>0</td>\n",
              "      <td>Manufaktur,Manufaktur</td>\n",
              "      <td>Asuransi kesehatan;Waktu regular, Senin - Juma...</td>\n",
              "      <td>21.0</td>\n",
              "      <td>201 - 500 pekerja</td>\n",
              "      <td>Manufaktur/Produksi</td>\n",
              "      <td>Tanggung Jawab:Membuat perencanaan produksi be...</td>\n",
              "      <td>6600000.0</td>\n",
              "      <td>0.210526</td>\n",
              "    </tr>\n",
              "    <tr>\n",
              "      <th>34</th>\n",
              "      <td>35</td>\n",
              "      <td>c# advanced/senior developer</td>\n",
              "      <td>11</td>\n",
              "      <td>0</td>\n",
              "      <td>2.00</td>\n",
              "      <td>5</td>\n",
              "      <td>0</td>\n",
              "      <td>Komputer/Teknologi Informasi,IT-Perangkat Lunak</td>\n",
              "      <td>Tip;Asuransi kesehatan;Waktu regular, Senin - ...</td>\n",
              "      <td>5.0</td>\n",
              "      <td>1- 50 pekerja</td>\n",
              "      <td>Komputer/Teknik Informatika (Perangkat Lunak)</td>\n",
              "      <td>Kualifikasi:Kandidat harus memiliki setidaknya...</td>\n",
              "      <td>9500000.0</td>\n",
              "      <td>0.052632</td>\n",
              "    </tr>\n",
              "    <tr>\n",
              "      <th>35</th>\n",
              "      <td>36</td>\n",
              "      <td>manager tiktok shop and tiktok live</td>\n",
              "      <td>10</td>\n",
              "      <td>2</td>\n",
              "      <td>1.00</td>\n",
              "      <td>5</td>\n",
              "      <td>0</td>\n",
              "      <td>Penjualan / Pemasaran,E-commerce</td>\n",
              "      <td>Kasual (contoh: Kaos);Potensi Perkembangan Kar...</td>\n",
              "      <td>21.0</td>\n",
              "      <td>1- 50 pekerja</td>\n",
              "      <td>Umum &amp; Grosir</td>\n",
              "      <td>Perusahaan yang bergerak di bidang online shop...</td>\n",
              "      <td>6500000.0</td>\n",
              "      <td>0.000000</td>\n",
              "    </tr>\n",
              "    <tr>\n",
              "      <th>37</th>\n",
              "      <td>38</td>\n",
              "      <td>it software developer staff</td>\n",
              "      <td>11</td>\n",
              "      <td>1</td>\n",
              "      <td>1.00</td>\n",
              "      <td>4</td>\n",
              "      <td>0</td>\n",
              "      <td>Komputer/Teknologi Informasi,IT-Perangkat Lunak</td>\n",
              "      <td>Kasual (contoh: Kaos);Senin - Jum'at (HO) Seni...</td>\n",
              "      <td>21.0</td>\n",
              "      <td>501 - 1000 pekerja</td>\n",
              "      <td>Industri Berat/Mesin/Peralatan</td>\n",
              "      <td>Bachelor’s degree of Information Technology or...</td>\n",
              "      <td>6800000.0</td>\n",
              "      <td>0.000000</td>\n",
              "    </tr>\n",
              "  </tbody>\n",
              "</table>\n",
              "</div>\n",
              "      <button class=\"colab-df-convert\" onclick=\"convertToInteractive('df-d0b9809b-051f-4f8b-a346-9db36cbe2fcc')\"\n",
              "              title=\"Convert this dataframe to an interactive table.\"\n",
              "              style=\"display:none;\">\n",
              "        \n",
              "  <svg xmlns=\"http://www.w3.org/2000/svg\" height=\"24px\"viewBox=\"0 0 24 24\"\n",
              "       width=\"24px\">\n",
              "    <path d=\"M0 0h24v24H0V0z\" fill=\"none\"/>\n",
              "    <path d=\"M18.56 5.44l.94 2.06.94-2.06 2.06-.94-2.06-.94-.94-2.06-.94 2.06-2.06.94zm-11 1L8.5 8.5l.94-2.06 2.06-.94-2.06-.94L8.5 2.5l-.94 2.06-2.06.94zm10 10l.94 2.06.94-2.06 2.06-.94-2.06-.94-.94-2.06-.94 2.06-2.06.94z\"/><path d=\"M17.41 7.96l-1.37-1.37c-.4-.4-.92-.59-1.43-.59-.52 0-1.04.2-1.43.59L10.3 9.45l-7.72 7.72c-.78.78-.78 2.05 0 2.83L4 21.41c.39.39.9.59 1.41.59.51 0 1.02-.2 1.41-.59l7.78-7.78 2.81-2.81c.8-.78.8-2.07 0-2.86zM5.41 20L4 18.59l7.72-7.72 1.47 1.35L5.41 20z\"/>\n",
              "  </svg>\n",
              "      </button>\n",
              "      \n",
              "  <style>\n",
              "    .colab-df-container {\n",
              "      display:flex;\n",
              "      flex-wrap:wrap;\n",
              "      gap: 12px;\n",
              "    }\n",
              "\n",
              "    .colab-df-convert {\n",
              "      background-color: #E8F0FE;\n",
              "      border: none;\n",
              "      border-radius: 50%;\n",
              "      cursor: pointer;\n",
              "      display: none;\n",
              "      fill: #1967D2;\n",
              "      height: 32px;\n",
              "      padding: 0 0 0 0;\n",
              "      width: 32px;\n",
              "    }\n",
              "\n",
              "    .colab-df-convert:hover {\n",
              "      background-color: #E2EBFA;\n",
              "      box-shadow: 0px 1px 2px rgba(60, 64, 67, 0.3), 0px 1px 3px 1px rgba(60, 64, 67, 0.15);\n",
              "      fill: #174EA6;\n",
              "    }\n",
              "\n",
              "    [theme=dark] .colab-df-convert {\n",
              "      background-color: #3B4455;\n",
              "      fill: #D2E3FC;\n",
              "    }\n",
              "\n",
              "    [theme=dark] .colab-df-convert:hover {\n",
              "      background-color: #434B5C;\n",
              "      box-shadow: 0px 1px 3px 1px rgba(0, 0, 0, 0.15);\n",
              "      filter: drop-shadow(0px 1px 2px rgba(0, 0, 0, 0.3));\n",
              "      fill: #FFFFFF;\n",
              "    }\n",
              "  </style>\n",
              "\n",
              "      <script>\n",
              "        const buttonEl =\n",
              "          document.querySelector('#df-d0b9809b-051f-4f8b-a346-9db36cbe2fcc button.colab-df-convert');\n",
              "        buttonEl.style.display =\n",
              "          google.colab.kernel.accessAllowed ? 'block' : 'none';\n",
              "\n",
              "        async function convertToInteractive(key) {\n",
              "          const element = document.querySelector('#df-d0b9809b-051f-4f8b-a346-9db36cbe2fcc');\n",
              "          const dataTable =\n",
              "            await google.colab.kernel.invokeFunction('convertToInteractive',\n",
              "                                                     [key], {});\n",
              "          if (!dataTable) return;\n",
              "\n",
              "          const docLinkHtml = 'Like what you see? Visit the ' +\n",
              "            '<a target=\"_blank\" href=https://colab.research.google.com/notebooks/data_table.ipynb>data table notebook</a>'\n",
              "            + ' to learn more about interactive tables.';\n",
              "          element.innerHTML = '';\n",
              "          dataTable['output_type'] = 'display_data';\n",
              "          await google.colab.output.renderOutput(dataTable, element);\n",
              "          const docLink = document.createElement('div');\n",
              "          docLink.innerHTML = docLinkHtml;\n",
              "          element.appendChild(docLink);\n",
              "        }\n",
              "      </script>\n",
              "    </div>\n",
              "  </div>\n",
              "  "
            ]
          },
          "metadata": {},
          "execution_count": 775
        }
      ]
    },
    {
      "cell_type": "code",
      "source": [
        "from sklearn.preprocessing import LabelEncoder\n",
        "le = LabelEncoder()\n",
        "\n",
        "model_label_job_title = le.fit(train_new['job_title'])"
      ],
      "metadata": {
        "id": "86J8VgAOuf9-"
      },
      "execution_count": null,
      "outputs": []
    },
    {
      "cell_type": "code",
      "source": [
        "model_label_job_title.classes_"
      ],
      "metadata": {
        "colab": {
          "base_uri": "https://localhost:8080/"
        },
        "id": "hBGKzXkV0GTS",
        "outputId": "fdd9fce0-9cf0-40a6-d277-f3daf157d4cf"
      },
      "execution_count": null,
      "outputs": [
        {
          "output_type": "execute_result",
          "data": {
            "text/plain": [
              "array([' graphic designer', ' marcomm staff', '.net core web developer',\n",
              "       ..., '融资经理', '销售总经理助理 （中文和英文强 ）',\n",
              "       '项目翻译管理员 （ site mandarin translator )'], dtype=object)"
            ]
          },
          "metadata": {},
          "execution_count": 777
        }
      ]
    },
    {
      "cell_type": "code",
      "source": [
        "train_new['job_title'].unique()"
      ],
      "metadata": {
        "colab": {
          "base_uri": "https://localhost:8080/"
        },
        "id": "gWcuucZU0M9R",
        "outputId": "84463f14-4058-40d9-95b5-57ecb18d5067"
      },
      "execution_count": null,
      "outputs": [
        {
          "output_type": "execute_result",
          "data": {
            "text/plain": [
              "array(['kepala pabrik', 'tax supervisor', 'accounting staff', ...,\n",
              "       'commis pastry / baker', 'personal  assistant to owner',\n",
              "       'temporary media design officer'], dtype=object)"
            ]
          },
          "metadata": {},
          "execution_count": 778
        }
      ]
    },
    {
      "cell_type": "code",
      "source": [
        "train_new['job_title_label'] = model_label_job_title.transform(train_new['job_title'])"
      ],
      "metadata": {
        "id": "B-KzTm4B0VYD"
      },
      "execution_count": null,
      "outputs": []
    },
    {
      "cell_type": "code",
      "source": [
        "train_new['job_title_label'].unique()"
      ],
      "metadata": {
        "colab": {
          "base_uri": "https://localhost:8080/"
        },
        "id": "A7OUeB0N0uxy",
        "outputId": "60219364-9a9b-4e67-9c67-47d3b5114d34"
      },
      "execution_count": null,
      "outputs": [
        {
          "output_type": "execute_result",
          "data": {
            "text/plain": [
              "array([1600, 3273,   79, ...,  572, 2133, 3365])"
            ]
          },
          "metadata": {},
          "execution_count": 780
        }
      ]
    },
    {
      "cell_type": "markdown",
      "source": [
        "# TRAIN MODEL"
      ],
      "metadata": {
        "id": "_44LdNYY_LHr"
      }
    },
    {
      "cell_type": "markdown",
      "source": [
        "## Multiple Linear Regression"
      ],
      "metadata": {
        "id": "2naXn3tk3uuO"
      }
    },
    {
      "cell_type": "code",
      "source": [
        "from sklearn.model_selection import train_test_split\n",
        "\n",
        "X = train_new[[\n",
        "              #  'job_title_label',\n",
        "               'career_level', \n",
        "               'experience_level',\n",
        "               'location', \n",
        "               'education_level', \n",
        "               'employment_type',\n",
        "               'company_process_time'\n",
        "               ]]\n",
        "\n",
        "y = train_new[['salary']]\n",
        "\n",
        "X_train, X_test, y_train, y_test = train_test_split(X, y, random_state=0, test_size=0.2)"
      ],
      "metadata": {
        "id": "eTaoqZUx3w0x"
      },
      "execution_count": null,
      "outputs": []
    },
    {
      "cell_type": "code",
      "source": [
        "from sklearn.linear_model import LinearRegression\n",
        "\n",
        "lr_model = LinearRegression()\n",
        "\n",
        "lr_model.fit(X_train, y_train)"
      ],
      "metadata": {
        "colab": {
          "base_uri": "https://localhost:8080/"
        },
        "id": "giXkmkcS3zUG",
        "outputId": "63df5006-a979-4d02-f341-fa5442adff07"
      },
      "execution_count": null,
      "outputs": [
        {
          "output_type": "execute_result",
          "data": {
            "text/plain": [
              "LinearRegression()"
            ]
          },
          "metadata": {},
          "execution_count": 782
        }
      ]
    },
    {
      "cell_type": "code",
      "source": [
        "y_pred_lr = lr_model.predict(train_new[[\n",
        "                #  'job_title_label',\n",
        "                'career_level', \n",
        "               'experience_level',\n",
        "               'location', \n",
        "               'education_level', \n",
        "               'employment_type',\n",
        "               'company_process_time'\n",
        "               ]])"
      ],
      "metadata": {
        "id": "Q_D3Q92D396t"
      },
      "execution_count": null,
      "outputs": []
    },
    {
      "cell_type": "code",
      "source": [
        "from sklearn.metrics import r2_score\n",
        "\n",
        "print(round(r2_score(train_new['salary'], y_pred_lr), 4))"
      ],
      "metadata": {
        "colab": {
          "base_uri": "https://localhost:8080/"
        },
        "id": "XqE_kR_B4HGo",
        "outputId": "e731bd76-174f-4753-df70-1a4bec205c15"
      },
      "execution_count": null,
      "outputs": [
        {
          "output_type": "stream",
          "name": "stdout",
          "text": [
            "0.3492\n"
          ]
        }
      ]
    },
    {
      "cell_type": "code",
      "source": [
        "from sklearn.metrics import mean_squared_error\n",
        "\n",
        "print(\"RMSE\\t\\t: \", np.sqrt(mean_squared_error(train_new['salary'], y_pred_lr)))"
      ],
      "metadata": {
        "colab": {
          "base_uri": "https://localhost:8080/"
        },
        "id": "RCUvdU0e4aUN",
        "outputId": "dd6f79da-7ab8-48b0-f6fe-859b8f5f1da3"
      },
      "execution_count": null,
      "outputs": [
        {
          "output_type": "stream",
          "name": "stdout",
          "text": [
            "RMSE\t\t:  4788647.215243954\n"
          ]
        }
      ]
    },
    {
      "cell_type": "markdown",
      "source": [
        "RMSE\t\t:  2154379.2746065683"
      ],
      "metadata": {
        "id": "EumCOENi4gu-"
      }
    },
    {
      "cell_type": "markdown",
      "source": [
        "## Deciosion Tree Regressor"
      ],
      "metadata": {
        "id": "An4Z2Q-W_Omq"
      }
    },
    {
      "cell_type": "code",
      "source": [
        "import seaborn as sns\n",
        "\n",
        "sns.heatmap(\n",
        "    train_new.corr(),\n",
        "    annot=True\n",
        ")"
      ],
      "metadata": {
        "colab": {
          "base_uri": "https://localhost:8080/",
          "height": 398
        },
        "id": "IS1Ph1tlA5Qv",
        "outputId": "c666f682-7d00-4579-bbf4-3ec45264bc7f"
      },
      "execution_count": null,
      "outputs": [
        {
          "output_type": "execute_result",
          "data": {
            "text/plain": [
              "<matplotlib.axes._subplots.AxesSubplot at 0x7ff5b40c1950>"
            ]
          },
          "metadata": {},
          "execution_count": 786
        },
        {
          "output_type": "display_data",
          "data": {
            "text/plain": [
              "<Figure size 432x288 with 2 Axes>"
            ],
            "image/png": "[encoded data removed]"
          },
          "metadata": {
            "needs_background": "light"
          }
        }
      ]
    },
    {
      "cell_type": "code",
      "source": [
        "from sklearn.model_selection import train_test_split\n",
        "\n",
        "X = train_new[[\n",
        "              #  'job_title_label',\n",
        "               'career_level', \n",
        "               'experience_level',\n",
        "               'location', \n",
        "               'education_level', \n",
        "               'employment_type',\n",
        "               'company_process_time'\n",
        "               ]]\n",
        "\n",
        "y = train_new[['salary']]\n",
        "\n",
        "X_train, X_test, y_train, y_test = train_test_split(X, y, random_state=0, test_size=0.2)"
      ],
      "metadata": {
        "id": "AGLd3ct4Ahiu"
      },
      "execution_count": null,
      "outputs": []
    },
    {
      "cell_type": "code",
      "source": [
        "from sklearn.tree import DecisionTreeRegressor\n",
        "\n",
        "DT_model = DecisionTreeRegressor()\n",
        "\n",
        "DT_model.fit(X_train, y_train) "
      ],
      "metadata": {
        "colab": {
          "base_uri": "https://localhost:8080/"
        },
        "id": "C-vuIQEL_N9_",
        "outputId": "89e0fa6e-436e-4ca8-bd2f-0acac41a0948"
      },
      "execution_count": null,
      "outputs": [
        {
          "output_type": "execute_result",
          "data": {
            "text/plain": [
              "DecisionTreeRegressor()"
            ]
          },
          "metadata": {},
          "execution_count": 788
        }
      ]
    },
    {
      "cell_type": "code",
      "source": [
        "y_pred_DT = DT_model.predict(train_new[[\n",
        "                #  'job_title_label',\n",
        "                'career_level', \n",
        "               'experience_level',\n",
        "               'location', \n",
        "               'education_level', \n",
        "               'employment_type',\n",
        "               'company_process_time'\n",
        "               ]])"
      ],
      "metadata": {
        "id": "raUMLsEKALlR"
      },
      "execution_count": null,
      "outputs": []
    },
    {
      "cell_type": "code",
      "source": [
        "from sklearn.metrics import r2_score\n",
        "\n",
        "print(round(r2_score(train_new['salary'], y_pred_DT), 4))"
      ],
      "metadata": {
        "colab": {
          "base_uri": "https://localhost:8080/"
        },
        "id": "SUyUgl8aAGjf",
        "outputId": "20ebb777-9814-4920-d3ae-7bdd36455381"
      },
      "execution_count": null,
      "outputs": [
        {
          "output_type": "stream",
          "name": "stdout",
          "text": [
            "0.771\n"
          ]
        }
      ]
    },
    {
      "cell_type": "code",
      "source": [
        "from sklearn.metrics import mean_squared_error\n",
        "\n",
        "print(\"RMSE\\t\\t: \", np.sqrt(mean_squared_error(train_new['salary'], y_pred_DT)))"
      ],
      "metadata": {
        "colab": {
          "base_uri": "https://localhost:8080/"
        },
        "id": "XNLBlLtAG928",
        "outputId": "0f89f871-aeb6-4641-c362-30272b1d274d"
      },
      "execution_count": null,
      "outputs": [
        {
          "output_type": "stream",
          "name": "stdout",
          "text": [
            "RMSE\t\t:  2840875.7531684483\n"
          ]
        }
      ]
    },
    {
      "cell_type": "markdown",
      "source": [
        "RMSE\t\t:  3326318.9945145836"
      ],
      "metadata": {
        "id": "BEPL7w3mIJnm"
      }
    },
    {
      "cell_type": "code",
      "source": [
        "train_new.head(3)"
      ],
      "metadata": {
        "colab": {
          "base_uri": "https://localhost:8080/",
          "height": 364
        },
        "id": "FXQ1f4qyCr0E",
        "outputId": "fcff8585-ad32-47d1-809d-b2a8255d2cb0"
      },
      "execution_count": null,
      "outputs": [
        {
          "output_type": "execute_result",
          "data": {
            "text/plain": [
              "    id         job_title  location  career_level  experience_level  \\\n",
              "5    6     kepala pabrik        22             0              2.38   \n",
              "9   10    tax supervisor        10             0              3.00   \n",
              "18  19  accounting staff        11             1              1.00   \n",
              "\n",
              "    education_level  employment_type  \\\n",
              "5                 5                0   \n",
              "9                 5                0   \n",
              "18                5                0   \n",
              "\n",
              "                                        job_function  \\\n",
              "5                              Manufaktur,Manufaktur   \n",
              "9                 Akuntansi / Keuangan,Audit & Pajak   \n",
              "18  Akuntansi / Keuangan,Akuntansi Umum / Pembiayaan   \n",
              "\n",
              "                                         job_benefits  company_process_time  \\\n",
              "5   Asuransi kesehatan;Bisnis (contoh: Kemeja);Pro...                  18.0   \n",
              "9   Tip;Asuransi kesehatan;Waktu regular, Senin - ...                  22.0   \n",
              "18  Tip;Asuransi kesehatan;Bisnis (contoh: Kemeja)...                  21.0   \n",
              "\n",
              "        company_size            company_industry  \\\n",
              "5   51 - 200 pekerja         Manufaktur/Produksi   \n",
              "9   51 - 200 pekerja  Konstruksi/Bangunan/Teknik   \n",
              "18     1- 50 pekerja         Manufaktur/Produksi   \n",
              "\n",
              "                                      job_description      salary  \\\n",
              "5   Tedmond Groups membuka Lowongan Kepala Pabrik,...  10500000.0   \n",
              "9   ResponsibilitiesPrepare corporate income tax (...   8000000.0   \n",
              "18  DESKRIPSI PEKERJAAN:Memeriksa dan/atau membuat...   4750000.0   \n",
              "\n",
              "    experience_level_scaled  job_title_label  \n",
              "5                  0.072632             1600  \n",
              "9                  0.105263             3273  \n",
              "18                 0.000000               79  "
            ],
            "text/html": [
              "\n",
              "  <div id=\"df-d1a41442-0d3d-4841-a6be-09d69ddc2a5d\">\n",
              "    <div class=\"colab-df-container\">\n",
              "      <div>\n",
              "<style scoped>\n",
              "    .dataframe tbody tr th:only-of-type {\n",
              "        vertical-align: middle;\n",
              "    }\n",
              "\n",
              "    .dataframe tbody tr th {\n",
              "        vertical-align: top;\n",
              "    }\n",
              "\n",
              "    .dataframe thead th {\n",
              "        text-align: right;\n",
              "    }\n",
              "</style>\n",
              "<table border=\"1\" class=\"dataframe\">\n",
              "  <thead>\n",
              "    <tr style=\"text-align: right;\">\n",
              "      <th></th>\n",
              "      <th>id</th>\n",
              "      <th>job_title</th>\n",
              "      <th>location</th>\n",
              "      <th>career_level</th>\n",
              "      <th>experience_level</th>\n",
              "      <th>education_level</th>\n",
              "      <th>employment_type</th>\n",
              "      <th>job_function</th>\n",
              "      <th>job_benefits</th>\n",
              "      <th>company_process_time</th>\n",
              "      <th>company_size</th>\n",
              "      <th>company_industry</th>\n",
              "      <th>job_description</th>\n",
              "      <th>salary</th>\n",
              "      <th>experience_level_scaled</th>\n",
              "      <th>job_title_label</th>\n",
              "    </tr>\n",
              "  </thead>\n",
              "  <tbody>\n",
              "    <tr>\n",
              "      <th>5</th>\n",
              "      <td>6</td>\n",
              "      <td>kepala pabrik</td>\n",
              "      <td>22</td>\n",
              "      <td>0</td>\n",
              "      <td>2.38</td>\n",
              "      <td>5</td>\n",
              "      <td>0</td>\n",
              "      <td>Manufaktur,Manufaktur</td>\n",
              "      <td>Asuransi kesehatan;Bisnis (contoh: Kemeja);Pro...</td>\n",
              "      <td>18.0</td>\n",
              "      <td>51 - 200 pekerja</td>\n",
              "      <td>Manufaktur/Produksi</td>\n",
              "      <td>Tedmond Groups membuka Lowongan Kepala Pabrik,...</td>\n",
              "      <td>10500000.0</td>\n",
              "      <td>0.072632</td>\n",
              "      <td>1600</td>\n",
              "    </tr>\n",
              "    <tr>\n",
              "      <th>9</th>\n",
              "      <td>10</td>\n",
              "      <td>tax supervisor</td>\n",
              "      <td>10</td>\n",
              "      <td>0</td>\n",
              "      <td>3.00</td>\n",
              "      <td>5</td>\n",
              "      <td>0</td>\n",
              "      <td>Akuntansi / Keuangan,Audit &amp; Pajak</td>\n",
              "      <td>Tip;Asuransi kesehatan;Waktu regular, Senin - ...</td>\n",
              "      <td>22.0</td>\n",
              "      <td>51 - 200 pekerja</td>\n",
              "      <td>Konstruksi/Bangunan/Teknik</td>\n",
              "      <td>ResponsibilitiesPrepare corporate income tax (...</td>\n",
              "      <td>8000000.0</td>\n",
              "      <td>0.105263</td>\n",
              "      <td>3273</td>\n",
              "    </tr>\n",
              "    <tr>\n",
              "      <th>18</th>\n",
              "      <td>19</td>\n",
              "      <td>accounting staff</td>\n",
              "      <td>11</td>\n",
              "      <td>1</td>\n",
              "      <td>1.00</td>\n",
              "      <td>5</td>\n",
              "      <td>0</td>\n",
              "      <td>Akuntansi / Keuangan,Akuntansi Umum / Pembiayaan</td>\n",
              "      <td>Tip;Asuransi kesehatan;Bisnis (contoh: Kemeja)...</td>\n",
              "      <td>21.0</td>\n",
              "      <td>1- 50 pekerja</td>\n",
              "      <td>Manufaktur/Produksi</td>\n",
              "      <td>DESKRIPSI PEKERJAAN:Memeriksa dan/atau membuat...</td>\n",
              "      <td>4750000.0</td>\n",
              "      <td>0.000000</td>\n",
              "      <td>79</td>\n",
              "    </tr>\n",
              "  </tbody>\n",
              "</table>\n",
              "</div>\n",
              "      <button class=\"colab-df-convert\" onclick=\"convertToInteractive('df-d1a41442-0d3d-4841-a6be-09d69ddc2a5d')\"\n",
              "              title=\"Convert this dataframe to an interactive table.\"\n",
              "              style=\"display:none;\">\n",
              "        \n",
              "  <svg xmlns=\"http://www.w3.org/2000/svg\" height=\"24px\"viewBox=\"0 0 24 24\"\n",
              "       width=\"24px\">\n",
              "    <path d=\"M0 0h24v24H0V0z\" fill=\"none\"/>\n",
              "    <path d=\"M18.56 5.44l.94 2.06.94-2.06 2.06-.94-2.06-.94-.94-2.06-.94 2.06-2.06.94zm-11 1L8.5 8.5l.94-2.06 2.06-.94-2.06-.94L8.5 2.5l-.94 2.06-2.06.94zm10 10l.94 2.06.94-2.06 2.06-.94-2.06-.94-.94-2.06-.94 2.06-2.06.94z\"/><path d=\"M17.41 7.96l-1.37-1.37c-.4-.4-.92-.59-1.43-.59-.52 0-1.04.2-1.43.59L10.3 9.45l-7.72 7.72c-.78.78-.78 2.05 0 2.83L4 21.41c.39.39.9.59 1.41.59.51 0 1.02-.2 1.41-.59l7.78-7.78 2.81-2.81c.8-.78.8-2.07 0-2.86zM5.41 20L4 18.59l7.72-7.72 1.47 1.35L5.41 20z\"/>\n",
              "  </svg>\n",
              "      </button>\n",
              "      \n",
              "  <style>\n",
              "    .colab-df-container {\n",
              "      display:flex;\n",
              "      flex-wrap:wrap;\n",
              "      gap: 12px;\n",
              "    }\n",
              "\n",
              "    .colab-df-convert {\n",
              "      background-color: #E8F0FE;\n",
              "      border: none;\n",
              "      border-radius: 50%;\n",
              "      cursor: pointer;\n",
              "      display: none;\n",
              "      fill: #1967D2;\n",
              "      height: 32px;\n",
              "      padding: 0 0 0 0;\n",
              "      width: 32px;\n",
              "    }\n",
              "\n",
              "    .colab-df-convert:hover {\n",
              "      background-color: #E2EBFA;\n",
              "      box-shadow: 0px 1px 2px rgba(60, 64, 67, 0.3), 0px 1px 3px 1px rgba(60, 64, 67, 0.15);\n",
              "      fill: #174EA6;\n",
              "    }\n",
              "\n",
              "    [theme=dark] .colab-df-convert {\n",
              "      background-color: #3B4455;\n",
              "      fill: #D2E3FC;\n",
              "    }\n",
              "\n",
              "    [theme=dark] .colab-df-convert:hover {\n",
              "      background-color: #434B5C;\n",
              "      box-shadow: 0px 1px 3px 1px rgba(0, 0, 0, 0.15);\n",
              "      filter: drop-shadow(0px 1px 2px rgba(0, 0, 0, 0.3));\n",
              "      fill: #FFFFFF;\n",
              "    }\n",
              "  </style>\n",
              "\n",
              "      <script>\n",
              "        const buttonEl =\n",
              "          document.querySelector('#df-d1a41442-0d3d-4841-a6be-09d69ddc2a5d button.colab-df-convert');\n",
              "        buttonEl.style.display =\n",
              "          google.colab.kernel.accessAllowed ? 'block' : 'none';\n",
              "\n",
              "        async function convertToInteractive(key) {\n",
              "          const element = document.querySelector('#df-d1a41442-0d3d-4841-a6be-09d69ddc2a5d');\n",
              "          const dataTable =\n",
              "            await google.colab.kernel.invokeFunction('convertToInteractive',\n",
              "                                                     [key], {});\n",
              "          if (!dataTable) return;\n",
              "\n",
              "          const docLinkHtml = 'Like what you see? Visit the ' +\n",
              "            '<a target=\"_blank\" href=https://colab.research.google.com/notebooks/data_table.ipynb>data table notebook</a>'\n",
              "            + ' to learn more about interactive tables.';\n",
              "          element.innerHTML = '';\n",
              "          dataTable['output_type'] = 'display_data';\n",
              "          await google.colab.output.renderOutput(dataTable, element);\n",
              "          const docLink = document.createElement('div');\n",
              "          docLink.innerHTML = docLinkHtml;\n",
              "          element.appendChild(docLink);\n",
              "        }\n",
              "      </script>\n",
              "    </div>\n",
              "  </div>\n",
              "  "
            ]
          },
          "metadata": {},
          "execution_count": 792
        }
      ]
    },
    {
      "cell_type": "code",
      "source": [
        "print(DT_model.predict([[1600, 0, 2.38, 22, 5, 0]]))\n",
        "print(DT_model.predict([[3273, 0, 3.00, 10, 5, 0]]))\n",
        "print(DT_model.predict([[79, 1, 1.00, 11, 5, 0]]))"
      ],
      "metadata": {
        "colab": {
          "base_uri": "https://localhost:8080/"
        },
        "id": "tJUQBOyPCwjY",
        "outputId": "241486b2-c001-40fa-82df-3ec936d1d172"
      },
      "execution_count": null,
      "outputs": [
        {
          "output_type": "stream",
          "name": "stdout",
          "text": [
            "[29000000.]\n",
            "[29000000.]\n",
            "[29000000.]\n"
          ]
        },
        {
          "output_type": "stream",
          "name": "stderr",
          "text": [
            "/usr/local/lib/python3.7/dist-packages/sklearn/base.py:451: UserWarning: X does not have valid feature names, but DecisionTreeRegressor was fitted with feature names\n",
            "  \"X does not have valid feature names, but\"\n",
            "/usr/local/lib/python3.7/dist-packages/sklearn/base.py:451: UserWarning: X does not have valid feature names, but DecisionTreeRegressor was fitted with feature names\n",
            "  \"X does not have valid feature names, but\"\n",
            "/usr/local/lib/python3.7/dist-packages/sklearn/base.py:451: UserWarning: X does not have valid feature names, but DecisionTreeRegressor was fitted with feature names\n",
            "  \"X does not have valid feature names, but\"\n"
          ]
        }
      ]
    },
    {
      "cell_type": "markdown",
      "source": [
        "## Random Forest Reggresor"
      ],
      "metadata": {
        "id": "SwcqN1334x6X"
      }
    },
    {
      "cell_type": "code",
      "source": [
        "from sklearn.model_selection import train_test_split\n",
        "\n",
        "X = train_new[[\n",
        "              #  'job_title_label',\n",
        "               'career_level', \n",
        "               'experience_level',\n",
        "               'location', \n",
        "               'education_level', \n",
        "               'employment_type',\n",
        "               'company_process_time'\n",
        "               ]]\n",
        "\n",
        "y = train_new[['salary']]\n",
        "\n",
        "X_train, X_test, y_train, y_test = train_test_split(X, y, random_state=0, test_size=0.2)"
      ],
      "metadata": {
        "id": "Yg1RLksT5S47"
      },
      "execution_count": null,
      "outputs": []
    },
    {
      "cell_type": "code",
      "source": [
        "len(X_train)"
      ],
      "metadata": {
        "colab": {
          "base_uri": "https://localhost:8080/"
        },
        "id": "9kttEPIv6BqF",
        "outputId": "f169f57d-e4f8-42cf-cb1e-3e2abdc113ed"
      },
      "execution_count": null,
      "outputs": [
        {
          "output_type": "execute_result",
          "data": {
            "text/plain": [
              "5073"
            ]
          },
          "metadata": {},
          "execution_count": 795
        }
      ]
    },
    {
      "cell_type": "code",
      "source": [
        "len(y_train)"
      ],
      "metadata": {
        "colab": {
          "base_uri": "https://localhost:8080/"
        },
        "id": "MVbztU266xZO",
        "outputId": "2ac3fcd2-944b-4edc-e020-66ac941defb5"
      },
      "execution_count": null,
      "outputs": [
        {
          "output_type": "execute_result",
          "data": {
            "text/plain": [
              "5073"
            ]
          },
          "metadata": {},
          "execution_count": 796
        }
      ]
    },
    {
      "cell_type": "code",
      "source": [
        "from sklearn.ensemble import RandomForestRegressor\n",
        " \n",
        " # create regressor object\n",
        "RF_model = RandomForestRegressor(n_estimators = 100, random_state = 0)\n",
        " \n",
        "# fit the regressor with x and y data\n",
        "RF_model.fit(X_train, y_train) "
      ],
      "metadata": {
        "colab": {
          "base_uri": "https://localhost:8080/"
        },
        "id": "N0X76dXA4z0Y",
        "outputId": "fab98d51-fac2-4c57-a8a8-86a0ad29692d"
      },
      "execution_count": null,
      "outputs": [
        {
          "output_type": "stream",
          "name": "stderr",
          "text": [
            "/usr/local/lib/python3.7/dist-packages/ipykernel_launcher.py:7: DataConversionWarning: A column-vector y was passed when a 1d array was expected. Please change the shape of y to (n_samples,), for example using ravel().\n",
            "  import sys\n"
          ]
        },
        {
          "output_type": "execute_result",
          "data": {
            "text/plain": [
              "RandomForestRegressor(random_state=0)"
            ]
          },
          "metadata": {},
          "execution_count": 797
        }
      ]
    },
    {
      "cell_type": "code",
      "source": [
        "y_pred_RF = RF_model.predict(train_new[[\n",
        "                #  'job_title_label',\n",
        "                'career_level', \n",
        "               'experience_level',\n",
        "               'location', \n",
        "               'education_level', \n",
        "               'employment_type',\n",
        "               'company_process_time'\n",
        "               ]])"
      ],
      "metadata": {
        "id": "EsljuTiC7Jok"
      },
      "execution_count": null,
      "outputs": []
    },
    {
      "cell_type": "code",
      "source": [
        "from sklearn.metrics import r2_score\n",
        "\n",
        "print(round(r2_score(train_new['salary'], y_pred_RF), 4))"
      ],
      "metadata": {
        "colab": {
          "base_uri": "https://localhost:8080/"
        },
        "id": "5QoWFfQ35a54",
        "outputId": "69fb835f-6c9f-408b-d6c3-341ec9b8760e"
      },
      "execution_count": null,
      "outputs": [
        {
          "output_type": "stream",
          "name": "stdout",
          "text": [
            "0.8009\n"
          ]
        }
      ]
    },
    {
      "cell_type": "code",
      "source": [
        "from sklearn.metrics import mean_squared_error\n",
        "\n",
        "print(\"RMSE\\t\\t: \", np.sqrt(mean_squared_error(train_new['salary'], y_pred_RF)))"
      ],
      "metadata": {
        "colab": {
          "base_uri": "https://localhost:8080/"
        },
        "id": "rKDzDDVD7Xxd",
        "outputId": "9f79a4e0-f4a6-428d-bbe0-e42730c87ecb"
      },
      "execution_count": null,
      "outputs": [
        {
          "output_type": "stream",
          "name": "stdout",
          "text": [
            "RMSE\t\t:  2648610.1303443406\n"
          ]
        }
      ]
    },
    {
      "cell_type": "markdown",
      "source": [
        "DT RMSE : 2154379.2746065683"
      ],
      "metadata": {
        "id": "jbzEi6JM7qLj"
      }
    },
    {
      "cell_type": "markdown",
      "source": [
        "## RMSE"
      ],
      "metadata": {
        "id": "uNqF0k4k9_K5"
      }
    },
    {
      "cell_type": "code",
      "source": [
        "np.sqrt(mean_squared_error(train_new['salary'], y_pred_DT)) - np.sqrt(mean_squared_error(train_new['salary'], y_pred_RF))"
      ],
      "metadata": {
        "colab": {
          "base_uri": "https://localhost:8080/"
        },
        "id": "LzN-vT_l-B6v",
        "outputId": "47b99495-14d6-4d4b-964b-f6767f7d0f38"
      },
      "execution_count": null,
      "outputs": [
        {
          "output_type": "execute_result",
          "data": {
            "text/plain": [
              "192265.62282410776"
            ]
          },
          "metadata": {},
          "execution_count": 801
        }
      ]
    },
    {
      "cell_type": "markdown",
      "source": [
        "# PREDICT"
      ],
      "metadata": {
        "id": "mdWz6hejnVaQ"
      }
    },
    {
      "cell_type": "code",
      "source": [
        "predict_case = pd.read_csv('/content/drive/MyDrive/Data Science/Dataset/predict-case.csv', sep=\"|\")"
      ],
      "metadata": {
        "id": "qm21UGoPo5Gf"
      },
      "execution_count": null,
      "outputs": []
    },
    {
      "cell_type": "code",
      "source": [
        "predict_case.head(1)"
      ],
      "metadata": {
        "colab": {
          "base_uri": "https://localhost:8080/",
          "height": 197
        },
        "id": "CJrEi29ongbW",
        "outputId": "ed36e32f-02de-409a-dee9-6d0fb7070396"
      },
      "execution_count": null,
      "outputs": [
        {
          "output_type": "execute_result",
          "data": {
            "text/plain": [
              "      id  job_title location salary_currency  \\\n",
              "0  31747  Sous Chef   Lombok             IDR   \n",
              "\n",
              "                               career_level experience_level  \\\n",
              "0  Pegawai (non-manajemen & non-supervisor)          8 tahun   \n",
              "\n",
              "                                     education_level employment_type  \\\n",
              "0  Sertifikat Professional, D3 (Diploma), D4 (Dip...     Penuh Waktu   \n",
              "\n",
              "                                        job_function job_benefits  \\\n",
              "0  Hotel/Restoran,Makanan/Minuman/Pelayanan Restoran          NaN   \n",
              "\n",
              "  company_process_time company_size                     company_industry  \\\n",
              "0                  NaN          NaN  Makanan & Minuman/Katering/Restoran   \n",
              "\n",
              "                                     job_description  \n",
              "0  Candidate must posses at least bachelor degree...  "
            ],
            "text/html": [
              "\n",
              "  <div id=\"df-ad37304e-d10d-4f5c-bf73-3de211c422c6\">\n",
              "    <div class=\"colab-df-container\">\n",
              "      <div>\n",
              "<style scoped>\n",
              "    .dataframe tbody tr th:only-of-type {\n",
              "        vertical-align: middle;\n",
              "    }\n",
              "\n",
              "    .dataframe tbody tr th {\n",
              "        vertical-align: top;\n",
              "    }\n",
              "\n",
              "    .dataframe thead th {\n",
              "        text-align: right;\n",
              "    }\n",
              "</style>\n",
              "<table border=\"1\" class=\"dataframe\">\n",
              "  <thead>\n",
              "    <tr style=\"text-align: right;\">\n",
              "      <th></th>\n",
              "      <th>id</th>\n",
              "      <th>job_title</th>\n",
              "      <th>location</th>\n",
              "      <th>salary_currency</th>\n",
              "      <th>career_level</th>\n",
              "      <th>experience_level</th>\n",
              "      <th>education_level</th>\n",
              "      <th>employment_type</th>\n",
              "      <th>job_function</th>\n",
              "      <th>job_benefits</th>\n",
              "      <th>company_process_time</th>\n",
              "      <th>company_size</th>\n",
              "      <th>company_industry</th>\n",
              "      <th>job_description</th>\n",
              "    </tr>\n",
              "  </thead>\n",
              "  <tbody>\n",
              "    <tr>\n",
              "      <th>0</th>\n",
              "      <td>31747</td>\n",
              "      <td>Sous Chef</td>\n",
              "      <td>Lombok</td>\n",
              "      <td>IDR</td>\n",
              "      <td>Pegawai (non-manajemen &amp; non-supervisor)</td>\n",
              "      <td>8 tahun</td>\n",
              "      <td>Sertifikat Professional, D3 (Diploma), D4 (Dip...</td>\n",
              "      <td>Penuh Waktu</td>\n",
              "      <td>Hotel/Restoran,Makanan/Minuman/Pelayanan Restoran</td>\n",
              "      <td>NaN</td>\n",
              "      <td>NaN</td>\n",
              "      <td>NaN</td>\n",
              "      <td>Makanan &amp; Minuman/Katering/Restoran</td>\n",
              "      <td>Candidate must posses at least bachelor degree...</td>\n",
              "    </tr>\n",
              "  </tbody>\n",
              "</table>\n",
              "</div>\n",
              "      <button class=\"colab-df-convert\" onclick=\"convertToInteractive('df-ad37304e-d10d-4f5c-bf73-3de211c422c6')\"\n",
              "              title=\"Convert this dataframe to an interactive table.\"\n",
              "              style=\"display:none;\">\n",
              "        \n",
              "  <svg xmlns=\"http://www.w3.org/2000/svg\" height=\"24px\"viewBox=\"0 0 24 24\"\n",
              "       width=\"24px\">\n",
              "    <path d=\"M0 0h24v24H0V0z\" fill=\"none\"/>\n",
              "    <path d=\"M18.56 5.44l.94 2.06.94-2.06 2.06-.94-2.06-.94-.94-2.06-.94 2.06-2.06.94zm-11 1L8.5 8.5l.94-2.06 2.06-.94-2.06-.94L8.5 2.5l-.94 2.06-2.06.94zm10 10l.94 2.06.94-2.06 2.06-.94-2.06-.94-.94-2.06-.94 2.06-2.06.94z\"/><path d=\"M17.41 7.96l-1.37-1.37c-.4-.4-.92-.59-1.43-.59-.52 0-1.04.2-1.43.59L10.3 9.45l-7.72 7.72c-.78.78-.78 2.05 0 2.83L4 21.41c.39.39.9.59 1.41.59.51 0 1.02-.2 1.41-.59l7.78-7.78 2.81-2.81c.8-.78.8-2.07 0-2.86zM5.41 20L4 18.59l7.72-7.72 1.47 1.35L5.41 20z\"/>\n",
              "  </svg>\n",
              "      </button>\n",
              "      \n",
              "  <style>\n",
              "    .colab-df-container {\n",
              "      display:flex;\n",
              "      flex-wrap:wrap;\n",
              "      gap: 12px;\n",
              "    }\n",
              "\n",
              "    .colab-df-convert {\n",
              "      background-color: #E8F0FE;\n",
              "      border: none;\n",
              "      border-radius: 50%;\n",
              "      cursor: pointer;\n",
              "      display: none;\n",
              "      fill: #1967D2;\n",
              "      height: 32px;\n",
              "      padding: 0 0 0 0;\n",
              "      width: 32px;\n",
              "    }\n",
              "\n",
              "    .colab-df-convert:hover {\n",
              "      background-color: #E2EBFA;\n",
              "      box-shadow: 0px 1px 2px rgba(60, 64, 67, 0.3), 0px 1px 3px 1px rgba(60, 64, 67, 0.15);\n",
              "      fill: #174EA6;\n",
              "    }\n",
              "\n",
              "    [theme=dark] .colab-df-convert {\n",
              "      background-color: #3B4455;\n",
              "      fill: #D2E3FC;\n",
              "    }\n",
              "\n",
              "    [theme=dark] .colab-df-convert:hover {\n",
              "      background-color: #434B5C;\n",
              "      box-shadow: 0px 1px 3px 1px rgba(0, 0, 0, 0.15);\n",
              "      filter: drop-shadow(0px 1px 2px rgba(0, 0, 0, 0.3));\n",
              "      fill: #FFFFFF;\n",
              "    }\n",
              "  </style>\n",
              "\n",
              "      <script>\n",
              "        const buttonEl =\n",
              "          document.querySelector('#df-ad37304e-d10d-4f5c-bf73-3de211c422c6 button.colab-df-convert');\n",
              "        buttonEl.style.display =\n",
              "          google.colab.kernel.accessAllowed ? 'block' : 'none';\n",
              "\n",
              "        async function convertToInteractive(key) {\n",
              "          const element = document.querySelector('#df-ad37304e-d10d-4f5c-bf73-3de211c422c6');\n",
              "          const dataTable =\n",
              "            await google.colab.kernel.invokeFunction('convertToInteractive',\n",
              "                                                     [key], {});\n",
              "          if (!dataTable) return;\n",
              "\n",
              "          const docLinkHtml = 'Like what you see? Visit the ' +\n",
              "            '<a target=\"_blank\" href=https://colab.research.google.com/notebooks/data_table.ipynb>data table notebook</a>'\n",
              "            + ' to learn more about interactive tables.';\n",
              "          element.innerHTML = '';\n",
              "          dataTable['output_type'] = 'display_data';\n",
              "          await google.colab.output.renderOutput(dataTable, element);\n",
              "          const docLink = document.createElement('div');\n",
              "          docLink.innerHTML = docLinkHtml;\n",
              "          element.appendChild(docLink);\n",
              "        }\n",
              "      </script>\n",
              "    </div>\n",
              "  </div>\n",
              "  "
            ]
          },
          "metadata": {},
          "execution_count": 803
        }
      ]
    },
    {
      "cell_type": "code",
      "source": [
        "predict_case.isna().sum()"
      ],
      "metadata": {
        "colab": {
          "base_uri": "https://localhost:8080/"
        },
        "id": "L6RLEHLwnXJo",
        "outputId": "d04496e1-c4f2-45c5-8fa3-e878ce44d372"
      },
      "execution_count": null,
      "outputs": [
        {
          "output_type": "execute_result",
          "data": {
            "text/plain": [
              "id                         0\n",
              "job_title                  0\n",
              "location                   0\n",
              "salary_currency            0\n",
              "career_level               0\n",
              "experience_level         249\n",
              "education_level            0\n",
              "employment_type            0\n",
              "job_function               0\n",
              "job_benefits             749\n",
              "company_process_time    1047\n",
              "company_size             480\n",
              "company_industry         100\n",
              "job_description            0\n",
              "dtype: int64"
            ]
          },
          "metadata": {},
          "execution_count": 804
        }
      ]
    },
    {
      "cell_type": "markdown",
      "source": [
        "## job_title"
      ],
      "metadata": {
        "id": "LAqZK5xV1PGb"
      }
    },
    {
      "cell_type": "code",
      "source": [
        "# predict_case[\"job_title\"] = predict_case[\"job_title\"].apply(lambda item: np.NaN if item is np.NaN else str(item).lower())"
      ],
      "metadata": {
        "id": "Jd3zwxPC1Txc"
      },
      "execution_count": null,
      "outputs": []
    },
    {
      "cell_type": "code",
      "source": [
        "# def removeTextInsideBrackets(data):\n",
        "#   data = re.sub(\"\\(.*?\\)\", \"\", data)\n",
        "#   return data"
      ],
      "metadata": {
        "id": "hWVdVUqw1W_n"
      },
      "execution_count": null,
      "outputs": []
    },
    {
      "cell_type": "code",
      "source": [
        "# predict_case[\"job_title\"] = predict_case[\"job_title\"].apply(removeTextInsideBrackets)"
      ],
      "metadata": {
        "id": "9SeJ7yeN1U1q"
      },
      "execution_count": null,
      "outputs": []
    },
    {
      "cell_type": "code",
      "source": [
        "# def hapus_min(data):\n",
        "#   split_string = data.split(\"-\", 1)\n",
        "#   substring = split_string[0]\n",
        "#   return substring.rstrip()"
      ],
      "metadata": {
        "id": "G2w7esc41j7c"
      },
      "execution_count": null,
      "outputs": []
    },
    {
      "cell_type": "code",
      "source": [
        "# predict_case['job_title'] = predict_case['job_title'].apply(hapus_min)"
      ],
      "metadata": {
        "id": "KjgCbbBe1j7d"
      },
      "execution_count": null,
      "outputs": []
    },
    {
      "cell_type": "code",
      "source": [
        "# len(predict_case['job_title'].unique())"
      ],
      "metadata": {
        "id": "rQYKB9fi1nhd"
      },
      "execution_count": null,
      "outputs": []
    },
    {
      "cell_type": "code",
      "source": [
        "# predict_case['job_title_label'] = model_label_job_title.transform(predict_case['job_title'])"
      ],
      "metadata": {
        "id": "hTL20FAN05IN"
      },
      "execution_count": null,
      "outputs": []
    },
    {
      "cell_type": "code",
      "source": [
        "# predict_case['job_title_label'].unique()"
      ],
      "metadata": {
        "id": "wTS7xw2p1yUm"
      },
      "execution_count": null,
      "outputs": []
    },
    {
      "cell_type": "markdown",
      "source": [
        "## location"
      ],
      "metadata": {
        "id": "Q3F3M79joeSP"
      }
    },
    {
      "cell_type": "code",
      "source": [
        "predict_case['location'] = predict_case['location'].apply(loc)"
      ],
      "metadata": {
        "id": "xsn2vKgKptXk"
      },
      "execution_count": null,
      "outputs": []
    },
    {
      "cell_type": "code",
      "source": [
        "predict_case['location'].unique()"
      ],
      "metadata": {
        "colab": {
          "base_uri": "https://localhost:8080/"
        },
        "id": "Wjcgz-5tpy0d",
        "outputId": "59555eac-a802-422e-b387-a1e703ba4446"
      },
      "execution_count": null,
      "outputs": [
        {
          "output_type": "execute_result",
          "data": {
            "text/plain": [
              "array([17, 27, 11,  0, 15, 16, 12, 14, 10, 19,  1,  6,  4, 21,  5, 13,  3,\n",
              "        8, 22, 25, 18,  7, 32, 29, 20, 24,  9, 31,  2, 30, 26, 33, 28, 23])"
            ]
          },
          "metadata": {},
          "execution_count": 814
        }
      ]
    },
    {
      "cell_type": "markdown",
      "source": [
        "## career_level"
      ],
      "metadata": {
        "id": "KCVH20KtoV9-"
      }
    },
    {
      "cell_type": "markdown",
      "source": [
        "* 'Supervisor/Koordinator',\n",
        "*       'Pegawai (non-manajemen & non-supervisor)',\n",
        "*      'Manajer/Asisten Manajer',\n",
        "*     'Lulusan baru/Pengalaman kerja kurang dari 1 tahun',\n",
        "*    'CEO/GM/Direktur/Manajer Senior']"
      ],
      "metadata": {
        "id": "BQIFr-72pBsh"
      }
    },
    {
      "cell_type": "code",
      "source": [
        "for i in predict_case['career_level'].unique():\n",
        "  print(i)"
      ],
      "metadata": {
        "colab": {
          "base_uri": "https://localhost:8080/"
        },
        "id": "XMc4lgc0owmK",
        "outputId": "a78de5e7-2ca3-4d97-e73c-8557f3461303"
      },
      "execution_count": null,
      "outputs": [
        {
          "output_type": "stream",
          "name": "stdout",
          "text": [
            "Pegawai (non-manajemen & non-supervisor)\n",
            "Manajer/Asisten Manajer\n",
            "Supervisor/Koordinator\n",
            "Lulusan baru/Pengalaman kerja kurang dari 1 tahun\n",
            "CEO/GM/Direktur/Manajer Senior\n"
          ]
        }
      ]
    },
    {
      "cell_type": "code",
      "execution_count": null,
      "metadata": {
        "id": "3rPf_xqIol8c"
      },
      "outputs": [],
      "source": [
        "def career_level_label(cl):\n",
        "    if cl == career_level[2]:\n",
        "        return 0\n",
        "    elif cl == career_level[0]:\n",
        "        return 1\n",
        "    elif cl == career_level[1]:\n",
        "        return 2\n",
        "    elif cl == career_level[3]:\n",
        "        return 3\n",
        "    elif cl == career_level[4]:\n",
        "        return 4"
      ]
    },
    {
      "cell_type": "code",
      "execution_count": null,
      "metadata": {
        "id": "Nrg-kU6Uol8d"
      },
      "outputs": [],
      "source": [
        "predict_case['career_level'] = predict_case['career_level'].apply(career_level_label)"
      ]
    },
    {
      "cell_type": "code",
      "execution_count": null,
      "metadata": {
        "colab": {
          "base_uri": "https://localhost:8080/"
        },
        "outputId": "3f3cf4cb-7abf-4abe-bb6e-0a8a8257cb3f",
        "id": "hnvJ7Wv7ol8e"
      },
      "outputs": [
        {
          "output_type": "execute_result",
          "data": {
            "text/plain": [
              "array([2, 0, 1, 3, 4])"
            ]
          },
          "metadata": {},
          "execution_count": 818
        }
      ],
      "source": [
        "predict_case['career_level'].unique() "
      ]
    },
    {
      "cell_type": "markdown",
      "source": [
        "## experience_level"
      ],
      "metadata": {
        "id": "lCa7xfpioU8d"
      }
    },
    {
      "cell_type": "code",
      "source": [
        "predict_case[predict_case['experience_level'] == 'Lebih dari 20 Tahun']"
      ],
      "metadata": {
        "colab": {
          "base_uri": "https://localhost:8080/",
          "height": 197
        },
        "id": "Z4Aei9ivqNXi",
        "outputId": "964647ab-1fde-4b6f-e37a-d7a51ed85667"
      },
      "execution_count": null,
      "outputs": [
        {
          "output_type": "execute_result",
          "data": {
            "text/plain": [
              "       id         job_title  location salary_currency  career_level  \\\n",
              "46  31793  Process Engineer         4             IDR             1   \n",
              "\n",
              "       experience_level education_level employment_type      job_function  \\\n",
              "46  Lebih dari 20 Tahun    Sarjana (S1)     Penuh Waktu  Teknik,Mekanikal   \n",
              "\n",
              "                                         job_benefits company_process_time  \\\n",
              "46  Asuransi kesehatan;Pinjaman;Company Uniform (T...              30 days   \n",
              "\n",
              "           company_size     company_industry  \\\n",
              "46  1001 - 2000 pekerja  Manufaktur/Produksi   \n",
              "\n",
              "                                      job_description  \n",
              "46  1. Monitoring production capacity which follow...  "
            ],
            "text/html": [
              "\n",
              "  <div id=\"df-3a1171e9-0352-4f14-abd7-2f952615ce7b\">\n",
              "    <div class=\"colab-df-container\">\n",
              "      <div>\n",
              "<style scoped>\n",
              "    .dataframe tbody tr th:only-of-type {\n",
              "        vertical-align: middle;\n",
              "    }\n",
              "\n",
              "    .dataframe tbody tr th {\n",
              "        vertical-align: top;\n",
              "    }\n",
              "\n",
              "    .dataframe thead th {\n",
              "        text-align: right;\n",
              "    }\n",
              "</style>\n",
              "<table border=\"1\" class=\"dataframe\">\n",
              "  <thead>\n",
              "    <tr style=\"text-align: right;\">\n",
              "      <th></th>\n",
              "      <th>id</th>\n",
              "      <th>job_title</th>\n",
              "      <th>location</th>\n",
              "      <th>salary_currency</th>\n",
              "      <th>career_level</th>\n",
              "      <th>experience_level</th>\n",
              "      <th>education_level</th>\n",
              "      <th>employment_type</th>\n",
              "      <th>job_function</th>\n",
              "      <th>job_benefits</th>\n",
              "      <th>company_process_time</th>\n",
              "      <th>company_size</th>\n",
              "      <th>company_industry</th>\n",
              "      <th>job_description</th>\n",
              "    </tr>\n",
              "  </thead>\n",
              "  <tbody>\n",
              "    <tr>\n",
              "      <th>46</th>\n",
              "      <td>31793</td>\n",
              "      <td>Process Engineer</td>\n",
              "      <td>4</td>\n",
              "      <td>IDR</td>\n",
              "      <td>1</td>\n",
              "      <td>Lebih dari 20 Tahun</td>\n",
              "      <td>Sarjana (S1)</td>\n",
              "      <td>Penuh Waktu</td>\n",
              "      <td>Teknik,Mekanikal</td>\n",
              "      <td>Asuransi kesehatan;Pinjaman;Company Uniform (T...</td>\n",
              "      <td>30 days</td>\n",
              "      <td>1001 - 2000 pekerja</td>\n",
              "      <td>Manufaktur/Produksi</td>\n",
              "      <td>1. Monitoring production capacity which follow...</td>\n",
              "    </tr>\n",
              "  </tbody>\n",
              "</table>\n",
              "</div>\n",
              "      <button class=\"colab-df-convert\" onclick=\"convertToInteractive('df-3a1171e9-0352-4f14-abd7-2f952615ce7b')\"\n",
              "              title=\"Convert this dataframe to an interactive table.\"\n",
              "              style=\"display:none;\">\n",
              "        \n",
              "  <svg xmlns=\"http://www.w3.org/2000/svg\" height=\"24px\"viewBox=\"0 0 24 24\"\n",
              "       width=\"24px\">\n",
              "    <path d=\"M0 0h24v24H0V0z\" fill=\"none\"/>\n",
              "    <path d=\"M18.56 5.44l.94 2.06.94-2.06 2.06-.94-2.06-.94-.94-2.06-.94 2.06-2.06.94zm-11 1L8.5 8.5l.94-2.06 2.06-.94-2.06-.94L8.5 2.5l-.94 2.06-2.06.94zm10 10l.94 2.06.94-2.06 2.06-.94-2.06-.94-.94-2.06-.94 2.06-2.06.94z\"/><path d=\"M17.41 7.96l-1.37-1.37c-.4-.4-.92-.59-1.43-.59-.52 0-1.04.2-1.43.59L10.3 9.45l-7.72 7.72c-.78.78-.78 2.05 0 2.83L4 21.41c.39.39.9.59 1.41.59.51 0 1.02-.2 1.41-.59l7.78-7.78 2.81-2.81c.8-.78.8-2.07 0-2.86zM5.41 20L4 18.59l7.72-7.72 1.47 1.35L5.41 20z\"/>\n",
              "  </svg>\n",
              "      </button>\n",
              "      \n",
              "  <style>\n",
              "    .colab-df-container {\n",
              "      display:flex;\n",
              "      flex-wrap:wrap;\n",
              "      gap: 12px;\n",
              "    }\n",
              "\n",
              "    .colab-df-convert {\n",
              "      background-color: #E8F0FE;\n",
              "      border: none;\n",
              "      border-radius: 50%;\n",
              "      cursor: pointer;\n",
              "      display: none;\n",
              "      fill: #1967D2;\n",
              "      height: 32px;\n",
              "      padding: 0 0 0 0;\n",
              "      width: 32px;\n",
              "    }\n",
              "\n",
              "    .colab-df-convert:hover {\n",
              "      background-color: #E2EBFA;\n",
              "      box-shadow: 0px 1px 2px rgba(60, 64, 67, 0.3), 0px 1px 3px 1px rgba(60, 64, 67, 0.15);\n",
              "      fill: #174EA6;\n",
              "    }\n",
              "\n",
              "    [theme=dark] .colab-df-convert {\n",
              "      background-color: #3B4455;\n",
              "      fill: #D2E3FC;\n",
              "    }\n",
              "\n",
              "    [theme=dark] .colab-df-convert:hover {\n",
              "      background-color: #434B5C;\n",
              "      box-shadow: 0px 1px 3px 1px rgba(0, 0, 0, 0.15);\n",
              "      filter: drop-shadow(0px 1px 2px rgba(0, 0, 0, 0.3));\n",
              "      fill: #FFFFFF;\n",
              "    }\n",
              "  </style>\n",
              "\n",
              "      <script>\n",
              "        const buttonEl =\n",
              "          document.querySelector('#df-3a1171e9-0352-4f14-abd7-2f952615ce7b button.colab-df-convert');\n",
              "        buttonEl.style.display =\n",
              "          google.colab.kernel.accessAllowed ? 'block' : 'none';\n",
              "\n",
              "        async function convertToInteractive(key) {\n",
              "          const element = document.querySelector('#df-3a1171e9-0352-4f14-abd7-2f952615ce7b');\n",
              "          const dataTable =\n",
              "            await google.colab.kernel.invokeFunction('convertToInteractive',\n",
              "                                                     [key], {});\n",
              "          if (!dataTable) return;\n",
              "\n",
              "          const docLinkHtml = 'Like what you see? Visit the ' +\n",
              "            '<a target=\"_blank\" href=https://colab.research.google.com/notebooks/data_table.ipynb>data table notebook</a>'\n",
              "            + ' to learn more about interactive tables.';\n",
              "          element.innerHTML = '';\n",
              "          dataTable['output_type'] = 'display_data';\n",
              "          await google.colab.output.renderOutput(dataTable, element);\n",
              "          const docLink = document.createElement('div');\n",
              "          docLink.innerHTML = docLinkHtml;\n",
              "          element.appendChild(docLink);\n",
              "        }\n",
              "      </script>\n",
              "    </div>\n",
              "  </div>\n",
              "  "
            ]
          },
          "metadata": {},
          "execution_count": 819
        }
      ]
    },
    {
      "cell_type": "code",
      "source": [
        "def experience_level(el):\n",
        "    if el is not np.NaN:\n",
        "      if el == 'Lebih dari 20 Tahun':\n",
        "        return 20\n",
        "      variabel_baru = el.replace(\" tahun\", \"\")  \n",
        "      return int(variabel_baru)\n",
        "    "
      ],
      "metadata": {
        "id": "rvwwM_k7qcAg"
      },
      "execution_count": null,
      "outputs": []
    },
    {
      "cell_type": "code",
      "source": [
        "predict_case['experience_level'] = predict_case['experience_level'].apply(experience_level)"
      ],
      "metadata": {
        "id": "Ep8v4kJFqG7S"
      },
      "execution_count": null,
      "outputs": []
    },
    {
      "cell_type": "code",
      "source": [
        "predict_case['experience_level'].unique()"
      ],
      "metadata": {
        "colab": {
          "base_uri": "https://localhost:8080/"
        },
        "id": "zWA2LOC1q8Ji",
        "outputId": "e250bdef-528c-4300-fe11-a9def5697e02"
      },
      "execution_count": null,
      "outputs": [
        {
          "output_type": "execute_result",
          "data": {
            "text/plain": [
              "array([ 8.,  1.,  3.,  5.,  2., nan, 20.,  4.,  7., 10.,  6., 15., 12.])"
            ]
          },
          "metadata": {},
          "execution_count": 822
        }
      ]
    },
    {
      "cell_type": "code",
      "source": [
        "round(predict_case['experience_level'].mean(), 2)"
      ],
      "metadata": {
        "colab": {
          "base_uri": "https://localhost:8080/"
        },
        "id": "WaE_hZVbrCnh",
        "outputId": "2d5c554e-1fdb-408a-c9e3-417823a0e066"
      },
      "execution_count": null,
      "outputs": [
        {
          "output_type": "execute_result",
          "data": {
            "text/plain": [
              "2.39"
            ]
          },
          "metadata": {},
          "execution_count": 823
        }
      ]
    },
    {
      "cell_type": "code",
      "source": [
        "predict_case['experience_level'].fillna(round(predict_case['experience_level'].mean(), 2), inplace=True)"
      ],
      "metadata": {
        "id": "K44dY7Feq-bb"
      },
      "execution_count": null,
      "outputs": []
    },
    {
      "cell_type": "code",
      "source": [
        "predict_case['experience_level'].unique()"
      ],
      "metadata": {
        "colab": {
          "base_uri": "https://localhost:8080/"
        },
        "id": "QtFYzA1qrN_L",
        "outputId": "b9a2f676-e2ce-4f70-df45-4a195946db5e"
      },
      "execution_count": null,
      "outputs": [
        {
          "output_type": "execute_result",
          "data": {
            "text/plain": [
              "array([ 8.  ,  1.  ,  3.  ,  5.  ,  2.  ,  2.39, 20.  ,  4.  ,  7.  ,\n",
              "       10.  ,  6.  , 15.  , 12.  ])"
            ]
          },
          "metadata": {},
          "execution_count": 825
        }
      ]
    },
    {
      "cell_type": "markdown",
      "source": [
        "## education_level "
      ],
      "metadata": {
        "id": "svk0wmqCocTe"
      }
    },
    {
      "cell_type": "code",
      "source": [
        "def education_level_label(el):\n",
        "    if \"Doktor (S3)\" in el and \"Sertifikat Professional\" in el:\n",
        "        return 0\n",
        "    elif \"Doktor (S3)\" in el and \"Gelar Professional\" in el:\n",
        "        return 1\n",
        "    elif \"Doktor (S3)\" in el:\n",
        "        return 2\n",
        "    elif \"Magister (S2)\" in el and \"Sertifikat Professional\" in el:\n",
        "        return 3\n",
        "    elif \"Magister (S2)\" in el and \"Gelar Professional\" in el:\n",
        "        return 4\n",
        "    # elif \"Magister (S2)\" in el:\n",
        "    #     return 5\n",
        "    elif \"Sarjana (S1)\" in el and \"Sertifikat Professional\" in el:\n",
        "        return 5\n",
        "    # elif \"Sarjana (S1)\" in el and \"Gelar Professional\" in el:\n",
        "    #     return 7\n",
        "    elif \"Sarjana (S1)\" in el:\n",
        "        return 6\n",
        "    elif \"D4 (Diploma)\" in el and \"Sertifikat Professional\" in el:\n",
        "        return 7\n",
        "    # elif \"D4 (Diploma)\" in el and \"Gelar Professional\" in el:\n",
        "    #     return 10\n",
        "    # elif \"D4 (Diploma)\" in el:\n",
        "    #     return 11\n",
        "    elif \"SMU/SMK/STM\" in el:\n",
        "        return 8\n",
        "    elif \"Tidak terspesifikasi\" in el:\n",
        "        return 9\n",
        "    else:\n",
        "        return el"
      ],
      "metadata": {
        "id": "Z9ZgG7UzraGF"
      },
      "execution_count": null,
      "outputs": []
    },
    {
      "cell_type": "code",
      "source": [
        "predict_case['education_level'] = predict_case['education_level'].apply(education_level_label)"
      ],
      "metadata": {
        "id": "Fd-LDp-hrftY"
      },
      "execution_count": null,
      "outputs": []
    },
    {
      "cell_type": "code",
      "source": [
        "predict_case['education_level'].unique()"
      ],
      "metadata": {
        "colab": {
          "base_uri": "https://localhost:8080/"
        },
        "id": "taMXgw2srkkR",
        "outputId": "cc5743d8-9fc4-4389-e57a-b49092c14ff0"
      },
      "execution_count": null,
      "outputs": [
        {
          "output_type": "execute_result",
          "data": {
            "text/plain": [
              "array([3, 5, 4, 9, 8, 6, 7, 1])"
            ]
          },
          "metadata": {},
          "execution_count": 828
        }
      ]
    },
    {
      "cell_type": "markdown",
      "source": [
        "## employment_type  "
      ],
      "metadata": {
        "id": "WBnaDh8VoYtI"
      }
    },
    {
      "cell_type": "markdown",
      "source": [
        "* 'Penuh Waktu', \n",
        "* 'Kontrak', \n",
        "* 'Paruh Waktu', \n",
        "* 'Magang',\n",
        "* 'Temporer'"
      ],
      "metadata": {
        "id": "Op9J83qJr7Ja"
      }
    },
    {
      "cell_type": "code",
      "source": [
        "et_label = predict_case['employment_type'].unique()\n",
        "et_label"
      ],
      "metadata": {
        "colab": {
          "base_uri": "https://localhost:8080/"
        },
        "id": "T3MEYXVQr2eO",
        "outputId": "72d217a9-42d4-4cdd-cf49-0443f4a684d3"
      },
      "execution_count": null,
      "outputs": [
        {
          "output_type": "execute_result",
          "data": {
            "text/plain": [
              "array(['Penuh Waktu', 'Kontrak', 'Paruh Waktu', 'Magang', 'Temporer',\n",
              "       'Penuh Waktu, Kontrak', 'Penuh Waktu, Paruh Waktu',\n",
              "       'Kontrak, Temporer'], dtype=object)"
            ]
          },
          "metadata": {},
          "execution_count": 829
        }
      ]
    },
    {
      "cell_type": "code",
      "execution_count": null,
      "metadata": {
        "id": "n2SN0jEasTWf"
      },
      "outputs": [],
      "source": [
        "def employment_type_label(et):\n",
        "    if et == et_label[0] or et == 'Penuh Waktu, Kontrak' or et == 'Penuh Waktu, Paruh Waktu':\n",
        "        return 0\n",
        "    elif et == et_label[1] or et == 'Kontrak, Temporer':\n",
        "        return 1\n",
        "    elif et == et_label[2]:\n",
        "        return 2\n",
        "    elif et == et_label[3]:\n",
        "        return 3\n",
        "    elif et == et_label[4]:\n",
        "        return 4"
      ]
    },
    {
      "cell_type": "code",
      "execution_count": null,
      "metadata": {
        "id": "pEtULogssTWg"
      },
      "outputs": [],
      "source": [
        "predict_case['employment_type'] = predict_case['employment_type'].apply(employment_type_label)"
      ]
    },
    {
      "cell_type": "code",
      "source": [
        "predict_case['employment_type'].unique()"
      ],
      "metadata": {
        "colab": {
          "base_uri": "https://localhost:8080/"
        },
        "id": "JSrf2YKis4l8",
        "outputId": "75a0dd14-5d05-4385-bb1f-e423f724783c"
      },
      "execution_count": null,
      "outputs": [
        {
          "output_type": "execute_result",
          "data": {
            "text/plain": [
              "array([0, 1, 2, 3, 4])"
            ]
          },
          "metadata": {},
          "execution_count": 832
        }
      ]
    },
    {
      "cell_type": "markdown",
      "source": [
        "## compnay_process_time"
      ],
      "metadata": {
        "id": "kkIIuLSu-N0v"
      }
    },
    {
      "cell_type": "code",
      "source": [
        "def company_process_time(cpt):\n",
        "    if cpt is not np.NaN and cpt == '1 day':\n",
        "        variabel_baru = cpt.replace(\" day\", \"\")  \n",
        "        return int(variabel_baru)\n",
        "    elif cpt is not np.NaN:\n",
        "        variabel_baru = cpt.replace(\" days\", \"\")\n",
        "        return int(variabel_baru)  "
      ],
      "metadata": {
        "id": "B9fi8gVX-Sgy"
      },
      "execution_count": null,
      "outputs": []
    },
    {
      "cell_type": "code",
      "source": [
        "predict_case['company_process_time'] = predict_case['company_process_time'].apply(company_process_time)"
      ],
      "metadata": {
        "id": "QNgyUV5D-TfI"
      },
      "execution_count": null,
      "outputs": []
    },
    {
      "cell_type": "code",
      "source": [
        "predict_case['company_process_time'].mean()"
      ],
      "metadata": {
        "colab": {
          "base_uri": "https://localhost:8080/"
        },
        "id": "dWWMGHD4-fR6",
        "outputId": "68cf3ec2-ca06-4b28-c1fa-28ec62e1b1ae"
      },
      "execution_count": null,
      "outputs": [
        {
          "output_type": "execute_result",
          "data": {
            "text/plain": [
              "21.107526881720432"
            ]
          },
          "metadata": {},
          "execution_count": 841
        }
      ]
    },
    {
      "cell_type": "code",
      "source": [
        "predict_case['company_process_time'].fillna(round(predict_case['company_process_time'].mean(), 0), inplace=True)"
      ],
      "metadata": {
        "id": "PPGakFpX-c-a"
      },
      "execution_count": null,
      "outputs": []
    },
    {
      "cell_type": "markdown",
      "source": [
        "## Predict Dataset"
      ],
      "metadata": {
        "id": "jlt3gERFs9fb"
      }
    },
    {
      "cell_type": "code",
      "source": [
        "predict_case.head()"
      ],
      "metadata": {
        "colab": {
          "base_uri": "https://localhost:8080/",
          "height": 409
        },
        "id": "fAlxVw1Ns8eZ",
        "outputId": "a64f6ab1-ab64-41fa-b0a7-f64f28cf3999"
      },
      "execution_count": null,
      "outputs": [
        {
          "output_type": "execute_result",
          "data": {
            "text/plain": [
              "      id                                          job_title  location  \\\n",
              "0  31747                                          Sous Chef        17   \n",
              "1  31748  Bancassurance Officer (Area: Bali, Sulawesi Ut...        27   \n",
              "2  31749                                    Marketing Staff        11   \n",
              "3  31750                           Section Head Commercials        11   \n",
              "4  31751                                  Social Media HEAD         0   \n",
              "\n",
              "  salary_currency  career_level  experience_level  education_level  \\\n",
              "0             IDR             2               8.0                3   \n",
              "1             IDR             2               1.0                5   \n",
              "2             IDR             2               1.0                5   \n",
              "3             IDR             0               3.0                5   \n",
              "4             IDR             1               3.0                5   \n",
              "\n",
              "   employment_type                                       job_function  \\\n",
              "0                0  Hotel/Restoran,Makanan/Minuman/Pelayanan Restoran   \n",
              "1                0    Penjualan / Pemasaran,Penjualan - Jasa Keuangan   \n",
              "2                0  Penjualan / Pemasaran,Pemasaran/Pengembangan B...   \n",
              "3                0              Penjualan / Pemasaran,Penjualan Ritel   \n",
              "4                0            Penjualan / Pemasaran,Digital Marketing   \n",
              "\n",
              "                                        job_benefits  company_process_time  \\\n",
              "0                                                NaN                   NaN   \n",
              "1  Asuransi kesehatan;Waktu regular, Senin - Juma...                  14.0   \n",
              "2                                                NaN                   NaN   \n",
              "3                                            Uniform                   NaN   \n",
              "4                                                NaN                   NaN   \n",
              "\n",
              "         company_size                     company_industry  \\\n",
              "0                 NaN  Makanan & Minuman/Katering/Restoran   \n",
              "1   201 - 500 pekerja                             Asuransi   \n",
              "2                 NaN                  Manufaktur/Produksi   \n",
              "3  501 - 1000 pekerja                   Retail/Merchandise   \n",
              "4       1- 50 pekerja  Makanan & Minuman/Katering/Restoran   \n",
              "\n",
              "                                     job_description  \n",
              "0  Candidate must posses at least bachelor degree...  \n",
              "1  Bancassurance Officer adalah Representative da...  \n",
              "2  Bertanggung jawab atas penjualan sesuai dengan...  \n",
              "3  Tanggung Jawab :Bertanggung jawab atas keselur...  \n",
              "4  # Memiliki pengalaman di atas# Harus memiliki ...  "
            ],
            "text/html": [
              "\n",
              "  <div id=\"df-8a2c5364-53d2-4790-bf7f-13be539a89e5\">\n",
              "    <div class=\"colab-df-container\">\n",
              "      <div>\n",
              "<style scoped>\n",
              "    .dataframe tbody tr th:only-of-type {\n",
              "        vertical-align: middle;\n",
              "    }\n",
              "\n",
              "    .dataframe tbody tr th {\n",
              "        vertical-align: top;\n",
              "    }\n",
              "\n",
              "    .dataframe thead th {\n",
              "        text-align: right;\n",
              "    }\n",
              "</style>\n",
              "<table border=\"1\" class=\"dataframe\">\n",
              "  <thead>\n",
              "    <tr style=\"text-align: right;\">\n",
              "      <th></th>\n",
              "      <th>id</th>\n",
              "      <th>job_title</th>\n",
              "      <th>location</th>\n",
              "      <th>salary_currency</th>\n",
              "      <th>career_level</th>\n",
              "      <th>experience_level</th>\n",
              "      <th>education_level</th>\n",
              "      <th>employment_type</th>\n",
              "      <th>job_function</th>\n",
              "      <th>job_benefits</th>\n",
              "      <th>company_process_time</th>\n",
              "      <th>company_size</th>\n",
              "      <th>company_industry</th>\n",
              "      <th>job_description</th>\n",
              "    </tr>\n",
              "  </thead>\n",
              "  <tbody>\n",
              "    <tr>\n",
              "      <th>0</th>\n",
              "      <td>31747</td>\n",
              "      <td>Sous Chef</td>\n",
              "      <td>17</td>\n",
              "      <td>IDR</td>\n",
              "      <td>2</td>\n",
              "      <td>8.0</td>\n",
              "      <td>3</td>\n",
              "      <td>0</td>\n",
              "      <td>Hotel/Restoran,Makanan/Minuman/Pelayanan Restoran</td>\n",
              "      <td>NaN</td>\n",
              "      <td>NaN</td>\n",
              "      <td>NaN</td>\n",
              "      <td>Makanan &amp; Minuman/Katering/Restoran</td>\n",
              "      <td>Candidate must posses at least bachelor degree...</td>\n",
              "    </tr>\n",
              "    <tr>\n",
              "      <th>1</th>\n",
              "      <td>31748</td>\n",
              "      <td>Bancassurance Officer (Area: Bali, Sulawesi Ut...</td>\n",
              "      <td>27</td>\n",
              "      <td>IDR</td>\n",
              "      <td>2</td>\n",
              "      <td>1.0</td>\n",
              "      <td>5</td>\n",
              "      <td>0</td>\n",
              "      <td>Penjualan / Pemasaran,Penjualan - Jasa Keuangan</td>\n",
              "      <td>Asuransi kesehatan;Waktu regular, Senin - Juma...</td>\n",
              "      <td>14.0</td>\n",
              "      <td>201 - 500 pekerja</td>\n",
              "      <td>Asuransi</td>\n",
              "      <td>Bancassurance Officer adalah Representative da...</td>\n",
              "    </tr>\n",
              "    <tr>\n",
              "      <th>2</th>\n",
              "      <td>31749</td>\n",
              "      <td>Marketing Staff</td>\n",
              "      <td>11</td>\n",
              "      <td>IDR</td>\n",
              "      <td>2</td>\n",
              "      <td>1.0</td>\n",
              "      <td>5</td>\n",
              "      <td>0</td>\n",
              "      <td>Penjualan / Pemasaran,Pemasaran/Pengembangan B...</td>\n",
              "      <td>NaN</td>\n",
              "      <td>NaN</td>\n",
              "      <td>NaN</td>\n",
              "      <td>Manufaktur/Produksi</td>\n",
              "      <td>Bertanggung jawab atas penjualan sesuai dengan...</td>\n",
              "    </tr>\n",
              "    <tr>\n",
              "      <th>3</th>\n",
              "      <td>31750</td>\n",
              "      <td>Section Head Commercials</td>\n",
              "      <td>11</td>\n",
              "      <td>IDR</td>\n",
              "      <td>0</td>\n",
              "      <td>3.0</td>\n",
              "      <td>5</td>\n",
              "      <td>0</td>\n",
              "      <td>Penjualan / Pemasaran,Penjualan Ritel</td>\n",
              "      <td>Uniform</td>\n",
              "      <td>NaN</td>\n",
              "      <td>501 - 1000 pekerja</td>\n",
              "      <td>Retail/Merchandise</td>\n",
              "      <td>Tanggung Jawab :Bertanggung jawab atas keselur...</td>\n",
              "    </tr>\n",
              "    <tr>\n",
              "      <th>4</th>\n",
              "      <td>31751</td>\n",
              "      <td>Social Media HEAD</td>\n",
              "      <td>0</td>\n",
              "      <td>IDR</td>\n",
              "      <td>1</td>\n",
              "      <td>3.0</td>\n",
              "      <td>5</td>\n",
              "      <td>0</td>\n",
              "      <td>Penjualan / Pemasaran,Digital Marketing</td>\n",
              "      <td>NaN</td>\n",
              "      <td>NaN</td>\n",
              "      <td>1- 50 pekerja</td>\n",
              "      <td>Makanan &amp; Minuman/Katering/Restoran</td>\n",
              "      <td># Memiliki pengalaman di atas# Harus memiliki ...</td>\n",
              "    </tr>\n",
              "  </tbody>\n",
              "</table>\n",
              "</div>\n",
              "      <button class=\"colab-df-convert\" onclick=\"convertToInteractive('df-8a2c5364-53d2-4790-bf7f-13be539a89e5')\"\n",
              "              title=\"Convert this dataframe to an interactive table.\"\n",
              "              style=\"display:none;\">\n",
              "        \n",
              "  <svg xmlns=\"http://www.w3.org/2000/svg\" height=\"24px\"viewBox=\"0 0 24 24\"\n",
              "       width=\"24px\">\n",
              "    <path d=\"M0 0h24v24H0V0z\" fill=\"none\"/>\n",
              "    <path d=\"M18.56 5.44l.94 2.06.94-2.06 2.06-.94-2.06-.94-.94-2.06-.94 2.06-2.06.94zm-11 1L8.5 8.5l.94-2.06 2.06-.94-2.06-.94L8.5 2.5l-.94 2.06-2.06.94zm10 10l.94 2.06.94-2.06 2.06-.94-2.06-.94-.94-2.06-.94 2.06-2.06.94z\"/><path d=\"M17.41 7.96l-1.37-1.37c-.4-.4-.92-.59-1.43-.59-.52 0-1.04.2-1.43.59L10.3 9.45l-7.72 7.72c-.78.78-.78 2.05 0 2.83L4 21.41c.39.39.9.59 1.41.59.51 0 1.02-.2 1.41-.59l7.78-7.78 2.81-2.81c.8-.78.8-2.07 0-2.86zM5.41 20L4 18.59l7.72-7.72 1.47 1.35L5.41 20z\"/>\n",
              "  </svg>\n",
              "      </button>\n",
              "      \n",
              "  <style>\n",
              "    .colab-df-container {\n",
              "      display:flex;\n",
              "      flex-wrap:wrap;\n",
              "      gap: 12px;\n",
              "    }\n",
              "\n",
              "    .colab-df-convert {\n",
              "      background-color: #E8F0FE;\n",
              "      border: none;\n",
              "      border-radius: 50%;\n",
              "      cursor: pointer;\n",
              "      display: none;\n",
              "      fill: #1967D2;\n",
              "      height: 32px;\n",
              "      padding: 0 0 0 0;\n",
              "      width: 32px;\n",
              "    }\n",
              "\n",
              "    .colab-df-convert:hover {\n",
              "      background-color: #E2EBFA;\n",
              "      box-shadow: 0px 1px 2px rgba(60, 64, 67, 0.3), 0px 1px 3px 1px rgba(60, 64, 67, 0.15);\n",
              "      fill: #174EA6;\n",
              "    }\n",
              "\n",
              "    [theme=dark] .colab-df-convert {\n",
              "      background-color: #3B4455;\n",
              "      fill: #D2E3FC;\n",
              "    }\n",
              "\n",
              "    [theme=dark] .colab-df-convert:hover {\n",
              "      background-color: #434B5C;\n",
              "      box-shadow: 0px 1px 3px 1px rgba(0, 0, 0, 0.15);\n",
              "      filter: drop-shadow(0px 1px 2px rgba(0, 0, 0, 0.3));\n",
              "      fill: #FFFFFF;\n",
              "    }\n",
              "  </style>\n",
              "\n",
              "      <script>\n",
              "        const buttonEl =\n",
              "          document.querySelector('#df-8a2c5364-53d2-4790-bf7f-13be539a89e5 button.colab-df-convert');\n",
              "        buttonEl.style.display =\n",
              "          google.colab.kernel.accessAllowed ? 'block' : 'none';\n",
              "\n",
              "        async function convertToInteractive(key) {\n",
              "          const element = document.querySelector('#df-8a2c5364-53d2-4790-bf7f-13be539a89e5');\n",
              "          const dataTable =\n",
              "            await google.colab.kernel.invokeFunction('convertToInteractive',\n",
              "                                                     [key], {});\n",
              "          if (!dataTable) return;\n",
              "\n",
              "          const docLinkHtml = 'Like what you see? Visit the ' +\n",
              "            '<a target=\"_blank\" href=https://colab.research.google.com/notebooks/data_table.ipynb>data table notebook</a>'\n",
              "            + ' to learn more about interactive tables.';\n",
              "          element.innerHTML = '';\n",
              "          dataTable['output_type'] = 'display_data';\n",
              "          await google.colab.output.renderOutput(dataTable, element);\n",
              "          const docLink = document.createElement('div');\n",
              "          docLink.innerHTML = docLinkHtml;\n",
              "          element.appendChild(docLink);\n",
              "        }\n",
              "      </script>\n",
              "    </div>\n",
              "  </div>\n",
              "  "
            ]
          },
          "metadata": {},
          "execution_count": 837
        }
      ]
    },
    {
      "cell_type": "code",
      "source": [
        "predict_case.isna().sum()"
      ],
      "metadata": {
        "colab": {
          "base_uri": "https://localhost:8080/"
        },
        "id": "dw8Ot90O_NPY",
        "outputId": "c0603f65-b570-45ec-ca23-b7de550b1553"
      },
      "execution_count": null,
      "outputs": [
        {
          "output_type": "execute_result",
          "data": {
            "text/plain": [
              "id                         0\n",
              "job_title                  0\n",
              "location                   0\n",
              "salary_currency            0\n",
              "career_level               0\n",
              "experience_level           0\n",
              "education_level            0\n",
              "employment_type            0\n",
              "job_function               0\n",
              "job_benefits             749\n",
              "company_process_time    1047\n",
              "company_size             480\n",
              "company_industry         100\n",
              "job_description            0\n",
              "dtype: int64"
            ]
          },
          "metadata": {},
          "execution_count": 840
        }
      ]
    },
    {
      "cell_type": "markdown",
      "source": [
        "'career_level', \n",
        "               'experience_level',\n",
        "               'location', \n",
        "               'education_level', \n",
        "               'employment_type',\n",
        "               'company_process_time'"
      ],
      "metadata": {
        "id": "WYmHtQwNA9tD"
      }
    },
    {
      "cell_type": "code",
      "source": [
        "X_predict_case = predict_case[[\n",
        "                               'career_level',\n",
        "                               'experience_level',\n",
        "                               'location',\n",
        "                               'education_level',\n",
        "                               'employment_type',\n",
        "                               'company_process_time'\n",
        "                               ]]\n",
        "\n",
        "y_predict_case = RF_model.predict(X_predict_case)"
      ],
      "metadata": {
        "id": "OARqSyrUtEyi"
      },
      "execution_count": null,
      "outputs": []
    },
    {
      "cell_type": "code",
      "source": [
        "y_predict_case"
      ],
      "metadata": {
        "colab": {
          "base_uri": "https://localhost:8080/"
        },
        "id": "VRpvyaZvvnlm",
        "outputId": "bae434ba-d72f-4986-bd4b-4c86b5047e6c"
      },
      "execution_count": null,
      "outputs": [
        {
          "output_type": "execute_result",
          "data": {
            "text/plain": [
              "array([16375500.        ,  8560016.66666667,  5816318.3283397 , ...,\n",
              "        8875950.        ,  3406625.        ,  7347094.21340489])"
            ]
          },
          "metadata": {},
          "execution_count": 862
        }
      ]
    },
    {
      "cell_type": "code",
      "source": [
        "data_predict_final = pd.DataFrame(predict_case['id'], columns=['id'])"
      ],
      "metadata": {
        "id": "weXiibGDvrMf"
      },
      "execution_count": null,
      "outputs": []
    },
    {
      "cell_type": "code",
      "source": [
        "data_predict_final['salary'] = y_predict_case"
      ],
      "metadata": {
        "id": "kjBxNLIsvvT1"
      },
      "execution_count": null,
      "outputs": []
    },
    {
      "cell_type": "code",
      "source": [
        "data_predict_final.head(10)"
      ],
      "metadata": {
        "colab": {
          "base_uri": "https://localhost:8080/",
          "height": 363
        },
        "id": "1i9jsC-vvx_d",
        "outputId": "8361b489-a2f7-4010-e219-14aa98f1c85d"
      },
      "execution_count": null,
      "outputs": [
        {
          "output_type": "execute_result",
          "data": {
            "text/plain": [
              "      id        salary\n",
              "0  31747  1.637550e+07\n",
              "1  31748  8.560017e+06\n",
              "2  31749  5.816318e+06\n",
              "3  31750  9.003500e+06\n",
              "4  31751  6.260000e+06\n",
              "5  31752  1.019853e+07\n",
              "6  31753  9.367917e+06\n",
              "7  31754  2.228000e+07\n",
              "8  31755  4.101205e+06\n",
              "9  31756  8.214500e+06"
            ],
            "text/html": [
              "\n",
              "  <div id=\"df-0087ae26-d153-43bc-ae68-7010424fec77\">\n",
              "    <div class=\"colab-df-container\">\n",
              "      <div>\n",
              "<style scoped>\n",
              "    .dataframe tbody tr th:only-of-type {\n",
              "        vertical-align: middle;\n",
              "    }\n",
              "\n",
              "    .dataframe tbody tr th {\n",
              "        vertical-align: top;\n",
              "    }\n",
              "\n",
              "    .dataframe thead th {\n",
              "        text-align: right;\n",
              "    }\n",
              "</style>\n",
              "<table border=\"1\" class=\"dataframe\">\n",
              "  <thead>\n",
              "    <tr style=\"text-align: right;\">\n",
              "      <th></th>\n",
              "      <th>id</th>\n",
              "      <th>salary</th>\n",
              "    </tr>\n",
              "  </thead>\n",
              "  <tbody>\n",
              "    <tr>\n",
              "      <th>0</th>\n",
              "      <td>31747</td>\n",
              "      <td>1.637550e+07</td>\n",
              "    </tr>\n",
              "    <tr>\n",
              "      <th>1</th>\n",
              "      <td>31748</td>\n",
              "      <td>8.560017e+06</td>\n",
              "    </tr>\n",
              "    <tr>\n",
              "      <th>2</th>\n",
              "      <td>31749</td>\n",
              "      <td>5.816318e+06</td>\n",
              "    </tr>\n",
              "    <tr>\n",
              "      <th>3</th>\n",
              "      <td>31750</td>\n",
              "      <td>9.003500e+06</td>\n",
              "    </tr>\n",
              "    <tr>\n",
              "      <th>4</th>\n",
              "      <td>31751</td>\n",
              "      <td>6.260000e+06</td>\n",
              "    </tr>\n",
              "    <tr>\n",
              "      <th>5</th>\n",
              "      <td>31752</td>\n",
              "      <td>1.019853e+07</td>\n",
              "    </tr>\n",
              "    <tr>\n",
              "      <th>6</th>\n",
              "      <td>31753</td>\n",
              "      <td>9.367917e+06</td>\n",
              "    </tr>\n",
              "    <tr>\n",
              "      <th>7</th>\n",
              "      <td>31754</td>\n",
              "      <td>2.228000e+07</td>\n",
              "    </tr>\n",
              "    <tr>\n",
              "      <th>8</th>\n",
              "      <td>31755</td>\n",
              "      <td>4.101205e+06</td>\n",
              "    </tr>\n",
              "    <tr>\n",
              "      <th>9</th>\n",
              "      <td>31756</td>\n",
              "      <td>8.214500e+06</td>\n",
              "    </tr>\n",
              "  </tbody>\n",
              "</table>\n",
              "</div>\n",
              "      <button class=\"colab-df-convert\" onclick=\"convertToInteractive('df-0087ae26-d153-43bc-ae68-7010424fec77')\"\n",
              "              title=\"Convert this dataframe to an interactive table.\"\n",
              "              style=\"display:none;\">\n",
              "        \n",
              "  <svg xmlns=\"http://www.w3.org/2000/svg\" height=\"24px\"viewBox=\"0 0 24 24\"\n",
              "       width=\"24px\">\n",
              "    <path d=\"M0 0h24v24H0V0z\" fill=\"none\"/>\n",
              "    <path d=\"M18.56 5.44l.94 2.06.94-2.06 2.06-.94-2.06-.94-.94-2.06-.94 2.06-2.06.94zm-11 1L8.5 8.5l.94-2.06 2.06-.94-2.06-.94L8.5 2.5l-.94 2.06-2.06.94zm10 10l.94 2.06.94-2.06 2.06-.94-2.06-.94-.94-2.06-.94 2.06-2.06.94z\"/><path d=\"M17.41 7.96l-1.37-1.37c-.4-.4-.92-.59-1.43-.59-.52 0-1.04.2-1.43.59L10.3 9.45l-7.72 7.72c-.78.78-.78 2.05 0 2.83L4 21.41c.39.39.9.59 1.41.59.51 0 1.02-.2 1.41-.59l7.78-7.78 2.81-2.81c.8-.78.8-2.07 0-2.86zM5.41 20L4 18.59l7.72-7.72 1.47 1.35L5.41 20z\"/>\n",
              "  </svg>\n",
              "      </button>\n",
              "      \n",
              "  <style>\n",
              "    .colab-df-container {\n",
              "      display:flex;\n",
              "      flex-wrap:wrap;\n",
              "      gap: 12px;\n",
              "    }\n",
              "\n",
              "    .colab-df-convert {\n",
              "      background-color: #E8F0FE;\n",
              "      border: none;\n",
              "      border-radius: 50%;\n",
              "      cursor: pointer;\n",
              "      display: none;\n",
              "      fill: #1967D2;\n",
              "      height: 32px;\n",
              "      padding: 0 0 0 0;\n",
              "      width: 32px;\n",
              "    }\n",
              "\n",
              "    .colab-df-convert:hover {\n",
              "      background-color: #E2EBFA;\n",
              "      box-shadow: 0px 1px 2px rgba(60, 64, 67, 0.3), 0px 1px 3px 1px rgba(60, 64, 67, 0.15);\n",
              "      fill: #174EA6;\n",
              "    }\n",
              "\n",
              "    [theme=dark] .colab-df-convert {\n",
              "      background-color: #3B4455;\n",
              "      fill: #D2E3FC;\n",
              "    }\n",
              "\n",
              "    [theme=dark] .colab-df-convert:hover {\n",
              "      background-color: #434B5C;\n",
              "      box-shadow: 0px 1px 3px 1px rgba(0, 0, 0, 0.15);\n",
              "      filter: drop-shadow(0px 1px 2px rgba(0, 0, 0, 0.3));\n",
              "      fill: #FFFFFF;\n",
              "    }\n",
              "  </style>\n",
              "\n",
              "      <script>\n",
              "        const buttonEl =\n",
              "          document.querySelector('#df-0087ae26-d153-43bc-ae68-7010424fec77 button.colab-df-convert');\n",
              "        buttonEl.style.display =\n",
              "          google.colab.kernel.accessAllowed ? 'block' : 'none';\n",
              "\n",
              "        async function convertToInteractive(key) {\n",
              "          const element = document.querySelector('#df-0087ae26-d153-43bc-ae68-7010424fec77');\n",
              "          const dataTable =\n",
              "            await google.colab.kernel.invokeFunction('convertToInteractive',\n",
              "                                                     [key], {});\n",
              "          if (!dataTable) return;\n",
              "\n",
              "          const docLinkHtml = 'Like what you see? Visit the ' +\n",
              "            '<a target=\"_blank\" href=https://colab.research.google.com/notebooks/data_table.ipynb>data table notebook</a>'\n",
              "            + ' to learn more about interactive tables.';\n",
              "          element.innerHTML = '';\n",
              "          dataTable['output_type'] = 'display_data';\n",
              "          await google.colab.output.renderOutput(dataTable, element);\n",
              "          const docLink = document.createElement('div');\n",
              "          docLink.innerHTML = docLinkHtml;\n",
              "          element.appendChild(docLink);\n",
              "        }\n",
              "      </script>\n",
              "    </div>\n",
              "  </div>\n",
              "  "
            ]
          },
          "metadata": {},
          "execution_count": 865
        }
      ]
    },
    {
      "cell_type": "code",
      "source": [
        "data_predict_final.salary.unique()"
      ],
      "metadata": {
        "colab": {
          "base_uri": "https://localhost:8080/"
        },
        "id": "iJ1-Bo3x_rum",
        "outputId": "fb99e991-d03c-4336-ea10-55b5687bb51d"
      },
      "execution_count": null,
      "outputs": [
        {
          "output_type": "execute_result",
          "data": {
            "text/plain": [
              "array([16375500.        ,  8560016.66666667,  5816318.3283397 , ...,\n",
              "        6659943.3551824 ,  7184229.16666667,  7347094.21340489])"
            ]
          },
          "metadata": {},
          "execution_count": 866
        }
      ]
    },
    {
      "cell_type": "code",
      "source": [
        "data_predict_final['salary'] = data_predict_final['salary'].apply(lambda data: round(data))"
      ],
      "metadata": {
        "id": "KEeSbnXxv3xV"
      },
      "execution_count": null,
      "outputs": []
    },
    {
      "cell_type": "code",
      "source": [
        "data_predict_final.head(3)"
      ],
      "metadata": {
        "colab": {
          "base_uri": "https://localhost:8080/",
          "height": 143
        },
        "id": "M87jJdBev8yq",
        "outputId": "c26d5d02-f791-4ce6-941e-31196f026a2b"
      },
      "execution_count": null,
      "outputs": [
        {
          "output_type": "execute_result",
          "data": {
            "text/plain": [
              "      id    salary\n",
              "0  31747  16375500\n",
              "1  31748   8560017\n",
              "2  31749   5816318"
            ],
            "text/html": [
              "\n",
              "  <div id=\"df-2a55132a-5a3d-4ac8-8fa0-9c1ea101d988\">\n",
              "    <div class=\"colab-df-container\">\n",
              "      <div>\n",
              "<style scoped>\n",
              "    .dataframe tbody tr th:only-of-type {\n",
              "        vertical-align: middle;\n",
              "    }\n",
              "\n",
              "    .dataframe tbody tr th {\n",
              "        vertical-align: top;\n",
              "    }\n",
              "\n",
              "    .dataframe thead th {\n",
              "        text-align: right;\n",
              "    }\n",
              "</style>\n",
              "<table border=\"1\" class=\"dataframe\">\n",
              "  <thead>\n",
              "    <tr style=\"text-align: right;\">\n",
              "      <th></th>\n",
              "      <th>id</th>\n",
              "      <th>salary</th>\n",
              "    </tr>\n",
              "  </thead>\n",
              "  <tbody>\n",
              "    <tr>\n",
              "      <th>0</th>\n",
              "      <td>31747</td>\n",
              "      <td>16375500</td>\n",
              "    </tr>\n",
              "    <tr>\n",
              "      <th>1</th>\n",
              "      <td>31748</td>\n",
              "      <td>8560017</td>\n",
              "    </tr>\n",
              "    <tr>\n",
              "      <th>2</th>\n",
              "      <td>31749</td>\n",
              "      <td>5816318</td>\n",
              "    </tr>\n",
              "  </tbody>\n",
              "</table>\n",
              "</div>\n",
              "      <button class=\"colab-df-convert\" onclick=\"convertToInteractive('df-2a55132a-5a3d-4ac8-8fa0-9c1ea101d988')\"\n",
              "              title=\"Convert this dataframe to an interactive table.\"\n",
              "              style=\"display:none;\">\n",
              "        \n",
              "  <svg xmlns=\"http://www.w3.org/2000/svg\" height=\"24px\"viewBox=\"0 0 24 24\"\n",
              "       width=\"24px\">\n",
              "    <path d=\"M0 0h24v24H0V0z\" fill=\"none\"/>\n",
              "    <path d=\"M18.56 5.44l.94 2.06.94-2.06 2.06-.94-2.06-.94-.94-2.06-.94 2.06-2.06.94zm-11 1L8.5 8.5l.94-2.06 2.06-.94-2.06-.94L8.5 2.5l-.94 2.06-2.06.94zm10 10l.94 2.06.94-2.06 2.06-.94-2.06-.94-.94-2.06-.94 2.06-2.06.94z\"/><path d=\"M17.41 7.96l-1.37-1.37c-.4-.4-.92-.59-1.43-.59-.52 0-1.04.2-1.43.59L10.3 9.45l-7.72 7.72c-.78.78-.78 2.05 0 2.83L4 21.41c.39.39.9.59 1.41.59.51 0 1.02-.2 1.41-.59l7.78-7.78 2.81-2.81c.8-.78.8-2.07 0-2.86zM5.41 20L4 18.59l7.72-7.72 1.47 1.35L5.41 20z\"/>\n",
              "  </svg>\n",
              "      </button>\n",
              "      \n",
              "  <style>\n",
              "    .colab-df-container {\n",
              "      display:flex;\n",
              "      flex-wrap:wrap;\n",
              "      gap: 12px;\n",
              "    }\n",
              "\n",
              "    .colab-df-convert {\n",
              "      background-color: #E8F0FE;\n",
              "      border: none;\n",
              "      border-radius: 50%;\n",
              "      cursor: pointer;\n",
              "      display: none;\n",
              "      fill: #1967D2;\n",
              "      height: 32px;\n",
              "      padding: 0 0 0 0;\n",
              "      width: 32px;\n",
              "    }\n",
              "\n",
              "    .colab-df-convert:hover {\n",
              "      background-color: #E2EBFA;\n",
              "      box-shadow: 0px 1px 2px rgba(60, 64, 67, 0.3), 0px 1px 3px 1px rgba(60, 64, 67, 0.15);\n",
              "      fill: #174EA6;\n",
              "    }\n",
              "\n",
              "    [theme=dark] .colab-df-convert {\n",
              "      background-color: #3B4455;\n",
              "      fill: #D2E3FC;\n",
              "    }\n",
              "\n",
              "    [theme=dark] .colab-df-convert:hover {\n",
              "      background-color: #434B5C;\n",
              "      box-shadow: 0px 1px 3px 1px rgba(0, 0, 0, 0.15);\n",
              "      filter: drop-shadow(0px 1px 2px rgba(0, 0, 0, 0.3));\n",
              "      fill: #FFFFFF;\n",
              "    }\n",
              "  </style>\n",
              "\n",
              "      <script>\n",
              "        const buttonEl =\n",
              "          document.querySelector('#df-2a55132a-5a3d-4ac8-8fa0-9c1ea101d988 button.colab-df-convert');\n",
              "        buttonEl.style.display =\n",
              "          google.colab.kernel.accessAllowed ? 'block' : 'none';\n",
              "\n",
              "        async function convertToInteractive(key) {\n",
              "          const element = document.querySelector('#df-2a55132a-5a3d-4ac8-8fa0-9c1ea101d988');\n",
              "          const dataTable =\n",
              "            await google.colab.kernel.invokeFunction('convertToInteractive',\n",
              "                                                     [key], {});\n",
              "          if (!dataTable) return;\n",
              "\n",
              "          const docLinkHtml = 'Like what you see? Visit the ' +\n",
              "            '<a target=\"_blank\" href=https://colab.research.google.com/notebooks/data_table.ipynb>data table notebook</a>'\n",
              "            + ' to learn more about interactive tables.';\n",
              "          element.innerHTML = '';\n",
              "          dataTable['output_type'] = 'display_data';\n",
              "          await google.colab.output.renderOutput(dataTable, element);\n",
              "          const docLink = document.createElement('div');\n",
              "          docLink.innerHTML = docLinkHtml;\n",
              "          element.appendChild(docLink);\n",
              "        }\n",
              "      </script>\n",
              "    </div>\n",
              "  </div>\n",
              "  "
            ]
          },
          "metadata": {},
          "execution_count": 868
        }
      ]
    },
    {
      "cell_type": "code",
      "source": [
        "data_predict_final.shape"
      ],
      "metadata": {
        "colab": {
          "base_uri": "https://localhost:8080/"
        },
        "id": "WTq-9FzpwFZD",
        "outputId": "e3e8e70a-c2f1-4350-fd4e-f21f2ce2883f"
      },
      "execution_count": null,
      "outputs": [
        {
          "output_type": "execute_result",
          "data": {
            "text/plain": [
              "(3000, 2)"
            ]
          },
          "metadata": {},
          "execution_count": 869
        }
      ]
    },
    {
      "cell_type": "code",
      "source": [
        "data_predict_final.to_csv('submission.csv', index=False)"
      ],
      "metadata": {
        "id": "dI9NFHDKwKZA"
      },
      "execution_count": null,
      "outputs": []
    },
    {
      "cell_type": "markdown",
      "metadata": {
        "id": "eDIKmT2JAZeF"
      },
      "source": [
        "# coba_coba"
      ]
    },
    {
      "cell_type": "markdown",
      "source": [
        "X_predict_case = predict_case[[\n",
        "                               'career_level',\n",
        "                               'experience_level',\n",
        "                               'location',\n",
        "                               'education_level',\n",
        "                               'employment_type',\n",
        "                               'company_process_time'\n",
        "                               ]]"
      ],
      "metadata": {
        "id": "WtvbGe51ANZ3"
      }
    },
    {
      "cell_type": "code",
      "source": [
        "RF_model.predict([[2, 1.0, 27, 5, 0, 14.0]])[0]"
      ],
      "metadata": {
        "colab": {
          "base_uri": "https://localhost:8080/"
        },
        "id": "RtmGGdtlAEv2",
        "outputId": "3b60401c-3ebb-4f1b-81e3-b7401b11273b"
      },
      "execution_count": null,
      "outputs": [
        {
          "output_type": "stream",
          "name": "stderr",
          "text": [
            "/usr/local/lib/python3.7/dist-packages/sklearn/base.py:451: UserWarning: X does not have valid feature names, but RandomForestRegressor was fitted with feature names\n",
            "  \"X does not have valid feature names, but\"\n"
          ]
        },
        {
          "output_type": "execute_result",
          "data": {
            "text/plain": [
              "8560016.666666666"
            ]
          },
          "metadata": {},
          "execution_count": 860
        }
      ]
    },
    {
      "cell_type": "code",
      "source": [
        "predict_case.head()"
      ],
      "metadata": {
        "colab": {
          "base_uri": "https://localhost:8080/",
          "height": 409
        },
        "id": "LG-wmIz3_-HX",
        "outputId": "f5d4151c-501c-4976-9bec-004176ddd547"
      },
      "execution_count": null,
      "outputs": [
        {
          "output_type": "execute_result",
          "data": {
            "text/plain": [
              "      id                                          job_title  location  \\\n",
              "0  31747                                          Sous Chef        17   \n",
              "1  31748  Bancassurance Officer (Area: Bali, Sulawesi Ut...        27   \n",
              "2  31749                                    Marketing Staff        11   \n",
              "3  31750                           Section Head Commercials        11   \n",
              "4  31751                                  Social Media HEAD         0   \n",
              "\n",
              "  salary_currency  career_level  experience_level  education_level  \\\n",
              "0             IDR             2               8.0                3   \n",
              "1             IDR             2               1.0                5   \n",
              "2             IDR             2               1.0                5   \n",
              "3             IDR             0               3.0                5   \n",
              "4             IDR             1               3.0                5   \n",
              "\n",
              "   employment_type                                       job_function  \\\n",
              "0                0  Hotel/Restoran,Makanan/Minuman/Pelayanan Restoran   \n",
              "1                0    Penjualan / Pemasaran,Penjualan - Jasa Keuangan   \n",
              "2                0  Penjualan / Pemasaran,Pemasaran/Pengembangan B...   \n",
              "3                0              Penjualan / Pemasaran,Penjualan Ritel   \n",
              "4                0            Penjualan / Pemasaran,Digital Marketing   \n",
              "\n",
              "                                        job_benefits  company_process_time  \\\n",
              "0                                                NaN                  21.0   \n",
              "1  Asuransi kesehatan;Waktu regular, Senin - Juma...                  14.0   \n",
              "2                                                NaN                  21.0   \n",
              "3                                            Uniform                  21.0   \n",
              "4                                                NaN                  21.0   \n",
              "\n",
              "         company_size                     company_industry  \\\n",
              "0                 NaN  Makanan & Minuman/Katering/Restoran   \n",
              "1   201 - 500 pekerja                             Asuransi   \n",
              "2                 NaN                  Manufaktur/Produksi   \n",
              "3  501 - 1000 pekerja                   Retail/Merchandise   \n",
              "4       1- 50 pekerja  Makanan & Minuman/Katering/Restoran   \n",
              "\n",
              "                                     job_description  \n",
              "0  Candidate must posses at least bachelor degree...  \n",
              "1  Bancassurance Officer adalah Representative da...  \n",
              "2  Bertanggung jawab atas penjualan sesuai dengan...  \n",
              "3  Tanggung Jawab :Bertanggung jawab atas keselur...  \n",
              "4  # Memiliki pengalaman di atas# Harus memiliki ...  "
            ],
            "text/html": [
              "\n",
              "  <div id=\"df-f0faaca0-8412-4b1e-bef7-e4310ae8c1b6\">\n",
              "    <div class=\"colab-df-container\">\n",
              "      <div>\n",
              "<style scoped>\n",
              "    .dataframe tbody tr th:only-of-type {\n",
              "        vertical-align: middle;\n",
              "    }\n",
              "\n",
              "    .dataframe tbody tr th {\n",
              "        vertical-align: top;\n",
              "    }\n",
              "\n",
              "    .dataframe thead th {\n",
              "        text-align: right;\n",
              "    }\n",
              "</style>\n",
              "<table border=\"1\" class=\"dataframe\">\n",
              "  <thead>\n",
              "    <tr style=\"text-align: right;\">\n",
              "      <th></th>\n",
              "      <th>id</th>\n",
              "      <th>job_title</th>\n",
              "      <th>location</th>\n",
              "      <th>salary_currency</th>\n",
              "      <th>career_level</th>\n",
              "      <th>experience_level</th>\n",
              "      <th>education_level</th>\n",
              "      <th>employment_type</th>\n",
              "      <th>job_function</th>\n",
              "      <th>job_benefits</th>\n",
              "      <th>company_process_time</th>\n",
              "      <th>company_size</th>\n",
              "      <th>company_industry</th>\n",
              "      <th>job_description</th>\n",
              "    </tr>\n",
              "  </thead>\n",
              "  <tbody>\n",
              "    <tr>\n",
              "      <th>0</th>\n",
              "      <td>31747</td>\n",
              "      <td>Sous Chef</td>\n",
              "      <td>17</td>\n",
              "      <td>IDR</td>\n",
              "      <td>2</td>\n",
              "      <td>8.0</td>\n",
              "      <td>3</td>\n",
              "      <td>0</td>\n",
              "      <td>Hotel/Restoran,Makanan/Minuman/Pelayanan Restoran</td>\n",
              "      <td>NaN</td>\n",
              "      <td>21.0</td>\n",
              "      <td>NaN</td>\n",
              "      <td>Makanan &amp; Minuman/Katering/Restoran</td>\n",
              "      <td>Candidate must posses at least bachelor degree...</td>\n",
              "    </tr>\n",
              "    <tr>\n",
              "      <th>1</th>\n",
              "      <td>31748</td>\n",
              "      <td>Bancassurance Officer (Area: Bali, Sulawesi Ut...</td>\n",
              "      <td>27</td>\n",
              "      <td>IDR</td>\n",
              "      <td>2</td>\n",
              "      <td>1.0</td>\n",
              "      <td>5</td>\n",
              "      <td>0</td>\n",
              "      <td>Penjualan / Pemasaran,Penjualan - Jasa Keuangan</td>\n",
              "      <td>Asuransi kesehatan;Waktu regular, Senin - Juma...</td>\n",
              "      <td>14.0</td>\n",
              "      <td>201 - 500 pekerja</td>\n",
              "      <td>Asuransi</td>\n",
              "      <td>Bancassurance Officer adalah Representative da...</td>\n",
              "    </tr>\n",
              "    <tr>\n",
              "      <th>2</th>\n",
              "      <td>31749</td>\n",
              "      <td>Marketing Staff</td>\n",
              "      <td>11</td>\n",
              "      <td>IDR</td>\n",
              "      <td>2</td>\n",
              "      <td>1.0</td>\n",
              "      <td>5</td>\n",
              "      <td>0</td>\n",
              "      <td>Penjualan / Pemasaran,Pemasaran/Pengembangan B...</td>\n",
              "      <td>NaN</td>\n",
              "      <td>21.0</td>\n",
              "      <td>NaN</td>\n",
              "      <td>Manufaktur/Produksi</td>\n",
              "      <td>Bertanggung jawab atas penjualan sesuai dengan...</td>\n",
              "    </tr>\n",
              "    <tr>\n",
              "      <th>3</th>\n",
              "      <td>31750</td>\n",
              "      <td>Section Head Commercials</td>\n",
              "      <td>11</td>\n",
              "      <td>IDR</td>\n",
              "      <td>0</td>\n",
              "      <td>3.0</td>\n",
              "      <td>5</td>\n",
              "      <td>0</td>\n",
              "      <td>Penjualan / Pemasaran,Penjualan Ritel</td>\n",
              "      <td>Uniform</td>\n",
              "      <td>21.0</td>\n",
              "      <td>501 - 1000 pekerja</td>\n",
              "      <td>Retail/Merchandise</td>\n",
              "      <td>Tanggung Jawab :Bertanggung jawab atas keselur...</td>\n",
              "    </tr>\n",
              "    <tr>\n",
              "      <th>4</th>\n",
              "      <td>31751</td>\n",
              "      <td>Social Media HEAD</td>\n",
              "      <td>0</td>\n",
              "      <td>IDR</td>\n",
              "      <td>1</td>\n",
              "      <td>3.0</td>\n",
              "      <td>5</td>\n",
              "      <td>0</td>\n",
              "      <td>Penjualan / Pemasaran,Digital Marketing</td>\n",
              "      <td>NaN</td>\n",
              "      <td>21.0</td>\n",
              "      <td>1- 50 pekerja</td>\n",
              "      <td>Makanan &amp; Minuman/Katering/Restoran</td>\n",
              "      <td># Memiliki pengalaman di atas# Harus memiliki ...</td>\n",
              "    </tr>\n",
              "  </tbody>\n",
              "</table>\n",
              "</div>\n",
              "      <button class=\"colab-df-convert\" onclick=\"convertToInteractive('df-f0faaca0-8412-4b1e-bef7-e4310ae8c1b6')\"\n",
              "              title=\"Convert this dataframe to an interactive table.\"\n",
              "              style=\"display:none;\">\n",
              "        \n",
              "  <svg xmlns=\"http://www.w3.org/2000/svg\" height=\"24px\"viewBox=\"0 0 24 24\"\n",
              "       width=\"24px\">\n",
              "    <path d=\"M0 0h24v24H0V0z\" fill=\"none\"/>\n",
              "    <path d=\"M18.56 5.44l.94 2.06.94-2.06 2.06-.94-2.06-.94-.94-2.06-.94 2.06-2.06.94zm-11 1L8.5 8.5l.94-2.06 2.06-.94-2.06-.94L8.5 2.5l-.94 2.06-2.06.94zm10 10l.94 2.06.94-2.06 2.06-.94-2.06-.94-.94-2.06-.94 2.06-2.06.94z\"/><path d=\"M17.41 7.96l-1.37-1.37c-.4-.4-.92-.59-1.43-.59-.52 0-1.04.2-1.43.59L10.3 9.45l-7.72 7.72c-.78.78-.78 2.05 0 2.83L4 21.41c.39.39.9.59 1.41.59.51 0 1.02-.2 1.41-.59l7.78-7.78 2.81-2.81c.8-.78.8-2.07 0-2.86zM5.41 20L4 18.59l7.72-7.72 1.47 1.35L5.41 20z\"/>\n",
              "  </svg>\n",
              "      </button>\n",
              "      \n",
              "  <style>\n",
              "    .colab-df-container {\n",
              "      display:flex;\n",
              "      flex-wrap:wrap;\n",
              "      gap: 12px;\n",
              "    }\n",
              "\n",
              "    .colab-df-convert {\n",
              "      background-color: #E8F0FE;\n",
              "      border: none;\n",
              "      border-radius: 50%;\n",
              "      cursor: pointer;\n",
              "      display: none;\n",
              "      fill: #1967D2;\n",
              "      height: 32px;\n",
              "      padding: 0 0 0 0;\n",
              "      width: 32px;\n",
              "    }\n",
              "\n",
              "    .colab-df-convert:hover {\n",
              "      background-color: #E2EBFA;\n",
              "      box-shadow: 0px 1px 2px rgba(60, 64, 67, 0.3), 0px 1px 3px 1px rgba(60, 64, 67, 0.15);\n",
              "      fill: #174EA6;\n",
              "    }\n",
              "\n",
              "    [theme=dark] .colab-df-convert {\n",
              "      background-color: #3B4455;\n",
              "      fill: #D2E3FC;\n",
              "    }\n",
              "\n",
              "    [theme=dark] .colab-df-convert:hover {\n",
              "      background-color: #434B5C;\n",
              "      box-shadow: 0px 1px 3px 1px rgba(0, 0, 0, 0.15);\n",
              "      filter: drop-shadow(0px 1px 2px rgba(0, 0, 0, 0.3));\n",
              "      fill: #FFFFFF;\n",
              "    }\n",
              "  </style>\n",
              "\n",
              "      <script>\n",
              "        const buttonEl =\n",
              "          document.querySelector('#df-f0faaca0-8412-4b1e-bef7-e4310ae8c1b6 button.colab-df-convert');\n",
              "        buttonEl.style.display =\n",
              "          google.colab.kernel.accessAllowed ? 'block' : 'none';\n",
              "\n",
              "        async function convertToInteractive(key) {\n",
              "          const element = document.querySelector('#df-f0faaca0-8412-4b1e-bef7-e4310ae8c1b6');\n",
              "          const dataTable =\n",
              "            await google.colab.kernel.invokeFunction('convertToInteractive',\n",
              "                                                     [key], {});\n",
              "          if (!dataTable) return;\n",
              "\n",
              "          const docLinkHtml = 'Like what you see? Visit the ' +\n",
              "            '<a target=\"_blank\" href=https://colab.research.google.com/notebooks/data_table.ipynb>data table notebook</a>'\n",
              "            + ' to learn more about interactive tables.';\n",
              "          element.innerHTML = '';\n",
              "          dataTable['output_type'] = 'display_data';\n",
              "          await google.colab.output.renderOutput(dataTable, element);\n",
              "          const docLink = document.createElement('div');\n",
              "          docLink.innerHTML = docLinkHtml;\n",
              "          element.appendChild(docLink);\n",
              "        }\n",
              "      </script>\n",
              "    </div>\n",
              "  </div>\n",
              "  "
            ]
          },
          "metadata": {},
          "execution_count": 853
        }
      ]
    },
    {
      "cell_type": "code",
      "source": [
        ""
      ],
      "metadata": {
        "id": "-hbZjpSj_94t"
      },
      "execution_count": null,
      "outputs": []
    },
    {
      "cell_type": "code",
      "execution_count": null,
      "metadata": {
        "id": "_32qc3Eq80Dn"
      },
      "outputs": [],
      "source": [
        "train_new.head()"
      ]
    },
    {
      "cell_type": "code",
      "execution_count": null,
      "metadata": {
        "id": "3RIph8xsAE2v"
      },
      "outputs": [],
      "source": [
        "train_new.isna().sum()"
      ]
    },
    {
      "cell_type": "code",
      "execution_count": null,
      "metadata": {
        "id": "Y2mH7FbJAsDc"
      },
      "outputs": [],
      "source": [
        "train_new.job_benefits.unique()"
      ]
    },
    {
      "cell_type": "code",
      "execution_count": null,
      "metadata": {
        "id": "B5z3CVhrAvnh"
      },
      "outputs": [],
      "source": [
        "print(train_new.job_benefits.unique()[0])\n",
        "print(train_new.job_benefits.unique()[1])"
      ]
    },
    {
      "cell_type": "code",
      "execution_count": null,
      "metadata": {
        "id": "coeelYdkAbt2"
      },
      "outputs": [],
      "source": [
        "len(train_new.job_benefits.unique())"
      ]
    },
    {
      "cell_type": "code",
      "execution_count": null,
      "metadata": {
        "id": "MmKROJa1EzxE"
      },
      "outputs": [],
      "source": [
        "# train_new['education_level']\n",
        "len(coba_coba['education_level'].unique())\n",
        "# for i in coba_coba['education_level'].unique():\n",
        "    # print(i)"
      ]
    },
    {
      "cell_type": "code",
      "execution_count": null,
      "metadata": {
        "id": "hzjJqXx_FsaZ"
      },
      "outputs": [],
      "source": [
        "for i in range(len(coba_coba['education_level'].unique())):\n",
        "  print(coba_coba['education_level'].unique()[i],\":\", len(coba_coba['education_level'].unique()[i]))"
      ]
    },
    {
      "cell_type": "code",
      "execution_count": null,
      "metadata": {
        "id": "86HbCU2IOynl"
      },
      "outputs": [],
      "source": [
        "train_new.head()"
      ]
    },
    {
      "cell_type": "code",
      "execution_count": null,
      "metadata": {
        "id": "_EAJDnqDPcz5"
      },
      "outputs": [],
      "source": [
        "train_new.shape[0] / len(train_new['location'].unique())"
      ]
    },
    {
      "cell_type": "code",
      "execution_count": null,
      "metadata": {
        "id": "uZVG1DyFP73C"
      },
      "outputs": [],
      "source": [
        "len(train_new[train_new['location'] == 'Balikpapan'])"
      ]
    },
    {
      "cell_type": "code",
      "execution_count": null,
      "metadata": {
        "id": "lRbn3OrsQEPQ"
      },
      "outputs": [],
      "source": [
        "len(train_new[train_new['location'] == 'Jakarta Pusat'])"
      ]
    },
    {
      "cell_type": "markdown",
      "metadata": {
        "id": "foryarprQTtE"
      },
      "source": [
        "# JUST A JOKE"
      ]
    },
    {
      "cell_type": "code",
      "execution_count": null,
      "metadata": {
        "id": "nXqwt7rGkhMo"
      },
      "outputs": [],
      "source": [
        "train_new.isna().sum()"
      ]
    },
    {
      "cell_type": "code",
      "execution_count": null,
      "metadata": {
        "id": "iVh63qA8kl2-"
      },
      "outputs": [],
      "source": [
        "sns.boxplot(train_new['salary'])"
      ]
    },
    {
      "cell_type": "code",
      "execution_count": null,
      "metadata": {
        "id": "Eg7lz2MQQTXT"
      },
      "outputs": [],
      "source": [
        "import seaborn as sns\n",
        "\n",
        "sns.heatmap(\n",
        "    train_new.corr(),\n",
        "    annot=True\n",
        ")"
      ]
    },
    {
      "cell_type": "code",
      "execution_count": null,
      "metadata": {
        "id": "qaVUEZPHQqaN"
      },
      "outputs": [],
      "source": [
        "from sklearn.model_selection import train_test_split\n",
        "\n",
        "X = train_new[[\n",
        "               'career_level', \n",
        "               'experience_level',\n",
        "              #  'location', \n",
        "              #  'education_level', \n",
        "              #  'employment_type'\n",
        "               ]]\n",
        "\n",
        "y = train_new[['salary']]\n",
        "\n",
        "X_train, X_test, y_train, y_test = train_test_split(X, y, random_state=0, test_size=0.2)"
      ]
    },
    {
      "cell_type": "code",
      "execution_count": null,
      "metadata": {
        "id": "5fO3lARuRyUO"
      },
      "outputs": [],
      "source": [
        "print(X_train.size)\n",
        "print(X_test.size)\n",
        "print(y_train.size)\n",
        "print(y_test.size)"
      ]
    },
    {
      "cell_type": "code",
      "execution_count": null,
      "metadata": {
        "id": "_ztTN2SNRhg2"
      },
      "outputs": [],
      "source": [
        "from sklearn.linear_model import LinearRegression\n",
        "\n",
        "model = LinearRegression()\n",
        "\n",
        "model.fit(X, y)"
      ]
    },
    {
      "cell_type": "code",
      "execution_count": null,
      "metadata": {
        "id": "ZGnh8WCUTQCL"
      },
      "outputs": [],
      "source": [
        "train_new.head(1)"
      ]
    },
    {
      "cell_type": "code",
      "execution_count": null,
      "metadata": {
        "id": "vhDdH66UTMjA"
      },
      "outputs": [],
      "source": [
        "from sklearn.metrics import r2_score\n",
        "from sklearn.metrics import mean_squared_error\n",
        "\n",
        "y_pred = model.predict(X_test)\n",
        "print(\"R2 Score\\t: \", round(r2_score(y_test, y_pred), 4))\n",
        "print(\"RMSE\\t\\t: \", np.sqrt(mean_squared_error(y_test, y_pred)))"
      ]
    },
    {
      "cell_type": "code",
      "source": [
        "from sklearn.metrics import r2_score\n",
        "\n",
        "y_pred = model.predict(X_test)\n",
        "print(round(r2_score(y_test, y_pred), 4))"
      ],
      "metadata": {
        "id": "PIgPOiaM7FWu"
      },
      "execution_count": null,
      "outputs": []
    },
    {
      "cell_type": "code",
      "execution_count": null,
      "metadata": {
        "id": "WqXmW0jvRvaJ"
      },
      "outputs": [],
      "source": [
        "print(\"Estimasi Gaji Rp\",round(model.predict([[22, 0, 5]])[0][0]))"
      ]
    },
    {
      "cell_type": "markdown",
      "metadata": {
        "id": "TmpTV-NHT9qo"
      },
      "source": [
        "## coba2 part 2"
      ]
    },
    {
      "cell_type": "code",
      "execution_count": null,
      "metadata": {
        "id": "-9lJU26cT_K6"
      },
      "outputs": [],
      "source": [
        "# from sklearn.model_selection import train_test_split\n",
        "\n",
        "# X = train_new[['career_level', 'experience_level']]\n",
        "# y = train_new[['salary']]\n",
        "\n",
        "# X_train, X_test, y_train, y_test = train_test_split(X, y, random_state=0, test_size=0.2)\n"
      ]
    },
    {
      "cell_type": "code",
      "execution_count": null,
      "metadata": {
        "id": "KBOtcWOZT_K7"
      },
      "outputs": [],
      "source": [
        "# X_train.size"
      ]
    },
    {
      "cell_type": "code",
      "execution_count": null,
      "metadata": {
        "id": "o-CEpgyYT_K7"
      },
      "outputs": [],
      "source": [
        "# X_test.size"
      ]
    },
    {
      "cell_type": "code",
      "execution_count": null,
      "metadata": {
        "id": "lfM0PhRHT_K7"
      },
      "outputs": [],
      "source": [
        "# from sklearn.linear_model import LinearRegression\n",
        "\n",
        "# model = LinearRegression()\n",
        "\n",
        "# model.fit(X, y)"
      ]
    },
    {
      "cell_type": "code",
      "execution_count": null,
      "metadata": {
        "id": "wW54hBYHT_K8"
      },
      "outputs": [],
      "source": [
        "# train_new.head(1)"
      ]
    },
    {
      "cell_type": "code",
      "execution_count": null,
      "metadata": {
        "id": "yCgYs6CsT_K8"
      },
      "outputs": [],
      "source": [
        "# from sklearn.metrics import r2_score\n",
        "\n",
        "# y_pred = model.predict(X_test)\n",
        "# r2_score(y_test, y_pred)"
      ]
    },
    {
      "cell_type": "code",
      "execution_count": null,
      "metadata": {
        "id": "9Y1IEhmUT_K8"
      },
      "outputs": [],
      "source": [
        "# print(\"Estimasi Gaji Rp\",round(model.predict([[0, 2]])[0][0]))"
      ]
    },
    {
      "cell_type": "code",
      "execution_count": null,
      "metadata": {
        "id": "vhJtxEqlURSz"
      },
      "outputs": [],
      "source": [
        "# sns.regplot(train_new['career_level'], train_new['salary'])"
      ]
    },
    {
      "cell_type": "code",
      "execution_count": null,
      "metadata": {
        "id": "j7MValWvVVjb"
      },
      "outputs": [],
      "source": [
        "# sns.regplot(train_new['experience_level'], train_new['salary'])"
      ]
    },
    {
      "cell_type": "code",
      "execution_count": null,
      "metadata": {
        "id": "sjNOGacIViFh"
      },
      "outputs": [],
      "source": [
        "# sns.regplot(train_new['education_level'], train_new['salary'])"
      ]
    },
    {
      "cell_type": "code",
      "execution_count": null,
      "metadata": {
        "id": "mBP914R7Ues1"
      },
      "outputs": [],
      "source": [
        "# sns.boxplot(train_new['salary'])"
      ]
    },
    {
      "cell_type": "code",
      "execution_count": null,
      "metadata": {
        "id": "2_93pmIDUxbz"
      },
      "outputs": [],
      "source": [
        "# sns.violinplot(train_new['salary'])"
      ]
    },
    {
      "cell_type": "code",
      "execution_count": null,
      "metadata": {
        "id": "X7jQ7tjed_R9"
      },
      "outputs": [],
      "source": [
        ""
      ]
    },
    {
      "cell_type": "code",
      "execution_count": null,
      "metadata": {
        "id": "8e4dZMUNeEP3"
      },
      "outputs": [],
      "source": [
        ""
      ]
    }
  ],
  "metadata": {
    "colab": {
      "collapsed_sections": [],
      "name": "Find-It-DaBes.ipynb",
      "provenance": [],
      "include_colab_link": true
    },
    "kernelspec": {
      "display_name": "Python 3",
      "name": "python3"
    },
    "language_info": {
      "name": "python"
    }
  },
  "nbformat": 4,
  "nbformat_minor": 0
}